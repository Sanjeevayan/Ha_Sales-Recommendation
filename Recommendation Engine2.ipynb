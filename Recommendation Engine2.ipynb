{
 "cells": [
  {
   "cell_type": "code",
   "execution_count": 1,
   "metadata": {},
   "outputs": [],
   "source": [
    "import pandas as pd\n",
    "import numpy as np\n",
    "import seaborn as sns\n",
    "import matplotlib.pyplot as plt\n",
    "%matplotlib inline\n",
    "from sklearn.feature_extraction.text import TfidfVectorizer, CountVectorizer\n",
    "from surprise import Reader, Dataset\n",
    "from surprise.model_selection import cross_validate\n",
    "from surprise import accuracy\n",
    "from surprise.model_selection import train_test_split\n",
    "from surprise import SVD, evaluate\n",
    "from surprise import NMF\n",
    "from surprise import BaselineOnly\n",
    "from surprise import KNNBasic"
   ]
  },
  {
   "cell_type": "code",
   "execution_count": 2,
   "metadata": {},
   "outputs": [],
   "source": [
    "def mask(column,threshold):\n",
    "    counts = pd.value_counts(column)\n",
    "    mask = column.isin(counts[counts > threshold].index)\n",
    "    column[~mask] = \"others\"\n",
    "    return column"
   ]
  },
  {
   "cell_type": "code",
   "execution_count": 3,
   "metadata": {},
   "outputs": [
    {
     "name": "stderr",
     "output_type": "stream",
     "text": [
      "/Library/Frameworks/Python.framework/Versions/3.5/lib/python3.5/site-packages/ipykernel_launcher.py:4: SettingWithCopyWarning: \n",
      "A value is trying to be set on a copy of a slice from a DataFrame\n",
      "\n",
      "See the caveats in the documentation: http://pandas.pydata.org/pandas-docs/stable/indexing.html#indexing-view-versus-copy\n",
      "  after removing the cwd from sys.path.\n"
     ]
    },
    {
     "data": {
      "text/plain": [
       "Customer_Name      141799\n",
       "Account_ID          14265\n",
       "Bookings Amount    141799\n",
       "TX_Date            141799\n",
       "Seats              141799\n",
       "GEO                 98553\n",
       "BOARD_GEO          141799\n",
       "VERTICAL           125251\n",
       "Product_Family     141799\n",
       "Deal Type          141799\n",
       "Product Type       141799\n",
       "Product Segment    135956\n",
       "Contract Start     113938\n",
       "Contract End        89477\n",
       "PRODUCTCODE        141799\n",
       "FAMILY             139802\n",
       "NAME               141799\n",
       "DESCRIPTION         87502\n",
       "TX_Date_mod        141799\n",
       "dtype: int64"
      ]
     },
     "execution_count": 3,
     "metadata": {},
     "output_type": "execute_result"
    }
   ],
   "source": [
    "bookings_data = pd.read_csv('BookingsData.csv')\n",
    "\n",
    "bookings_data = bookings_data.drop_duplicates()\n",
    "bookings_data[\"Customer_Name\"] = bookings_data[\"Customer_Name\"].str.lower()\n",
    "bookings_data[\"Product_Family\"] = bookings_data[\"Product_Family\"].str.lower()\n",
    "bookings_data[\"BOARD_GEO\"] = bookings_data[\"BOARD_GEO\"].str.lower()\n",
    "bookings_data[\"Customer_Name\"] = bookings_data[\"Customer_Name\"].replace('\\s+', ' ', regex=True)\n",
    "bookings_data[\"TX_Date_mod\"] = pd.to_datetime(bookings_data['TX_Date'])\n",
    "bookings_data = bookings_data[(bookings_data[\"TX_Date_mod\"] > '2012')]\n",
    "bookings_data.loc[(bookings_data['Product_Family'] == \"lan desk (other)\"),\"Product_Family\"] = 'others'\n",
    "\n",
    "# if trying classification\n",
    "bookings_data['Product_Family'] = mask(bookings_data['Product_Family'], 50)\n",
    "bookings_data['PRODUCTCODE'] = mask(bookings_data['PRODUCTCODE'], 20)\n",
    "bookings_data.count()"
   ]
  },
  {
   "cell_type": "code",
   "execution_count": 4,
   "metadata": {},
   "outputs": [],
   "source": [
    "bookings_data['Seats_mod'] = np.where(bookings_data['Seats'] > 0, 1, (np.where(bookings_data['Seats'] == 0, 0, -1)))"
   ]
  },
  {
   "cell_type": "code",
   "execution_count": 5,
   "metadata": {},
   "outputs": [
    {
     "name": "stdout",
     "output_type": "stream",
     "text": [
      "(2572, 3)\n",
      "21762\n",
      "1308\n",
      "23664\n",
      "(149892, 26)\n"
     ]
    }
   ],
   "source": [
    "company_standards = pd.read_csv('standardization2.csv')\n",
    "company_standards_2 = pd.read_csv('standardization2_2.csv')\n",
    "print(company_standards.shape)\n",
    "\n",
    "bookings_data = bookings_data.merge(company_standards, left_on='Customer_Name', right_on='Similar_Name', how='outer')\n",
    "bookings_data = bookings_data.rename(index=str, columns={\"Customer_Name_x\": \"Customer_Name_old1\", \n",
    "                                                         \"Customer_Name_y\": \"Customer_Name\"})\n",
    "\n",
    "bookings_data = bookings_data.merge(company_standards_2, left_on='Customer_Name', right_on='Similar_Name', how='outer')\n",
    "bookings_data = bookings_data.rename(index=str, columns={\"Customer_Name_x\": \"Customer_Name_old2\", \n",
    "                                                         \"Customer_Name_y\": \"Customer_Name\"})\n",
    "\n",
    "bookings_data[\"Customer_Name\"] = np.where(bookings_data.Customer_Name.isna(), \n",
    "                    np.where(bookings_data.Customer_Name_old2.isna(), bookings_data.Customer_Name_old1 , bookings_data.Customer_Name_old2),\n",
    "                                       bookings_data.Customer_Name)   \n",
    "\n",
    "print(len(bookings_data.Customer_Name.unique()))\n",
    "print(len(bookings_data.Customer_Name_old2.unique()))\n",
    "print(len(bookings_data.Customer_Name_old1.unique()))\n",
    "print(bookings_data.shape)"
   ]
  },
  {
   "cell_type": "code",
   "execution_count": 6,
   "metadata": {},
   "outputs": [
    {
     "data": {
      "text/html": [
       "<div>\n",
       "<style scoped>\n",
       "    .dataframe tbody tr th:only-of-type {\n",
       "        vertical-align: middle;\n",
       "    }\n",
       "\n",
       "    .dataframe tbody tr th {\n",
       "        vertical-align: top;\n",
       "    }\n",
       "\n",
       "    .dataframe thead tr th {\n",
       "        text-align: left;\n",
       "    }\n",
       "\n",
       "    .dataframe thead tr:last-of-type th {\n",
       "        text-align: right;\n",
       "    }\n",
       "</style>\n",
       "<table border=\"1\" class=\"dataframe\">\n",
       "  <thead>\n",
       "    <tr>\n",
       "      <th></th>\n",
       "      <th colspan=\"21\" halign=\"left\">Seats_mod</th>\n",
       "    </tr>\n",
       "    <tr>\n",
       "      <th>Product_Family</th>\n",
       "      <th>anti virus</th>\n",
       "      <th>application manager</th>\n",
       "      <th>application virtualization</th>\n",
       "      <th>asset manager</th>\n",
       "      <th>datanow</th>\n",
       "      <th>desktopnow</th>\n",
       "      <th>discovery</th>\n",
       "      <th>dsm</th>\n",
       "      <th>emss</th>\n",
       "      <th>environment manager</th>\n",
       "      <th>...</th>\n",
       "      <th>security suite</th>\n",
       "      <th>server manager</th>\n",
       "      <th>service desk</th>\n",
       "      <th>service management</th>\n",
       "      <th>shavlik oem royalties</th>\n",
       "      <th>shavlik patch</th>\n",
       "      <th>uem other</th>\n",
       "      <th>user management</th>\n",
       "      <th>xtraction</th>\n",
       "      <th>xtraction oem royalty</th>\n",
       "    </tr>\n",
       "    <tr>\n",
       "      <th>Customer_Name</th>\n",
       "      <th></th>\n",
       "      <th></th>\n",
       "      <th></th>\n",
       "      <th></th>\n",
       "      <th></th>\n",
       "      <th></th>\n",
       "      <th></th>\n",
       "      <th></th>\n",
       "      <th></th>\n",
       "      <th></th>\n",
       "      <th></th>\n",
       "      <th></th>\n",
       "      <th></th>\n",
       "      <th></th>\n",
       "      <th></th>\n",
       "      <th></th>\n",
       "      <th></th>\n",
       "      <th></th>\n",
       "      <th></th>\n",
       "      <th></th>\n",
       "      <th></th>\n",
       "    </tr>\n",
       "  </thead>\n",
       "  <tbody>\n",
       "    <tr>\n",
       "      <th>interceramic</th>\n",
       "      <td>0.0</td>\n",
       "      <td>0.0</td>\n",
       "      <td>0.0</td>\n",
       "      <td>0.0</td>\n",
       "      <td>0.0</td>\n",
       "      <td>0.0</td>\n",
       "      <td>0.0</td>\n",
       "      <td>0.0</td>\n",
       "      <td>0.0</td>\n",
       "      <td>0.0</td>\n",
       "      <td>...</td>\n",
       "      <td>5.0</td>\n",
       "      <td>0.0</td>\n",
       "      <td>0.0</td>\n",
       "      <td>0.0</td>\n",
       "      <td>0.0</td>\n",
       "      <td>0.0</td>\n",
       "      <td>0.0</td>\n",
       "      <td>0.0</td>\n",
       "      <td>0.0</td>\n",
       "      <td>0.0</td>\n",
       "    </tr>\n",
       "    <tr>\n",
       "      <th>movitex</th>\n",
       "      <td>1.0</td>\n",
       "      <td>0.0</td>\n",
       "      <td>0.0</td>\n",
       "      <td>0.0</td>\n",
       "      <td>0.0</td>\n",
       "      <td>0.0</td>\n",
       "      <td>0.0</td>\n",
       "      <td>0.0</td>\n",
       "      <td>0.0</td>\n",
       "      <td>0.0</td>\n",
       "      <td>...</td>\n",
       "      <td>0.0</td>\n",
       "      <td>0.0</td>\n",
       "      <td>0.0</td>\n",
       "      <td>0.0</td>\n",
       "      <td>0.0</td>\n",
       "      <td>0.0</td>\n",
       "      <td>0.0</td>\n",
       "      <td>0.0</td>\n",
       "      <td>0.0</td>\n",
       "      <td>0.0</td>\n",
       "    </tr>\n",
       "    <tr>\n",
       "      <th>oao bank petrocommerz</th>\n",
       "      <td>0.0</td>\n",
       "      <td>0.0</td>\n",
       "      <td>0.0</td>\n",
       "      <td>0.0</td>\n",
       "      <td>0.0</td>\n",
       "      <td>0.0</td>\n",
       "      <td>0.0</td>\n",
       "      <td>0.0</td>\n",
       "      <td>0.0</td>\n",
       "      <td>0.0</td>\n",
       "      <td>...</td>\n",
       "      <td>0.0</td>\n",
       "      <td>0.0</td>\n",
       "      <td>0.0</td>\n",
       "      <td>0.0</td>\n",
       "      <td>0.0</td>\n",
       "      <td>0.0</td>\n",
       "      <td>0.0</td>\n",
       "      <td>0.0</td>\n",
       "      <td>0.0</td>\n",
       "      <td>0.0</td>\n",
       "    </tr>\n",
       "    <tr>\n",
       "      <th>##(##)############</th>\n",
       "      <td>0.0</td>\n",
       "      <td>0.0</td>\n",
       "      <td>0.0</td>\n",
       "      <td>0.0</td>\n",
       "      <td>0.0</td>\n",
       "      <td>0.0</td>\n",
       "      <td>0.0</td>\n",
       "      <td>0.0</td>\n",
       "      <td>0.0</td>\n",
       "      <td>0.0</td>\n",
       "      <td>...</td>\n",
       "      <td>3.0</td>\n",
       "      <td>0.0</td>\n",
       "      <td>0.0</td>\n",
       "      <td>0.0</td>\n",
       "      <td>0.0</td>\n",
       "      <td>0.0</td>\n",
       "      <td>0.0</td>\n",
       "      <td>0.0</td>\n",
       "      <td>0.0</td>\n",
       "      <td>0.0</td>\n",
       "    </tr>\n",
       "    <tr>\n",
       "      <th>#eská lékárna a.s.</th>\n",
       "      <td>0.0</td>\n",
       "      <td>0.0</td>\n",
       "      <td>0.0</td>\n",
       "      <td>0.0</td>\n",
       "      <td>0.0</td>\n",
       "      <td>0.0</td>\n",
       "      <td>0.0</td>\n",
       "      <td>0.0</td>\n",
       "      <td>0.0</td>\n",
       "      <td>0.0</td>\n",
       "      <td>...</td>\n",
       "      <td>2.0</td>\n",
       "      <td>0.0</td>\n",
       "      <td>0.0</td>\n",
       "      <td>0.0</td>\n",
       "      <td>0.0</td>\n",
       "      <td>0.0</td>\n",
       "      <td>0.0</td>\n",
       "      <td>0.0</td>\n",
       "      <td>0.0</td>\n",
       "      <td>0.0</td>\n",
       "    </tr>\n",
       "    <tr>\n",
       "      <th>'s heeren loo</th>\n",
       "      <td>0.0</td>\n",
       "      <td>0.0</td>\n",
       "      <td>0.0</td>\n",
       "      <td>0.0</td>\n",
       "      <td>0.0</td>\n",
       "      <td>0.0</td>\n",
       "      <td>0.0</td>\n",
       "      <td>0.0</td>\n",
       "      <td>0.0</td>\n",
       "      <td>0.0</td>\n",
       "      <td>...</td>\n",
       "      <td>0.0</td>\n",
       "      <td>0.0</td>\n",
       "      <td>0.0</td>\n",
       "      <td>0.0</td>\n",
       "      <td>0.0</td>\n",
       "      <td>0.0</td>\n",
       "      <td>0.0</td>\n",
       "      <td>0.0</td>\n",
       "      <td>0.0</td>\n",
       "      <td>0.0</td>\n",
       "    </tr>\n",
       "    <tr>\n",
       "      <th>'t sit</th>\n",
       "      <td>0.0</td>\n",
       "      <td>0.0</td>\n",
       "      <td>0.0</td>\n",
       "      <td>0.0</td>\n",
       "      <td>0.0</td>\n",
       "      <td>0.0</td>\n",
       "      <td>0.0</td>\n",
       "      <td>0.0</td>\n",
       "      <td>0.0</td>\n",
       "      <td>0.0</td>\n",
       "      <td>...</td>\n",
       "      <td>0.0</td>\n",
       "      <td>0.0</td>\n",
       "      <td>0.0</td>\n",
       "      <td>0.0</td>\n",
       "      <td>0.0</td>\n",
       "      <td>0.0</td>\n",
       "      <td>0.0</td>\n",
       "      <td>0.0</td>\n",
       "      <td>0.0</td>\n",
       "      <td>0.0</td>\n",
       "    </tr>\n",
       "    <tr>\n",
       "      <th>(bet365) hillside (new media) ltd</th>\n",
       "      <td>0.0</td>\n",
       "      <td>0.0</td>\n",
       "      <td>0.0</td>\n",
       "      <td>0.0</td>\n",
       "      <td>0.0</td>\n",
       "      <td>0.0</td>\n",
       "      <td>0.0</td>\n",
       "      <td>0.0</td>\n",
       "      <td>0.0</td>\n",
       "      <td>0.0</td>\n",
       "      <td>...</td>\n",
       "      <td>0.0</td>\n",
       "      <td>0.0</td>\n",
       "      <td>0.0</td>\n",
       "      <td>0.0</td>\n",
       "      <td>0.0</td>\n",
       "      <td>0.0</td>\n",
       "      <td>0.0</td>\n",
       "      <td>0.0</td>\n",
       "      <td>0.0</td>\n",
       "      <td>0.0</td>\n",
       "    </tr>\n",
       "    <tr>\n",
       "      <th>(dhhs) us department of health &amp;</th>\n",
       "      <td>0.0</td>\n",
       "      <td>0.0</td>\n",
       "      <td>0.0</td>\n",
       "      <td>0.0</td>\n",
       "      <td>0.0</td>\n",
       "      <td>0.0</td>\n",
       "      <td>0.0</td>\n",
       "      <td>0.0</td>\n",
       "      <td>0.0</td>\n",
       "      <td>0.0</td>\n",
       "      <td>...</td>\n",
       "      <td>3.0</td>\n",
       "      <td>0.0</td>\n",
       "      <td>2.0</td>\n",
       "      <td>0.0</td>\n",
       "      <td>0.0</td>\n",
       "      <td>0.0</td>\n",
       "      <td>0.0</td>\n",
       "      <td>3.0</td>\n",
       "      <td>0.0</td>\n",
       "      <td>0.0</td>\n",
       "    </tr>\n",
       "    <tr>\n",
       "      <th>(dhhs) us department of health &amp; human services</th>\n",
       "      <td>0.0</td>\n",
       "      <td>0.0</td>\n",
       "      <td>0.0</td>\n",
       "      <td>0.0</td>\n",
       "      <td>0.0</td>\n",
       "      <td>0.0</td>\n",
       "      <td>0.0</td>\n",
       "      <td>0.0</td>\n",
       "      <td>0.0</td>\n",
       "      <td>0.0</td>\n",
       "      <td>...</td>\n",
       "      <td>0.0</td>\n",
       "      <td>0.0</td>\n",
       "      <td>0.0</td>\n",
       "      <td>0.0</td>\n",
       "      <td>0.0</td>\n",
       "      <td>0.0</td>\n",
       "      <td>0.0</td>\n",
       "      <td>1.0</td>\n",
       "      <td>1.0</td>\n",
       "      <td>0.0</td>\n",
       "    </tr>\n",
       "    <tr>\n",
       "      <th>(fcos)</th>\n",
       "      <td>0.0</td>\n",
       "      <td>0.0</td>\n",
       "      <td>0.0</td>\n",
       "      <td>0.0</td>\n",
       "      <td>0.0</td>\n",
       "      <td>0.0</td>\n",
       "      <td>0.0</td>\n",
       "      <td>0.0</td>\n",
       "      <td>0.0</td>\n",
       "      <td>0.0</td>\n",
       "      <td>...</td>\n",
       "      <td>0.0</td>\n",
       "      <td>0.0</td>\n",
       "      <td>0.0</td>\n",
       "      <td>0.0</td>\n",
       "      <td>0.0</td>\n",
       "      <td>0.0</td>\n",
       "      <td>0.0</td>\n",
       "      <td>0.0</td>\n",
       "      <td>0.0</td>\n",
       "      <td>0.0</td>\n",
       "    </tr>\n",
       "    <tr>\n",
       "      <th>**radiant systems-do not use</th>\n",
       "      <td>1.0</td>\n",
       "      <td>0.0</td>\n",
       "      <td>0.0</td>\n",
       "      <td>0.0</td>\n",
       "      <td>0.0</td>\n",
       "      <td>0.0</td>\n",
       "      <td>0.0</td>\n",
       "      <td>0.0</td>\n",
       "      <td>0.0</td>\n",
       "      <td>0.0</td>\n",
       "      <td>...</td>\n",
       "      <td>2.0</td>\n",
       "      <td>0.0</td>\n",
       "      <td>0.0</td>\n",
       "      <td>0.0</td>\n",
       "      <td>0.0</td>\n",
       "      <td>0.0</td>\n",
       "      <td>0.0</td>\n",
       "      <td>0.0</td>\n",
       "      <td>0.0</td>\n",
       "      <td>0.0</td>\n",
       "    </tr>\n",
       "    <tr>\n",
       "      <th>0</th>\n",
       "      <td>0.0</td>\n",
       "      <td>0.0</td>\n",
       "      <td>0.0</td>\n",
       "      <td>0.0</td>\n",
       "      <td>0.0</td>\n",
       "      <td>0.0</td>\n",
       "      <td>0.0</td>\n",
       "      <td>0.0</td>\n",
       "      <td>0.0</td>\n",
       "      <td>0.0</td>\n",
       "      <td>...</td>\n",
       "      <td>0.0</td>\n",
       "      <td>0.0</td>\n",
       "      <td>0.0</td>\n",
       "      <td>0.0</td>\n",
       "      <td>0.0</td>\n",
       "      <td>0.0</td>\n",
       "      <td>0.0</td>\n",
       "      <td>0.0</td>\n",
       "      <td>0.0</td>\n",
       "      <td>0.0</td>\n",
       "    </tr>\n",
       "    <tr>\n",
       "      <th>1-800 east west mortgage</th>\n",
       "      <td>0.0</td>\n",
       "      <td>0.0</td>\n",
       "      <td>0.0</td>\n",
       "      <td>0.0</td>\n",
       "      <td>0.0</td>\n",
       "      <td>0.0</td>\n",
       "      <td>0.0</td>\n",
       "      <td>0.0</td>\n",
       "      <td>0.0</td>\n",
       "      <td>0.0</td>\n",
       "      <td>...</td>\n",
       "      <td>0.0</td>\n",
       "      <td>0.0</td>\n",
       "      <td>0.0</td>\n",
       "      <td>0.0</td>\n",
       "      <td>0.0</td>\n",
       "      <td>0.0</td>\n",
       "      <td>0.0</td>\n",
       "      <td>0.0</td>\n",
       "      <td>0.0</td>\n",
       "      <td>0.0</td>\n",
       "    </tr>\n",
       "    <tr>\n",
       "      <th>1-net singapore pte ltd</th>\n",
       "      <td>0.0</td>\n",
       "      <td>0.0</td>\n",
       "      <td>0.0</td>\n",
       "      <td>0.0</td>\n",
       "      <td>0.0</td>\n",
       "      <td>0.0</td>\n",
       "      <td>0.0</td>\n",
       "      <td>0.0</td>\n",
       "      <td>4.0</td>\n",
       "      <td>0.0</td>\n",
       "      <td>...</td>\n",
       "      <td>0.0</td>\n",
       "      <td>0.0</td>\n",
       "      <td>0.0</td>\n",
       "      <td>0.0</td>\n",
       "      <td>0.0</td>\n",
       "      <td>0.0</td>\n",
       "      <td>0.0</td>\n",
       "      <td>0.0</td>\n",
       "      <td>0.0</td>\n",
       "      <td>0.0</td>\n",
       "    </tr>\n",
       "    <tr>\n",
       "      <th>102 israel fire and rescue service</th>\n",
       "      <td>0.0</td>\n",
       "      <td>0.0</td>\n",
       "      <td>0.0</td>\n",
       "      <td>0.0</td>\n",
       "      <td>0.0</td>\n",
       "      <td>0.0</td>\n",
       "      <td>0.0</td>\n",
       "      <td>0.0</td>\n",
       "      <td>0.0</td>\n",
       "      <td>0.0</td>\n",
       "      <td>...</td>\n",
       "      <td>0.0</td>\n",
       "      <td>0.0</td>\n",
       "      <td>0.0</td>\n",
       "      <td>0.0</td>\n",
       "      <td>0.0</td>\n",
       "      <td>0.0</td>\n",
       "      <td>0.0</td>\n",
       "      <td>0.0</td>\n",
       "      <td>0.0</td>\n",
       "      <td>0.0</td>\n",
       "    </tr>\n",
       "    <tr>\n",
       "      <th>1199nbf</th>\n",
       "      <td>0.0</td>\n",
       "      <td>0.0</td>\n",
       "      <td>0.0</td>\n",
       "      <td>0.0</td>\n",
       "      <td>0.0</td>\n",
       "      <td>0.0</td>\n",
       "      <td>0.0</td>\n",
       "      <td>0.0</td>\n",
       "      <td>0.0</td>\n",
       "      <td>0.0</td>\n",
       "      <td>...</td>\n",
       "      <td>0.0</td>\n",
       "      <td>0.0</td>\n",
       "      <td>0.0</td>\n",
       "      <td>0.0</td>\n",
       "      <td>0.0</td>\n",
       "      <td>0.0</td>\n",
       "      <td>0.0</td>\n",
       "      <td>0.0</td>\n",
       "      <td>0.0</td>\n",
       "      <td>0.0</td>\n",
       "    </tr>\n",
       "    <tr>\n",
       "      <th>1199seiu l benefit &amp; pension f</th>\n",
       "      <td>0.0</td>\n",
       "      <td>0.0</td>\n",
       "      <td>0.0</td>\n",
       "      <td>0.0</td>\n",
       "      <td>0.0</td>\n",
       "      <td>1.0</td>\n",
       "      <td>0.0</td>\n",
       "      <td>0.0</td>\n",
       "      <td>0.0</td>\n",
       "      <td>1.0</td>\n",
       "      <td>...</td>\n",
       "      <td>0.0</td>\n",
       "      <td>0.0</td>\n",
       "      <td>0.0</td>\n",
       "      <td>0.0</td>\n",
       "      <td>0.0</td>\n",
       "      <td>0.0</td>\n",
       "      <td>0.0</td>\n",
       "      <td>0.0</td>\n",
       "      <td>0.0</td>\n",
       "      <td>0.0</td>\n",
       "    </tr>\n",
       "    <tr>\n",
       "      <th>121 financial credit union</th>\n",
       "      <td>0.0</td>\n",
       "      <td>0.0</td>\n",
       "      <td>0.0</td>\n",
       "      <td>0.0</td>\n",
       "      <td>0.0</td>\n",
       "      <td>0.0</td>\n",
       "      <td>0.0</td>\n",
       "      <td>0.0</td>\n",
       "      <td>0.0</td>\n",
       "      <td>0.0</td>\n",
       "      <td>...</td>\n",
       "      <td>0.0</td>\n",
       "      <td>0.0</td>\n",
       "      <td>3.0</td>\n",
       "      <td>0.0</td>\n",
       "      <td>0.0</td>\n",
       "      <td>0.0</td>\n",
       "      <td>0.0</td>\n",
       "      <td>0.0</td>\n",
       "      <td>0.0</td>\n",
       "      <td>0.0</td>\n",
       "    </tr>\n",
       "    <tr>\n",
       "      <th>1469-kona surf partners</th>\n",
       "      <td>0.0</td>\n",
       "      <td>0.0</td>\n",
       "      <td>0.0</td>\n",
       "      <td>0.0</td>\n",
       "      <td>0.0</td>\n",
       "      <td>0.0</td>\n",
       "      <td>0.0</td>\n",
       "      <td>0.0</td>\n",
       "      <td>0.0</td>\n",
       "      <td>0.0</td>\n",
       "      <td>...</td>\n",
       "      <td>0.0</td>\n",
       "      <td>0.0</td>\n",
       "      <td>0.0</td>\n",
       "      <td>0.0</td>\n",
       "      <td>0.0</td>\n",
       "      <td>0.0</td>\n",
       "      <td>0.0</td>\n",
       "      <td>0.0</td>\n",
       "      <td>0.0</td>\n",
       "      <td>0.0</td>\n",
       "    </tr>\n",
       "    <tr>\n",
       "      <th>1st alliance lending</th>\n",
       "      <td>0.0</td>\n",
       "      <td>0.0</td>\n",
       "      <td>0.0</td>\n",
       "      <td>0.0</td>\n",
       "      <td>0.0</td>\n",
       "      <td>0.0</td>\n",
       "      <td>0.0</td>\n",
       "      <td>0.0</td>\n",
       "      <td>0.0</td>\n",
       "      <td>0.0</td>\n",
       "      <td>...</td>\n",
       "      <td>0.0</td>\n",
       "      <td>0.0</td>\n",
       "      <td>0.0</td>\n",
       "      <td>0.0</td>\n",
       "      <td>0.0</td>\n",
       "      <td>0.0</td>\n",
       "      <td>0.0</td>\n",
       "      <td>0.0</td>\n",
       "      <td>0.0</td>\n",
       "      <td>0.0</td>\n",
       "    </tr>\n",
       "    <tr>\n",
       "      <th>1st alliance lending, llc</th>\n",
       "      <td>0.0</td>\n",
       "      <td>0.0</td>\n",
       "      <td>0.0</td>\n",
       "      <td>0.0</td>\n",
       "      <td>1.0</td>\n",
       "      <td>10.0</td>\n",
       "      <td>0.0</td>\n",
       "      <td>0.0</td>\n",
       "      <td>0.0</td>\n",
       "      <td>0.0</td>\n",
       "      <td>...</td>\n",
       "      <td>0.0</td>\n",
       "      <td>0.0</td>\n",
       "      <td>0.0</td>\n",
       "      <td>0.0</td>\n",
       "      <td>0.0</td>\n",
       "      <td>0.0</td>\n",
       "      <td>0.0</td>\n",
       "      <td>0.0</td>\n",
       "      <td>0.0</td>\n",
       "      <td>0.0</td>\n",
       "    </tr>\n",
       "    <tr>\n",
       "      <th>1st global</th>\n",
       "      <td>0.0</td>\n",
       "      <td>0.0</td>\n",
       "      <td>0.0</td>\n",
       "      <td>0.0</td>\n",
       "      <td>0.0</td>\n",
       "      <td>0.0</td>\n",
       "      <td>0.0</td>\n",
       "      <td>0.0</td>\n",
       "      <td>0.0</td>\n",
       "      <td>0.0</td>\n",
       "      <td>...</td>\n",
       "      <td>0.0</td>\n",
       "      <td>0.0</td>\n",
       "      <td>0.0</td>\n",
       "      <td>0.0</td>\n",
       "      <td>0.0</td>\n",
       "      <td>0.0</td>\n",
       "      <td>0.0</td>\n",
       "      <td>0.0</td>\n",
       "      <td>0.0</td>\n",
       "      <td>0.0</td>\n",
       "    </tr>\n",
       "    <tr>\n",
       "      <th>1st midamerica credit union</th>\n",
       "      <td>0.0</td>\n",
       "      <td>0.0</td>\n",
       "      <td>0.0</td>\n",
       "      <td>0.0</td>\n",
       "      <td>0.0</td>\n",
       "      <td>0.0</td>\n",
       "      <td>0.0</td>\n",
       "      <td>0.0</td>\n",
       "      <td>0.0</td>\n",
       "      <td>0.0</td>\n",
       "      <td>...</td>\n",
       "      <td>0.0</td>\n",
       "      <td>0.0</td>\n",
       "      <td>0.0</td>\n",
       "      <td>0.0</td>\n",
       "      <td>0.0</td>\n",
       "      <td>0.0</td>\n",
       "      <td>0.0</td>\n",
       "      <td>0.0</td>\n",
       "      <td>0.0</td>\n",
       "      <td>0.0</td>\n",
       "    </tr>\n",
       "    <tr>\n",
       "      <th>1st national bank of south florida</th>\n",
       "      <td>0.0</td>\n",
       "      <td>0.0</td>\n",
       "      <td>0.0</td>\n",
       "      <td>0.0</td>\n",
       "      <td>0.0</td>\n",
       "      <td>0.0</td>\n",
       "      <td>0.0</td>\n",
       "      <td>0.0</td>\n",
       "      <td>0.0</td>\n",
       "      <td>0.0</td>\n",
       "      <td>...</td>\n",
       "      <td>0.0</td>\n",
       "      <td>0.0</td>\n",
       "      <td>0.0</td>\n",
       "      <td>0.0</td>\n",
       "      <td>0.0</td>\n",
       "      <td>0.0</td>\n",
       "      <td>0.0</td>\n",
       "      <td>0.0</td>\n",
       "      <td>0.0</td>\n",
       "      <td>0.0</td>\n",
       "    </tr>\n",
       "    <tr>\n",
       "      <th>1st partners &amp; co., inc.</th>\n",
       "      <td>0.0</td>\n",
       "      <td>0.0</td>\n",
       "      <td>0.0</td>\n",
       "      <td>0.0</td>\n",
       "      <td>0.0</td>\n",
       "      <td>0.0</td>\n",
       "      <td>0.0</td>\n",
       "      <td>0.0</td>\n",
       "      <td>1.0</td>\n",
       "      <td>0.0</td>\n",
       "      <td>...</td>\n",
       "      <td>0.0</td>\n",
       "      <td>0.0</td>\n",
       "      <td>0.0</td>\n",
       "      <td>0.0</td>\n",
       "      <td>0.0</td>\n",
       "      <td>0.0</td>\n",
       "      <td>0.0</td>\n",
       "      <td>0.0</td>\n",
       "      <td>0.0</td>\n",
       "      <td>0.0</td>\n",
       "    </tr>\n",
       "    <tr>\n",
       "      <th>1st source bank</th>\n",
       "      <td>0.0</td>\n",
       "      <td>0.0</td>\n",
       "      <td>0.0</td>\n",
       "      <td>0.0</td>\n",
       "      <td>0.0</td>\n",
       "      <td>0.0</td>\n",
       "      <td>0.0</td>\n",
       "      <td>0.0</td>\n",
       "      <td>0.0</td>\n",
       "      <td>0.0</td>\n",
       "      <td>...</td>\n",
       "      <td>0.0</td>\n",
       "      <td>0.0</td>\n",
       "      <td>0.0</td>\n",
       "      <td>0.0</td>\n",
       "      <td>0.0</td>\n",
       "      <td>0.0</td>\n",
       "      <td>0.0</td>\n",
       "      <td>0.0</td>\n",
       "      <td>0.0</td>\n",
       "      <td>0.0</td>\n",
       "    </tr>\n",
       "    <tr>\n",
       "      <th>1st united bank</th>\n",
       "      <td>0.0</td>\n",
       "      <td>0.0</td>\n",
       "      <td>0.0</td>\n",
       "      <td>0.0</td>\n",
       "      <td>0.0</td>\n",
       "      <td>0.0</td>\n",
       "      <td>0.0</td>\n",
       "      <td>0.0</td>\n",
       "      <td>0.0</td>\n",
       "      <td>0.0</td>\n",
       "      <td>...</td>\n",
       "      <td>0.0</td>\n",
       "      <td>0.0</td>\n",
       "      <td>0.0</td>\n",
       "      <td>0.0</td>\n",
       "      <td>0.0</td>\n",
       "      <td>1.0</td>\n",
       "      <td>0.0</td>\n",
       "      <td>0.0</td>\n",
       "      <td>0.0</td>\n",
       "      <td>0.0</td>\n",
       "    </tr>\n",
       "    <tr>\n",
       "      <th>2 sisters food group</th>\n",
       "      <td>0.0</td>\n",
       "      <td>0.0</td>\n",
       "      <td>0.0</td>\n",
       "      <td>0.0</td>\n",
       "      <td>0.0</td>\n",
       "      <td>0.0</td>\n",
       "      <td>0.0</td>\n",
       "      <td>0.0</td>\n",
       "      <td>0.0</td>\n",
       "      <td>0.0</td>\n",
       "      <td>...</td>\n",
       "      <td>0.0</td>\n",
       "      <td>0.0</td>\n",
       "      <td>4.0</td>\n",
       "      <td>0.0</td>\n",
       "      <td>0.0</td>\n",
       "      <td>0.0</td>\n",
       "      <td>0.0</td>\n",
       "      <td>1.0</td>\n",
       "      <td>0.0</td>\n",
       "      <td>0.0</td>\n",
       "    </tr>\n",
       "    <tr>\n",
       "      <th>20 minutes france sas</th>\n",
       "      <td>6.0</td>\n",
       "      <td>0.0</td>\n",
       "      <td>0.0</td>\n",
       "      <td>0.0</td>\n",
       "      <td>0.0</td>\n",
       "      <td>0.0</td>\n",
       "      <td>0.0</td>\n",
       "      <td>0.0</td>\n",
       "      <td>0.0</td>\n",
       "      <td>0.0</td>\n",
       "      <td>...</td>\n",
       "      <td>5.0</td>\n",
       "      <td>0.0</td>\n",
       "      <td>0.0</td>\n",
       "      <td>0.0</td>\n",
       "      <td>0.0</td>\n",
       "      <td>0.0</td>\n",
       "      <td>0.0</td>\n",
       "      <td>0.0</td>\n",
       "      <td>0.0</td>\n",
       "      <td>0.0</td>\n",
       "    </tr>\n",
       "    <tr>\n",
       "      <th>...</th>\n",
       "      <td>...</td>\n",
       "      <td>...</td>\n",
       "      <td>...</td>\n",
       "      <td>...</td>\n",
       "      <td>...</td>\n",
       "      <td>...</td>\n",
       "      <td>...</td>\n",
       "      <td>...</td>\n",
       "      <td>...</td>\n",
       "      <td>...</td>\n",
       "      <td>...</td>\n",
       "      <td>...</td>\n",
       "      <td>...</td>\n",
       "      <td>...</td>\n",
       "      <td>...</td>\n",
       "      <td>...</td>\n",
       "      <td>...</td>\n",
       "      <td>...</td>\n",
       "      <td>...</td>\n",
       "      <td>...</td>\n",
       "      <td>...</td>\n",
       "    </tr>\n",
       "    <tr>\n",
       "      <th>zunhammer gmbh</th>\n",
       "      <td>0.0</td>\n",
       "      <td>0.0</td>\n",
       "      <td>0.0</td>\n",
       "      <td>0.0</td>\n",
       "      <td>0.0</td>\n",
       "      <td>0.0</td>\n",
       "      <td>0.0</td>\n",
       "      <td>1.0</td>\n",
       "      <td>0.0</td>\n",
       "      <td>0.0</td>\n",
       "      <td>...</td>\n",
       "      <td>0.0</td>\n",
       "      <td>0.0</td>\n",
       "      <td>0.0</td>\n",
       "      <td>0.0</td>\n",
       "      <td>0.0</td>\n",
       "      <td>0.0</td>\n",
       "      <td>0.0</td>\n",
       "      <td>0.0</td>\n",
       "      <td>0.0</td>\n",
       "      <td>0.0</td>\n",
       "    </tr>\n",
       "    <tr>\n",
       "      <th>zurcher hichschuke fur angewandte</th>\n",
       "      <td>0.0</td>\n",
       "      <td>0.0</td>\n",
       "      <td>0.0</td>\n",
       "      <td>0.0</td>\n",
       "      <td>0.0</td>\n",
       "      <td>0.0</td>\n",
       "      <td>0.0</td>\n",
       "      <td>0.0</td>\n",
       "      <td>0.0</td>\n",
       "      <td>0.0</td>\n",
       "      <td>...</td>\n",
       "      <td>0.0</td>\n",
       "      <td>0.0</td>\n",
       "      <td>0.0</td>\n",
       "      <td>0.0</td>\n",
       "      <td>0.0</td>\n",
       "      <td>0.0</td>\n",
       "      <td>0.0</td>\n",
       "      <td>0.0</td>\n",
       "      <td>0.0</td>\n",
       "      <td>0.0</td>\n",
       "    </tr>\n",
       "    <tr>\n",
       "      <th>zurcher hichschuke fur angewandte wissens</th>\n",
       "      <td>0.0</td>\n",
       "      <td>0.0</td>\n",
       "      <td>0.0</td>\n",
       "      <td>0.0</td>\n",
       "      <td>0.0</td>\n",
       "      <td>0.0</td>\n",
       "      <td>0.0</td>\n",
       "      <td>0.0</td>\n",
       "      <td>0.0</td>\n",
       "      <td>0.0</td>\n",
       "      <td>...</td>\n",
       "      <td>0.0</td>\n",
       "      <td>0.0</td>\n",
       "      <td>0.0</td>\n",
       "      <td>0.0</td>\n",
       "      <td>0.0</td>\n",
       "      <td>0.0</td>\n",
       "      <td>0.0</td>\n",
       "      <td>0.0</td>\n",
       "      <td>0.0</td>\n",
       "      <td>0.0</td>\n",
       "    </tr>\n",
       "    <tr>\n",
       "      <th>zurich academy of applied sciences wissens</th>\n",
       "      <td>0.0</td>\n",
       "      <td>0.0</td>\n",
       "      <td>0.0</td>\n",
       "      <td>0.0</td>\n",
       "      <td>0.0</td>\n",
       "      <td>0.0</td>\n",
       "      <td>0.0</td>\n",
       "      <td>0.0</td>\n",
       "      <td>0.0</td>\n",
       "      <td>0.0</td>\n",
       "      <td>...</td>\n",
       "      <td>0.0</td>\n",
       "      <td>0.0</td>\n",
       "      <td>0.0</td>\n",
       "      <td>0.0</td>\n",
       "      <td>0.0</td>\n",
       "      <td>0.0</td>\n",
       "      <td>0.0</td>\n",
       "      <td>0.0</td>\n",
       "      <td>0.0</td>\n",
       "      <td>0.0</td>\n",
       "    </tr>\n",
       "    <tr>\n",
       "      <th>zurich compania de seguros s.a.</th>\n",
       "      <td>0.0</td>\n",
       "      <td>0.0</td>\n",
       "      <td>0.0</td>\n",
       "      <td>0.0</td>\n",
       "      <td>0.0</td>\n",
       "      <td>0.0</td>\n",
       "      <td>0.0</td>\n",
       "      <td>0.0</td>\n",
       "      <td>0.0</td>\n",
       "      <td>0.0</td>\n",
       "      <td>...</td>\n",
       "      <td>0.0</td>\n",
       "      <td>0.0</td>\n",
       "      <td>0.0</td>\n",
       "      <td>0.0</td>\n",
       "      <td>0.0</td>\n",
       "      <td>0.0</td>\n",
       "      <td>0.0</td>\n",
       "      <td>0.0</td>\n",
       "      <td>0.0</td>\n",
       "      <td>0.0</td>\n",
       "    </tr>\n",
       "    <tr>\n",
       "      <th>zurich financial services (iom) gro</th>\n",
       "      <td>0.0</td>\n",
       "      <td>0.0</td>\n",
       "      <td>0.0</td>\n",
       "      <td>0.0</td>\n",
       "      <td>0.0</td>\n",
       "      <td>0.0</td>\n",
       "      <td>0.0</td>\n",
       "      <td>0.0</td>\n",
       "      <td>0.0</td>\n",
       "      <td>0.0</td>\n",
       "      <td>...</td>\n",
       "      <td>3.0</td>\n",
       "      <td>1.0</td>\n",
       "      <td>0.0</td>\n",
       "      <td>0.0</td>\n",
       "      <td>0.0</td>\n",
       "      <td>0.0</td>\n",
       "      <td>0.0</td>\n",
       "      <td>0.0</td>\n",
       "      <td>0.0</td>\n",
       "      <td>0.0</td>\n",
       "    </tr>\n",
       "    <tr>\n",
       "      <th>zurich financial services (iom) group</th>\n",
       "      <td>0.0</td>\n",
       "      <td>0.0</td>\n",
       "      <td>0.0</td>\n",
       "      <td>0.0</td>\n",
       "      <td>0.0</td>\n",
       "      <td>0.0</td>\n",
       "      <td>0.0</td>\n",
       "      <td>0.0</td>\n",
       "      <td>0.0</td>\n",
       "      <td>0.0</td>\n",
       "      <td>...</td>\n",
       "      <td>3.0</td>\n",
       "      <td>0.0</td>\n",
       "      <td>0.0</td>\n",
       "      <td>0.0</td>\n",
       "      <td>0.0</td>\n",
       "      <td>0.0</td>\n",
       "      <td>0.0</td>\n",
       "      <td>0.0</td>\n",
       "      <td>0.0</td>\n",
       "      <td>0.0</td>\n",
       "    </tr>\n",
       "    <tr>\n",
       "      <th>zurich financial services australia limited</th>\n",
       "      <td>0.0</td>\n",
       "      <td>0.0</td>\n",
       "      <td>0.0</td>\n",
       "      <td>0.0</td>\n",
       "      <td>0.0</td>\n",
       "      <td>0.0</td>\n",
       "      <td>0.0</td>\n",
       "      <td>0.0</td>\n",
       "      <td>0.0</td>\n",
       "      <td>0.0</td>\n",
       "      <td>...</td>\n",
       "      <td>0.0</td>\n",
       "      <td>0.0</td>\n",
       "      <td>0.0</td>\n",
       "      <td>0.0</td>\n",
       "      <td>0.0</td>\n",
       "      <td>0.0</td>\n",
       "      <td>0.0</td>\n",
       "      <td>0.0</td>\n",
       "      <td>0.0</td>\n",
       "      <td>0.0</td>\n",
       "    </tr>\n",
       "    <tr>\n",
       "      <th>zurich hochschule der kuenste</th>\n",
       "      <td>0.0</td>\n",
       "      <td>0.0</td>\n",
       "      <td>0.0</td>\n",
       "      <td>0.0</td>\n",
       "      <td>0.0</td>\n",
       "      <td>0.0</td>\n",
       "      <td>0.0</td>\n",
       "      <td>0.0</td>\n",
       "      <td>0.0</td>\n",
       "      <td>0.0</td>\n",
       "      <td>...</td>\n",
       "      <td>0.0</td>\n",
       "      <td>0.0</td>\n",
       "      <td>0.0</td>\n",
       "      <td>0.0</td>\n",
       "      <td>0.0</td>\n",
       "      <td>0.0</td>\n",
       "      <td>0.0</td>\n",
       "      <td>0.0</td>\n",
       "      <td>0.0</td>\n",
       "      <td>0.0</td>\n",
       "    </tr>\n",
       "    <tr>\n",
       "      <th>zurich insurance</th>\n",
       "      <td>0.0</td>\n",
       "      <td>0.0</td>\n",
       "      <td>0.0</td>\n",
       "      <td>0.0</td>\n",
       "      <td>0.0</td>\n",
       "      <td>0.0</td>\n",
       "      <td>0.0</td>\n",
       "      <td>0.0</td>\n",
       "      <td>0.0</td>\n",
       "      <td>0.0</td>\n",
       "      <td>...</td>\n",
       "      <td>0.0</td>\n",
       "      <td>0.0</td>\n",
       "      <td>0.0</td>\n",
       "      <td>0.0</td>\n",
       "      <td>0.0</td>\n",
       "      <td>0.0</td>\n",
       "      <td>0.0</td>\n",
       "      <td>0.0</td>\n",
       "      <td>0.0</td>\n",
       "      <td>0.0</td>\n",
       "    </tr>\n",
       "    <tr>\n",
       "      <th>zuwe hofpoort ziekenhuis</th>\n",
       "      <td>0.0</td>\n",
       "      <td>0.0</td>\n",
       "      <td>0.0</td>\n",
       "      <td>0.0</td>\n",
       "      <td>0.0</td>\n",
       "      <td>0.0</td>\n",
       "      <td>0.0</td>\n",
       "      <td>0.0</td>\n",
       "      <td>0.0</td>\n",
       "      <td>0.0</td>\n",
       "      <td>...</td>\n",
       "      <td>0.0</td>\n",
       "      <td>0.0</td>\n",
       "      <td>0.0</td>\n",
       "      <td>0.0</td>\n",
       "      <td>0.0</td>\n",
       "      <td>0.0</td>\n",
       "      <td>0.0</td>\n",
       "      <td>0.0</td>\n",
       "      <td>0.0</td>\n",
       "      <td>0.0</td>\n",
       "    </tr>\n",
       "    <tr>\n",
       "      <th>zuyderland mc</th>\n",
       "      <td>0.0</td>\n",
       "      <td>0.0</td>\n",
       "      <td>0.0</td>\n",
       "      <td>0.0</td>\n",
       "      <td>0.0</td>\n",
       "      <td>0.0</td>\n",
       "      <td>0.0</td>\n",
       "      <td>0.0</td>\n",
       "      <td>0.0</td>\n",
       "      <td>0.0</td>\n",
       "      <td>...</td>\n",
       "      <td>0.0</td>\n",
       "      <td>0.0</td>\n",
       "      <td>0.0</td>\n",
       "      <td>0.0</td>\n",
       "      <td>0.0</td>\n",
       "      <td>0.0</td>\n",
       "      <td>0.0</td>\n",
       "      <td>0.0</td>\n",
       "      <td>0.0</td>\n",
       "      <td>0.0</td>\n",
       "    </tr>\n",
       "    <tr>\n",
       "      <th>zuyderland medisch centrum</th>\n",
       "      <td>0.0</td>\n",
       "      <td>0.0</td>\n",
       "      <td>0.0</td>\n",
       "      <td>0.0</td>\n",
       "      <td>0.0</td>\n",
       "      <td>0.0</td>\n",
       "      <td>0.0</td>\n",
       "      <td>0.0</td>\n",
       "      <td>0.0</td>\n",
       "      <td>0.0</td>\n",
       "      <td>...</td>\n",
       "      <td>0.0</td>\n",
       "      <td>0.0</td>\n",
       "      <td>0.0</td>\n",
       "      <td>0.0</td>\n",
       "      <td>0.0</td>\n",
       "      <td>0.0</td>\n",
       "      <td>0.0</td>\n",
       "      <td>0.0</td>\n",
       "      <td>0.0</td>\n",
       "      <td>0.0</td>\n",
       "    </tr>\n",
       "    <tr>\n",
       "      <th>zv kommunale verkehrssicherheit</th>\n",
       "      <td>0.0</td>\n",
       "      <td>0.0</td>\n",
       "      <td>0.0</td>\n",
       "      <td>0.0</td>\n",
       "      <td>0.0</td>\n",
       "      <td>0.0</td>\n",
       "      <td>0.0</td>\n",
       "      <td>0.0</td>\n",
       "      <td>0.0</td>\n",
       "      <td>0.0</td>\n",
       "      <td>...</td>\n",
       "      <td>0.0</td>\n",
       "      <td>0.0</td>\n",
       "      <td>0.0</td>\n",
       "      <td>0.0</td>\n",
       "      <td>0.0</td>\n",
       "      <td>0.0</td>\n",
       "      <td>0.0</td>\n",
       "      <td>0.0</td>\n",
       "      <td>0.0</td>\n",
       "      <td>0.0</td>\n",
       "    </tr>\n",
       "    <tr>\n",
       "      <th>zv kommunale verkehrssicherheit obe</th>\n",
       "      <td>0.0</td>\n",
       "      <td>0.0</td>\n",
       "      <td>0.0</td>\n",
       "      <td>0.0</td>\n",
       "      <td>0.0</td>\n",
       "      <td>0.0</td>\n",
       "      <td>0.0</td>\n",
       "      <td>0.0</td>\n",
       "      <td>0.0</td>\n",
       "      <td>0.0</td>\n",
       "      <td>...</td>\n",
       "      <td>0.0</td>\n",
       "      <td>0.0</td>\n",
       "      <td>0.0</td>\n",
       "      <td>0.0</td>\n",
       "      <td>0.0</td>\n",
       "      <td>0.0</td>\n",
       "      <td>0.0</td>\n",
       "      <td>0.0</td>\n",
       "      <td>0.0</td>\n",
       "      <td>0.0</td>\n",
       "    </tr>\n",
       "    <tr>\n",
       "      <th>zv kommunale verkehrssicherheit oberland</th>\n",
       "      <td>0.0</td>\n",
       "      <td>0.0</td>\n",
       "      <td>0.0</td>\n",
       "      <td>0.0</td>\n",
       "      <td>0.0</td>\n",
       "      <td>0.0</td>\n",
       "      <td>0.0</td>\n",
       "      <td>0.0</td>\n",
       "      <td>0.0</td>\n",
       "      <td>0.0</td>\n",
       "      <td>...</td>\n",
       "      <td>0.0</td>\n",
       "      <td>0.0</td>\n",
       "      <td>0.0</td>\n",
       "      <td>0.0</td>\n",
       "      <td>0.0</td>\n",
       "      <td>0.0</td>\n",
       "      <td>0.0</td>\n",
       "      <td>0.0</td>\n",
       "      <td>0.0</td>\n",
       "      <td>0.0</td>\n",
       "    </tr>\n",
       "    <tr>\n",
       "      <th>zvei zentralverband elektrotechnik-und elektronikindustrie</th>\n",
       "      <td>0.0</td>\n",
       "      <td>0.0</td>\n",
       "      <td>0.0</td>\n",
       "      <td>0.0</td>\n",
       "      <td>0.0</td>\n",
       "      <td>0.0</td>\n",
       "      <td>0.0</td>\n",
       "      <td>0.0</td>\n",
       "      <td>0.0</td>\n",
       "      <td>0.0</td>\n",
       "      <td>...</td>\n",
       "      <td>0.0</td>\n",
       "      <td>0.0</td>\n",
       "      <td>0.0</td>\n",
       "      <td>0.0</td>\n",
       "      <td>0.0</td>\n",
       "      <td>0.0</td>\n",
       "      <td>0.0</td>\n",
       "      <td>0.0</td>\n",
       "      <td>0.0</td>\n",
       "      <td>0.0</td>\n",
       "    </tr>\n",
       "    <tr>\n",
       "      <th>zweckverband abfallverwertung südostbayern</th>\n",
       "      <td>0.0</td>\n",
       "      <td>0.0</td>\n",
       "      <td>0.0</td>\n",
       "      <td>0.0</td>\n",
       "      <td>0.0</td>\n",
       "      <td>0.0</td>\n",
       "      <td>0.0</td>\n",
       "      <td>0.0</td>\n",
       "      <td>0.0</td>\n",
       "      <td>0.0</td>\n",
       "      <td>...</td>\n",
       "      <td>0.0</td>\n",
       "      <td>0.0</td>\n",
       "      <td>0.0</td>\n",
       "      <td>0.0</td>\n",
       "      <td>0.0</td>\n",
       "      <td>0.0</td>\n",
       "      <td>0.0</td>\n",
       "      <td>0.0</td>\n",
       "      <td>0.0</td>\n",
       "      <td>0.0</td>\n",
       "    </tr>\n",
       "    <tr>\n",
       "      <th>zweckverband kommunale verkehrsüberwachung südostbayern</th>\n",
       "      <td>0.0</td>\n",
       "      <td>0.0</td>\n",
       "      <td>0.0</td>\n",
       "      <td>0.0</td>\n",
       "      <td>0.0</td>\n",
       "      <td>0.0</td>\n",
       "      <td>0.0</td>\n",
       "      <td>0.0</td>\n",
       "      <td>0.0</td>\n",
       "      <td>0.0</td>\n",
       "      <td>...</td>\n",
       "      <td>0.0</td>\n",
       "      <td>0.0</td>\n",
       "      <td>0.0</td>\n",
       "      <td>0.0</td>\n",
       "      <td>0.0</td>\n",
       "      <td>0.0</td>\n",
       "      <td>0.0</td>\n",
       "      <td>0.0</td>\n",
       "      <td>0.0</td>\n",
       "      <td>0.0</td>\n",
       "    </tr>\n",
       "    <tr>\n",
       "      <th>zwembad de meerval</th>\n",
       "      <td>0.0</td>\n",
       "      <td>0.0</td>\n",
       "      <td>0.0</td>\n",
       "      <td>0.0</td>\n",
       "      <td>0.0</td>\n",
       "      <td>0.0</td>\n",
       "      <td>0.0</td>\n",
       "      <td>0.0</td>\n",
       "      <td>0.0</td>\n",
       "      <td>0.0</td>\n",
       "      <td>...</td>\n",
       "      <td>0.0</td>\n",
       "      <td>0.0</td>\n",
       "      <td>0.0</td>\n",
       "      <td>0.0</td>\n",
       "      <td>0.0</td>\n",
       "      <td>0.0</td>\n",
       "      <td>0.0</td>\n",
       "      <td>0.0</td>\n",
       "      <td>0.0</td>\n",
       "      <td>0.0</td>\n",
       "    </tr>\n",
       "    <tr>\n",
       "      <th>zwick gmbh &amp; co kg</th>\n",
       "      <td>0.0</td>\n",
       "      <td>0.0</td>\n",
       "      <td>0.0</td>\n",
       "      <td>0.0</td>\n",
       "      <td>0.0</td>\n",
       "      <td>0.0</td>\n",
       "      <td>0.0</td>\n",
       "      <td>3.0</td>\n",
       "      <td>0.0</td>\n",
       "      <td>0.0</td>\n",
       "      <td>...</td>\n",
       "      <td>0.0</td>\n",
       "      <td>0.0</td>\n",
       "      <td>0.0</td>\n",
       "      <td>0.0</td>\n",
       "      <td>0.0</td>\n",
       "      <td>0.0</td>\n",
       "      <td>1.0</td>\n",
       "      <td>0.0</td>\n",
       "      <td>0.0</td>\n",
       "      <td>0.0</td>\n",
       "    </tr>\n",
       "    <tr>\n",
       "      <th>zwicker &amp; associates</th>\n",
       "      <td>7.0</td>\n",
       "      <td>0.0</td>\n",
       "      <td>0.0</td>\n",
       "      <td>0.0</td>\n",
       "      <td>0.0</td>\n",
       "      <td>0.0</td>\n",
       "      <td>0.0</td>\n",
       "      <td>0.0</td>\n",
       "      <td>0.0</td>\n",
       "      <td>0.0</td>\n",
       "      <td>...</td>\n",
       "      <td>8.0</td>\n",
       "      <td>0.0</td>\n",
       "      <td>0.0</td>\n",
       "      <td>0.0</td>\n",
       "      <td>0.0</td>\n",
       "      <td>0.0</td>\n",
       "      <td>0.0</td>\n",
       "      <td>0.0</td>\n",
       "      <td>0.0</td>\n",
       "      <td>0.0</td>\n",
       "    </tr>\n",
       "    <tr>\n",
       "      <th>zwp ingenieur-ag</th>\n",
       "      <td>0.0</td>\n",
       "      <td>0.0</td>\n",
       "      <td>0.0</td>\n",
       "      <td>0.0</td>\n",
       "      <td>0.0</td>\n",
       "      <td>0.0</td>\n",
       "      <td>0.0</td>\n",
       "      <td>9.0</td>\n",
       "      <td>0.0</td>\n",
       "      <td>0.0</td>\n",
       "      <td>...</td>\n",
       "      <td>0.0</td>\n",
       "      <td>0.0</td>\n",
       "      <td>0.0</td>\n",
       "      <td>0.0</td>\n",
       "      <td>0.0</td>\n",
       "      <td>0.0</td>\n",
       "      <td>0.0</td>\n",
       "      <td>0.0</td>\n",
       "      <td>0.0</td>\n",
       "      <td>0.0</td>\n",
       "    </tr>\n",
       "    <tr>\n",
       "      <th>zynga</th>\n",
       "      <td>0.0</td>\n",
       "      <td>0.0</td>\n",
       "      <td>0.0</td>\n",
       "      <td>0.0</td>\n",
       "      <td>0.0</td>\n",
       "      <td>0.0</td>\n",
       "      <td>0.0</td>\n",
       "      <td>0.0</td>\n",
       "      <td>0.0</td>\n",
       "      <td>0.0</td>\n",
       "      <td>...</td>\n",
       "      <td>0.0</td>\n",
       "      <td>0.0</td>\n",
       "      <td>0.0</td>\n",
       "      <td>0.0</td>\n",
       "      <td>0.0</td>\n",
       "      <td>0.0</td>\n",
       "      <td>0.0</td>\n",
       "      <td>0.0</td>\n",
       "      <td>0.0</td>\n",
       "      <td>0.0</td>\n",
       "    </tr>\n",
       "    <tr>\n",
       "      <th>zürcher kantonalbank (zkb)</th>\n",
       "      <td>0.0</td>\n",
       "      <td>0.0</td>\n",
       "      <td>0.0</td>\n",
       "      <td>0.0</td>\n",
       "      <td>0.0</td>\n",
       "      <td>0.0</td>\n",
       "      <td>0.0</td>\n",
       "      <td>0.0</td>\n",
       "      <td>0.0</td>\n",
       "      <td>0.0</td>\n",
       "      <td>...</td>\n",
       "      <td>0.0</td>\n",
       "      <td>0.0</td>\n",
       "      <td>0.0</td>\n",
       "      <td>0.0</td>\n",
       "      <td>0.0</td>\n",
       "      <td>0.0</td>\n",
       "      <td>0.0</td>\n",
       "      <td>0.0</td>\n",
       "      <td>0.0</td>\n",
       "      <td>0.0</td>\n",
       "    </tr>\n",
       "    <tr>\n",
       "      <th>öbb ikt gmbh</th>\n",
       "      <td>0.0</td>\n",
       "      <td>0.0</td>\n",
       "      <td>0.0</td>\n",
       "      <td>0.0</td>\n",
       "      <td>0.0</td>\n",
       "      <td>3.0</td>\n",
       "      <td>0.0</td>\n",
       "      <td>0.0</td>\n",
       "      <td>0.0</td>\n",
       "      <td>0.0</td>\n",
       "      <td>...</td>\n",
       "      <td>0.0</td>\n",
       "      <td>0.0</td>\n",
       "      <td>0.0</td>\n",
       "      <td>0.0</td>\n",
       "      <td>0.0</td>\n",
       "      <td>0.0</td>\n",
       "      <td>0.0</td>\n",
       "      <td>0.0</td>\n",
       "      <td>0.0</td>\n",
       "      <td>0.0</td>\n",
       "    </tr>\n",
       "    <tr>\n",
       "      <th>östereichischer verband gemeinnütziger bauvereinigungen -</th>\n",
       "      <td>0.0</td>\n",
       "      <td>0.0</td>\n",
       "      <td>0.0</td>\n",
       "      <td>0.0</td>\n",
       "      <td>0.0</td>\n",
       "      <td>0.0</td>\n",
       "      <td>0.0</td>\n",
       "      <td>0.0</td>\n",
       "      <td>0.0</td>\n",
       "      <td>0.0</td>\n",
       "      <td>...</td>\n",
       "      <td>0.0</td>\n",
       "      <td>0.0</td>\n",
       "      <td>0.0</td>\n",
       "      <td>0.0</td>\n",
       "      <td>0.0</td>\n",
       "      <td>0.0</td>\n",
       "      <td>0.0</td>\n",
       "      <td>0.0</td>\n",
       "      <td>0.0</td>\n",
       "      <td>0.0</td>\n",
       "    </tr>\n",
       "    <tr>\n",
       "      <th>österreich werbung</th>\n",
       "      <td>0.0</td>\n",
       "      <td>0.0</td>\n",
       "      <td>0.0</td>\n",
       "      <td>0.0</td>\n",
       "      <td>0.0</td>\n",
       "      <td>0.0</td>\n",
       "      <td>0.0</td>\n",
       "      <td>0.0</td>\n",
       "      <td>0.0</td>\n",
       "      <td>0.0</td>\n",
       "      <td>...</td>\n",
       "      <td>0.0</td>\n",
       "      <td>0.0</td>\n",
       "      <td>0.0</td>\n",
       "      <td>0.0</td>\n",
       "      <td>0.0</td>\n",
       "      <td>1.0</td>\n",
       "      <td>0.0</td>\n",
       "      <td>0.0</td>\n",
       "      <td>0.0</td>\n",
       "      <td>0.0</td>\n",
       "    </tr>\n",
       "    <tr>\n",
       "      <th>österreichische präsidentschaftskanzlei</th>\n",
       "      <td>0.0</td>\n",
       "      <td>1.0</td>\n",
       "      <td>0.0</td>\n",
       "      <td>0.0</td>\n",
       "      <td>0.0</td>\n",
       "      <td>0.0</td>\n",
       "      <td>0.0</td>\n",
       "      <td>0.0</td>\n",
       "      <td>0.0</td>\n",
       "      <td>0.0</td>\n",
       "      <td>...</td>\n",
       "      <td>0.0</td>\n",
       "      <td>0.0</td>\n",
       "      <td>0.0</td>\n",
       "      <td>0.0</td>\n",
       "      <td>0.0</td>\n",
       "      <td>0.0</td>\n",
       "      <td>0.0</td>\n",
       "      <td>0.0</td>\n",
       "      <td>0.0</td>\n",
       "      <td>0.0</td>\n",
       "    </tr>\n",
       "    <tr>\n",
       "      <th>škoda js a.s.</th>\n",
       "      <td>2.0</td>\n",
       "      <td>0.0</td>\n",
       "      <td>0.0</td>\n",
       "      <td>0.0</td>\n",
       "      <td>0.0</td>\n",
       "      <td>0.0</td>\n",
       "      <td>0.0</td>\n",
       "      <td>0.0</td>\n",
       "      <td>0.0</td>\n",
       "      <td>0.0</td>\n",
       "      <td>...</td>\n",
       "      <td>2.0</td>\n",
       "      <td>0.0</td>\n",
       "      <td>0.0</td>\n",
       "      <td>0.0</td>\n",
       "      <td>0.0</td>\n",
       "      <td>0.0</td>\n",
       "      <td>0.0</td>\n",
       "      <td>0.0</td>\n",
       "      <td>0.0</td>\n",
       "      <td>0.0</td>\n",
       "    </tr>\n",
       "  </tbody>\n",
       "</table>\n",
       "<p>21762 rows × 47 columns</p>\n",
       "</div>"
      ],
      "text/plain": [
       "                                                    Seats_mod  \\\n",
       "Product_Family                                     anti virus   \n",
       "Customer_Name                                                   \n",
       " interceramic                                             0.0   \n",
       " movitex                                                  1.0   \n",
       " oao bank petrocommerz                                    0.0   \n",
       "##(##)############                                        0.0   \n",
       "#eská lékárna a.s.                                        0.0   \n",
       "'s heeren loo                                             0.0   \n",
       "'t sit                                                    0.0   \n",
       "(bet365) hillside (new media) ltd                         0.0   \n",
       "(dhhs) us department of health &                          0.0   \n",
       "(dhhs) us department of health & human services           0.0   \n",
       "(fcos)                                                    0.0   \n",
       "**radiant systems-do not use                              1.0   \n",
       "0                                                         0.0   \n",
       "1-800 east west mortgage                                  0.0   \n",
       "1-net singapore pte ltd                                   0.0   \n",
       "102 israel fire and rescue service                        0.0   \n",
       "1199nbf                                                   0.0   \n",
       "1199seiu l benefit & pension f                            0.0   \n",
       "121 financial credit union                                0.0   \n",
       "1469-kona surf partners                                   0.0   \n",
       "1st alliance lending                                      0.0   \n",
       "1st alliance lending, llc                                 0.0   \n",
       "1st global                                                0.0   \n",
       "1st midamerica credit union                               0.0   \n",
       "1st national bank of south florida                        0.0   \n",
       "1st partners & co., inc.                                  0.0   \n",
       "1st source bank                                           0.0   \n",
       "1st united bank                                           0.0   \n",
       "2 sisters food group                                      0.0   \n",
       "20 minutes france sas                                     6.0   \n",
       "...                                                       ...   \n",
       "zunhammer gmbh                                            0.0   \n",
       "zurcher hichschuke fur angewandte                         0.0   \n",
       "zurcher hichschuke fur angewandte wissens                 0.0   \n",
       "zurich academy of applied sciences wissens                0.0   \n",
       "zurich compania de seguros s.a.                           0.0   \n",
       "zurich financial services (iom) gro                       0.0   \n",
       "zurich financial services (iom) group                     0.0   \n",
       "zurich financial services australia limited               0.0   \n",
       "zurich hochschule der kuenste                             0.0   \n",
       "zurich insurance                                          0.0   \n",
       "zuwe hofpoort ziekenhuis                                  0.0   \n",
       "zuyderland mc                                             0.0   \n",
       "zuyderland medisch centrum                                0.0   \n",
       "zv kommunale verkehrssicherheit                           0.0   \n",
       "zv kommunale verkehrssicherheit obe                       0.0   \n",
       "zv kommunale verkehrssicherheit oberland                  0.0   \n",
       "zvei zentralverband elektrotechnik-und elektron...        0.0   \n",
       "zweckverband abfallverwertung südostbayern                0.0   \n",
       "zweckverband kommunale verkehrsüberwachung südo...        0.0   \n",
       "zwembad de meerval                                        0.0   \n",
       "zwick gmbh & co kg                                        0.0   \n",
       "zwicker & associates                                      7.0   \n",
       "zwp ingenieur-ag                                          0.0   \n",
       "zynga                                                     0.0   \n",
       "zürcher kantonalbank (zkb)                                0.0   \n",
       "öbb ikt gmbh                                              0.0   \n",
       "östereichischer verband gemeinnütziger bauverei...        0.0   \n",
       "österreich werbung                                        0.0   \n",
       "österreichische präsidentschaftskanzlei                   0.0   \n",
       "škoda js a.s.                                             2.0   \n",
       "\n",
       "                                                                        \\\n",
       "Product_Family                                     application manager   \n",
       "Customer_Name                                                            \n",
       " interceramic                                                      0.0   \n",
       " movitex                                                           0.0   \n",
       " oao bank petrocommerz                                             0.0   \n",
       "##(##)############                                                 0.0   \n",
       "#eská lékárna a.s.                                                 0.0   \n",
       "'s heeren loo                                                      0.0   \n",
       "'t sit                                                             0.0   \n",
       "(bet365) hillside (new media) ltd                                  0.0   \n",
       "(dhhs) us department of health &                                   0.0   \n",
       "(dhhs) us department of health & human services                    0.0   \n",
       "(fcos)                                                             0.0   \n",
       "**radiant systems-do not use                                       0.0   \n",
       "0                                                                  0.0   \n",
       "1-800 east west mortgage                                           0.0   \n",
       "1-net singapore pte ltd                                            0.0   \n",
       "102 israel fire and rescue service                                 0.0   \n",
       "1199nbf                                                            0.0   \n",
       "1199seiu l benefit & pension f                                     0.0   \n",
       "121 financial credit union                                         0.0   \n",
       "1469-kona surf partners                                            0.0   \n",
       "1st alliance lending                                               0.0   \n",
       "1st alliance lending, llc                                          0.0   \n",
       "1st global                                                         0.0   \n",
       "1st midamerica credit union                                        0.0   \n",
       "1st national bank of south florida                                 0.0   \n",
       "1st partners & co., inc.                                           0.0   \n",
       "1st source bank                                                    0.0   \n",
       "1st united bank                                                    0.0   \n",
       "2 sisters food group                                               0.0   \n",
       "20 minutes france sas                                              0.0   \n",
       "...                                                                ...   \n",
       "zunhammer gmbh                                                     0.0   \n",
       "zurcher hichschuke fur angewandte                                  0.0   \n",
       "zurcher hichschuke fur angewandte wissens                          0.0   \n",
       "zurich academy of applied sciences wissens                         0.0   \n",
       "zurich compania de seguros s.a.                                    0.0   \n",
       "zurich financial services (iom) gro                                0.0   \n",
       "zurich financial services (iom) group                              0.0   \n",
       "zurich financial services australia limited                        0.0   \n",
       "zurich hochschule der kuenste                                      0.0   \n",
       "zurich insurance                                                   0.0   \n",
       "zuwe hofpoort ziekenhuis                                           0.0   \n",
       "zuyderland mc                                                      0.0   \n",
       "zuyderland medisch centrum                                         0.0   \n",
       "zv kommunale verkehrssicherheit                                    0.0   \n",
       "zv kommunale verkehrssicherheit obe                                0.0   \n",
       "zv kommunale verkehrssicherheit oberland                           0.0   \n",
       "zvei zentralverband elektrotechnik-und elektron...                 0.0   \n",
       "zweckverband abfallverwertung südostbayern                         0.0   \n",
       "zweckverband kommunale verkehrsüberwachung südo...                 0.0   \n",
       "zwembad de meerval                                                 0.0   \n",
       "zwick gmbh & co kg                                                 0.0   \n",
       "zwicker & associates                                               0.0   \n",
       "zwp ingenieur-ag                                                   0.0   \n",
       "zynga                                                              0.0   \n",
       "zürcher kantonalbank (zkb)                                         0.0   \n",
       "öbb ikt gmbh                                                       0.0   \n",
       "östereichischer verband gemeinnütziger bauverei...                 0.0   \n",
       "österreich werbung                                                 0.0   \n",
       "österreichische präsidentschaftskanzlei                            1.0   \n",
       "škoda js a.s.                                                      0.0   \n",
       "\n",
       "                                                                               \\\n",
       "Product_Family                                     application virtualization   \n",
       "Customer_Name                                                                   \n",
       " interceramic                                                             0.0   \n",
       " movitex                                                                  0.0   \n",
       " oao bank petrocommerz                                                    0.0   \n",
       "##(##)############                                                        0.0   \n",
       "#eská lékárna a.s.                                                        0.0   \n",
       "'s heeren loo                                                             0.0   \n",
       "'t sit                                                                    0.0   \n",
       "(bet365) hillside (new media) ltd                                         0.0   \n",
       "(dhhs) us department of health &                                          0.0   \n",
       "(dhhs) us department of health & human services                           0.0   \n",
       "(fcos)                                                                    0.0   \n",
       "**radiant systems-do not use                                              0.0   \n",
       "0                                                                         0.0   \n",
       "1-800 east west mortgage                                                  0.0   \n",
       "1-net singapore pte ltd                                                   0.0   \n",
       "102 israel fire and rescue service                                        0.0   \n",
       "1199nbf                                                                   0.0   \n",
       "1199seiu l benefit & pension f                                            0.0   \n",
       "121 financial credit union                                                0.0   \n",
       "1469-kona surf partners                                                   0.0   \n",
       "1st alliance lending                                                      0.0   \n",
       "1st alliance lending, llc                                                 0.0   \n",
       "1st global                                                                0.0   \n",
       "1st midamerica credit union                                               0.0   \n",
       "1st national bank of south florida                                        0.0   \n",
       "1st partners & co., inc.                                                  0.0   \n",
       "1st source bank                                                           0.0   \n",
       "1st united bank                                                           0.0   \n",
       "2 sisters food group                                                      0.0   \n",
       "20 minutes france sas                                                     0.0   \n",
       "...                                                                       ...   \n",
       "zunhammer gmbh                                                            0.0   \n",
       "zurcher hichschuke fur angewandte                                         0.0   \n",
       "zurcher hichschuke fur angewandte wissens                                 0.0   \n",
       "zurich academy of applied sciences wissens                                0.0   \n",
       "zurich compania de seguros s.a.                                           0.0   \n",
       "zurich financial services (iom) gro                                       0.0   \n",
       "zurich financial services (iom) group                                     0.0   \n",
       "zurich financial services australia limited                               0.0   \n",
       "zurich hochschule der kuenste                                             0.0   \n",
       "zurich insurance                                                          0.0   \n",
       "zuwe hofpoort ziekenhuis                                                  0.0   \n",
       "zuyderland mc                                                             0.0   \n",
       "zuyderland medisch centrum                                                0.0   \n",
       "zv kommunale verkehrssicherheit                                           0.0   \n",
       "zv kommunale verkehrssicherheit obe                                       0.0   \n",
       "zv kommunale verkehrssicherheit oberland                                  0.0   \n",
       "zvei zentralverband elektrotechnik-und elektron...                        0.0   \n",
       "zweckverband abfallverwertung südostbayern                                0.0   \n",
       "zweckverband kommunale verkehrsüberwachung südo...                        0.0   \n",
       "zwembad de meerval                                                        0.0   \n",
       "zwick gmbh & co kg                                                        0.0   \n",
       "zwicker & associates                                                      0.0   \n",
       "zwp ingenieur-ag                                                          0.0   \n",
       "zynga                                                                     0.0   \n",
       "zürcher kantonalbank (zkb)                                                0.0   \n",
       "öbb ikt gmbh                                                              0.0   \n",
       "östereichischer verband gemeinnütziger bauverei...                        0.0   \n",
       "österreich werbung                                                        0.0   \n",
       "österreichische präsidentschaftskanzlei                                   0.0   \n",
       "škoda js a.s.                                                             0.0   \n",
       "\n",
       "                                                                          \\\n",
       "Product_Family                                     asset manager datanow   \n",
       "Customer_Name                                                              \n",
       " interceramic                                                0.0     0.0   \n",
       " movitex                                                     0.0     0.0   \n",
       " oao bank petrocommerz                                       0.0     0.0   \n",
       "##(##)############                                           0.0     0.0   \n",
       "#eská lékárna a.s.                                           0.0     0.0   \n",
       "'s heeren loo                                                0.0     0.0   \n",
       "'t sit                                                       0.0     0.0   \n",
       "(bet365) hillside (new media) ltd                            0.0     0.0   \n",
       "(dhhs) us department of health &                             0.0     0.0   \n",
       "(dhhs) us department of health & human services              0.0     0.0   \n",
       "(fcos)                                                       0.0     0.0   \n",
       "**radiant systems-do not use                                 0.0     0.0   \n",
       "0                                                            0.0     0.0   \n",
       "1-800 east west mortgage                                     0.0     0.0   \n",
       "1-net singapore pte ltd                                      0.0     0.0   \n",
       "102 israel fire and rescue service                           0.0     0.0   \n",
       "1199nbf                                                      0.0     0.0   \n",
       "1199seiu l benefit & pension f                               0.0     0.0   \n",
       "121 financial credit union                                   0.0     0.0   \n",
       "1469-kona surf partners                                      0.0     0.0   \n",
       "1st alliance lending                                         0.0     0.0   \n",
       "1st alliance lending, llc                                    0.0     1.0   \n",
       "1st global                                                   0.0     0.0   \n",
       "1st midamerica credit union                                  0.0     0.0   \n",
       "1st national bank of south florida                           0.0     0.0   \n",
       "1st partners & co., inc.                                     0.0     0.0   \n",
       "1st source bank                                              0.0     0.0   \n",
       "1st united bank                                              0.0     0.0   \n",
       "2 sisters food group                                         0.0     0.0   \n",
       "20 minutes france sas                                        0.0     0.0   \n",
       "...                                                          ...     ...   \n",
       "zunhammer gmbh                                               0.0     0.0   \n",
       "zurcher hichschuke fur angewandte                            0.0     0.0   \n",
       "zurcher hichschuke fur angewandte wissens                    0.0     0.0   \n",
       "zurich academy of applied sciences wissens                   0.0     0.0   \n",
       "zurich compania de seguros s.a.                              0.0     0.0   \n",
       "zurich financial services (iom) gro                          0.0     0.0   \n",
       "zurich financial services (iom) group                        0.0     0.0   \n",
       "zurich financial services australia limited                  0.0     0.0   \n",
       "zurich hochschule der kuenste                                0.0     0.0   \n",
       "zurich insurance                                             0.0     0.0   \n",
       "zuwe hofpoort ziekenhuis                                     0.0     0.0   \n",
       "zuyderland mc                                                0.0     0.0   \n",
       "zuyderland medisch centrum                                   0.0     0.0   \n",
       "zv kommunale verkehrssicherheit                              0.0     0.0   \n",
       "zv kommunale verkehrssicherheit obe                          0.0     0.0   \n",
       "zv kommunale verkehrssicherheit oberland                     0.0     0.0   \n",
       "zvei zentralverband elektrotechnik-und elektron...           0.0     0.0   \n",
       "zweckverband abfallverwertung südostbayern                   0.0     0.0   \n",
       "zweckverband kommunale verkehrsüberwachung südo...           0.0     0.0   \n",
       "zwembad de meerval                                           0.0     0.0   \n",
       "zwick gmbh & co kg                                           0.0     0.0   \n",
       "zwicker & associates                                         0.0     0.0   \n",
       "zwp ingenieur-ag                                             0.0     0.0   \n",
       "zynga                                                        0.0     0.0   \n",
       "zürcher kantonalbank (zkb)                                   0.0     0.0   \n",
       "öbb ikt gmbh                                                 0.0     0.0   \n",
       "östereichischer verband gemeinnütziger bauverei...           0.0     0.0   \n",
       "österreich werbung                                           0.0     0.0   \n",
       "österreichische präsidentschaftskanzlei                      0.0     0.0   \n",
       "škoda js a.s.                                                0.0     0.0   \n",
       "\n",
       "                                                                              \\\n",
       "Product_Family                                     desktopnow discovery  dsm   \n",
       "Customer_Name                                                                  \n",
       " interceramic                                             0.0       0.0  0.0   \n",
       " movitex                                                  0.0       0.0  0.0   \n",
       " oao bank petrocommerz                                    0.0       0.0  0.0   \n",
       "##(##)############                                        0.0       0.0  0.0   \n",
       "#eská lékárna a.s.                                        0.0       0.0  0.0   \n",
       "'s heeren loo                                             0.0       0.0  0.0   \n",
       "'t sit                                                    0.0       0.0  0.0   \n",
       "(bet365) hillside (new media) ltd                         0.0       0.0  0.0   \n",
       "(dhhs) us department of health &                          0.0       0.0  0.0   \n",
       "(dhhs) us department of health & human services           0.0       0.0  0.0   \n",
       "(fcos)                                                    0.0       0.0  0.0   \n",
       "**radiant systems-do not use                              0.0       0.0  0.0   \n",
       "0                                                         0.0       0.0  0.0   \n",
       "1-800 east west mortgage                                  0.0       0.0  0.0   \n",
       "1-net singapore pte ltd                                   0.0       0.0  0.0   \n",
       "102 israel fire and rescue service                        0.0       0.0  0.0   \n",
       "1199nbf                                                   0.0       0.0  0.0   \n",
       "1199seiu l benefit & pension f                            1.0       0.0  0.0   \n",
       "121 financial credit union                                0.0       0.0  0.0   \n",
       "1469-kona surf partners                                   0.0       0.0  0.0   \n",
       "1st alliance lending                                      0.0       0.0  0.0   \n",
       "1st alliance lending, llc                                10.0       0.0  0.0   \n",
       "1st global                                                0.0       0.0  0.0   \n",
       "1st midamerica credit union                               0.0       0.0  0.0   \n",
       "1st national bank of south florida                        0.0       0.0  0.0   \n",
       "1st partners & co., inc.                                  0.0       0.0  0.0   \n",
       "1st source bank                                           0.0       0.0  0.0   \n",
       "1st united bank                                           0.0       0.0  0.0   \n",
       "2 sisters food group                                      0.0       0.0  0.0   \n",
       "20 minutes france sas                                     0.0       0.0  0.0   \n",
       "...                                                       ...       ...  ...   \n",
       "zunhammer gmbh                                            0.0       0.0  1.0   \n",
       "zurcher hichschuke fur angewandte                         0.0       0.0  0.0   \n",
       "zurcher hichschuke fur angewandte wissens                 0.0       0.0  0.0   \n",
       "zurich academy of applied sciences wissens                0.0       0.0  0.0   \n",
       "zurich compania de seguros s.a.                           0.0       0.0  0.0   \n",
       "zurich financial services (iom) gro                       0.0       0.0  0.0   \n",
       "zurich financial services (iom) group                     0.0       0.0  0.0   \n",
       "zurich financial services australia limited               0.0       0.0  0.0   \n",
       "zurich hochschule der kuenste                             0.0       0.0  0.0   \n",
       "zurich insurance                                          0.0       0.0  0.0   \n",
       "zuwe hofpoort ziekenhuis                                  0.0       0.0  0.0   \n",
       "zuyderland mc                                             0.0       0.0  0.0   \n",
       "zuyderland medisch centrum                                0.0       0.0  0.0   \n",
       "zv kommunale verkehrssicherheit                           0.0       0.0  0.0   \n",
       "zv kommunale verkehrssicherheit obe                       0.0       0.0  0.0   \n",
       "zv kommunale verkehrssicherheit oberland                  0.0       0.0  0.0   \n",
       "zvei zentralverband elektrotechnik-und elektron...        0.0       0.0  0.0   \n",
       "zweckverband abfallverwertung südostbayern                0.0       0.0  0.0   \n",
       "zweckverband kommunale verkehrsüberwachung südo...        0.0       0.0  0.0   \n",
       "zwembad de meerval                                        0.0       0.0  0.0   \n",
       "zwick gmbh & co kg                                        0.0       0.0  3.0   \n",
       "zwicker & associates                                      0.0       0.0  0.0   \n",
       "zwp ingenieur-ag                                          0.0       0.0  9.0   \n",
       "zynga                                                     0.0       0.0  0.0   \n",
       "zürcher kantonalbank (zkb)                                0.0       0.0  0.0   \n",
       "öbb ikt gmbh                                              3.0       0.0  0.0   \n",
       "östereichischer verband gemeinnütziger bauverei...        0.0       0.0  0.0   \n",
       "österreich werbung                                        0.0       0.0  0.0   \n",
       "österreichische präsidentschaftskanzlei                   0.0       0.0  0.0   \n",
       "škoda js a.s.                                             0.0       0.0  0.0   \n",
       "\n",
       "                                                                             \\\n",
       "Product_Family                                     emss environment manager   \n",
       "Customer_Name                                                                 \n",
       " interceramic                                       0.0                 0.0   \n",
       " movitex                                            0.0                 0.0   \n",
       " oao bank petrocommerz                              0.0                 0.0   \n",
       "##(##)############                                  0.0                 0.0   \n",
       "#eská lékárna a.s.                                  0.0                 0.0   \n",
       "'s heeren loo                                       0.0                 0.0   \n",
       "'t sit                                              0.0                 0.0   \n",
       "(bet365) hillside (new media) ltd                   0.0                 0.0   \n",
       "(dhhs) us department of health &                    0.0                 0.0   \n",
       "(dhhs) us department of health & human services     0.0                 0.0   \n",
       "(fcos)                                              0.0                 0.0   \n",
       "**radiant systems-do not use                        0.0                 0.0   \n",
       "0                                                   0.0                 0.0   \n",
       "1-800 east west mortgage                            0.0                 0.0   \n",
       "1-net singapore pte ltd                             4.0                 0.0   \n",
       "102 israel fire and rescue service                  0.0                 0.0   \n",
       "1199nbf                                             0.0                 0.0   \n",
       "1199seiu l benefit & pension f                      0.0                 1.0   \n",
       "121 financial credit union                          0.0                 0.0   \n",
       "1469-kona surf partners                             0.0                 0.0   \n",
       "1st alliance lending                                0.0                 0.0   \n",
       "1st alliance lending, llc                           0.0                 0.0   \n",
       "1st global                                          0.0                 0.0   \n",
       "1st midamerica credit union                         0.0                 0.0   \n",
       "1st national bank of south florida                  0.0                 0.0   \n",
       "1st partners & co., inc.                            1.0                 0.0   \n",
       "1st source bank                                     0.0                 0.0   \n",
       "1st united bank                                     0.0                 0.0   \n",
       "2 sisters food group                                0.0                 0.0   \n",
       "20 minutes france sas                               0.0                 0.0   \n",
       "...                                                 ...                 ...   \n",
       "zunhammer gmbh                                      0.0                 0.0   \n",
       "zurcher hichschuke fur angewandte                   0.0                 0.0   \n",
       "zurcher hichschuke fur angewandte wissens           0.0                 0.0   \n",
       "zurich academy of applied sciences wissens          0.0                 0.0   \n",
       "zurich compania de seguros s.a.                     0.0                 0.0   \n",
       "zurich financial services (iom) gro                 0.0                 0.0   \n",
       "zurich financial services (iom) group               0.0                 0.0   \n",
       "zurich financial services australia limited         0.0                 0.0   \n",
       "zurich hochschule der kuenste                       0.0                 0.0   \n",
       "zurich insurance                                    0.0                 0.0   \n",
       "zuwe hofpoort ziekenhuis                            0.0                 0.0   \n",
       "zuyderland mc                                       0.0                 0.0   \n",
       "zuyderland medisch centrum                          0.0                 0.0   \n",
       "zv kommunale verkehrssicherheit                     0.0                 0.0   \n",
       "zv kommunale verkehrssicherheit obe                 0.0                 0.0   \n",
       "zv kommunale verkehrssicherheit oberland            0.0                 0.0   \n",
       "zvei zentralverband elektrotechnik-und elektron...  0.0                 0.0   \n",
       "zweckverband abfallverwertung südostbayern          0.0                 0.0   \n",
       "zweckverband kommunale verkehrsüberwachung südo...  0.0                 0.0   \n",
       "zwembad de meerval                                  0.0                 0.0   \n",
       "zwick gmbh & co kg                                  0.0                 0.0   \n",
       "zwicker & associates                                0.0                 0.0   \n",
       "zwp ingenieur-ag                                    0.0                 0.0   \n",
       "zynga                                               0.0                 0.0   \n",
       "zürcher kantonalbank (zkb)                          0.0                 0.0   \n",
       "öbb ikt gmbh                                        0.0                 0.0   \n",
       "östereichischer verband gemeinnütziger bauverei...  0.0                 0.0   \n",
       "österreich werbung                                  0.0                 0.0   \n",
       "österreichische präsidentschaftskanzlei             0.0                 0.0   \n",
       "škoda js a.s.                                       0.0                 0.0   \n",
       "\n",
       "                                                            ...           \\\n",
       "Product_Family                                              ...            \n",
       "Customer_Name                                               ...            \n",
       " interceramic                                               ...            \n",
       " movitex                                                    ...            \n",
       " oao bank petrocommerz                                      ...            \n",
       "##(##)############                                          ...            \n",
       "#eská lékárna a.s.                                          ...            \n",
       "'s heeren loo                                               ...            \n",
       "'t sit                                                      ...            \n",
       "(bet365) hillside (new media) ltd                           ...            \n",
       "(dhhs) us department of health &                            ...            \n",
       "(dhhs) us department of health & human services             ...            \n",
       "(fcos)                                                      ...            \n",
       "**radiant systems-do not use                                ...            \n",
       "0                                                           ...            \n",
       "1-800 east west mortgage                                    ...            \n",
       "1-net singapore pte ltd                                     ...            \n",
       "102 israel fire and rescue service                          ...            \n",
       "1199nbf                                                     ...            \n",
       "1199seiu l benefit & pension f                              ...            \n",
       "121 financial credit union                                  ...            \n",
       "1469-kona surf partners                                     ...            \n",
       "1st alliance lending                                        ...            \n",
       "1st alliance lending, llc                                   ...            \n",
       "1st global                                                  ...            \n",
       "1st midamerica credit union                                 ...            \n",
       "1st national bank of south florida                          ...            \n",
       "1st partners & co., inc.                                    ...            \n",
       "1st source bank                                             ...            \n",
       "1st united bank                                             ...            \n",
       "2 sisters food group                                        ...            \n",
       "20 minutes france sas                                       ...            \n",
       "...                                                         ...            \n",
       "zunhammer gmbh                                              ...            \n",
       "zurcher hichschuke fur angewandte                           ...            \n",
       "zurcher hichschuke fur angewandte wissens                   ...            \n",
       "zurich academy of applied sciences wissens                  ...            \n",
       "zurich compania de seguros s.a.                             ...            \n",
       "zurich financial services (iom) gro                         ...            \n",
       "zurich financial services (iom) group                       ...            \n",
       "zurich financial services australia limited                 ...            \n",
       "zurich hochschule der kuenste                               ...            \n",
       "zurich insurance                                            ...            \n",
       "zuwe hofpoort ziekenhuis                                    ...            \n",
       "zuyderland mc                                               ...            \n",
       "zuyderland medisch centrum                                  ...            \n",
       "zv kommunale verkehrssicherheit                             ...            \n",
       "zv kommunale verkehrssicherheit obe                         ...            \n",
       "zv kommunale verkehrssicherheit oberland                    ...            \n",
       "zvei zentralverband elektrotechnik-und elektron...          ...            \n",
       "zweckverband abfallverwertung südostbayern                  ...            \n",
       "zweckverband kommunale verkehrsüberwachung südo...          ...            \n",
       "zwembad de meerval                                          ...            \n",
       "zwick gmbh & co kg                                          ...            \n",
       "zwicker & associates                                        ...            \n",
       "zwp ingenieur-ag                                            ...            \n",
       "zynga                                                       ...            \n",
       "zürcher kantonalbank (zkb)                                  ...            \n",
       "öbb ikt gmbh                                                ...            \n",
       "östereichischer verband gemeinnütziger bauverei...          ...            \n",
       "österreich werbung                                          ...            \n",
       "österreichische präsidentschaftskanzlei                     ...            \n",
       "škoda js a.s.                                               ...            \n",
       "\n",
       "                                                                   \\\n",
       "Product_Family                                     security suite   \n",
       "Customer_Name                                                       \n",
       " interceramic                                                 5.0   \n",
       " movitex                                                      0.0   \n",
       " oao bank petrocommerz                                        0.0   \n",
       "##(##)############                                            3.0   \n",
       "#eská lékárna a.s.                                            2.0   \n",
       "'s heeren loo                                                 0.0   \n",
       "'t sit                                                        0.0   \n",
       "(bet365) hillside (new media) ltd                             0.0   \n",
       "(dhhs) us department of health &                              3.0   \n",
       "(dhhs) us department of health & human services               0.0   \n",
       "(fcos)                                                        0.0   \n",
       "**radiant systems-do not use                                  2.0   \n",
       "0                                                             0.0   \n",
       "1-800 east west mortgage                                      0.0   \n",
       "1-net singapore pte ltd                                       0.0   \n",
       "102 israel fire and rescue service                            0.0   \n",
       "1199nbf                                                       0.0   \n",
       "1199seiu l benefit & pension f                                0.0   \n",
       "121 financial credit union                                    0.0   \n",
       "1469-kona surf partners                                       0.0   \n",
       "1st alliance lending                                          0.0   \n",
       "1st alliance lending, llc                                     0.0   \n",
       "1st global                                                    0.0   \n",
       "1st midamerica credit union                                   0.0   \n",
       "1st national bank of south florida                            0.0   \n",
       "1st partners & co., inc.                                      0.0   \n",
       "1st source bank                                               0.0   \n",
       "1st united bank                                               0.0   \n",
       "2 sisters food group                                          0.0   \n",
       "20 minutes france sas                                         5.0   \n",
       "...                                                           ...   \n",
       "zunhammer gmbh                                                0.0   \n",
       "zurcher hichschuke fur angewandte                             0.0   \n",
       "zurcher hichschuke fur angewandte wissens                     0.0   \n",
       "zurich academy of applied sciences wissens                    0.0   \n",
       "zurich compania de seguros s.a.                               0.0   \n",
       "zurich financial services (iom) gro                           3.0   \n",
       "zurich financial services (iom) group                         3.0   \n",
       "zurich financial services australia limited                   0.0   \n",
       "zurich hochschule der kuenste                                 0.0   \n",
       "zurich insurance                                              0.0   \n",
       "zuwe hofpoort ziekenhuis                                      0.0   \n",
       "zuyderland mc                                                 0.0   \n",
       "zuyderland medisch centrum                                    0.0   \n",
       "zv kommunale verkehrssicherheit                               0.0   \n",
       "zv kommunale verkehrssicherheit obe                           0.0   \n",
       "zv kommunale verkehrssicherheit oberland                      0.0   \n",
       "zvei zentralverband elektrotechnik-und elektron...            0.0   \n",
       "zweckverband abfallverwertung südostbayern                    0.0   \n",
       "zweckverband kommunale verkehrsüberwachung südo...            0.0   \n",
       "zwembad de meerval                                            0.0   \n",
       "zwick gmbh & co kg                                            0.0   \n",
       "zwicker & associates                                          8.0   \n",
       "zwp ingenieur-ag                                              0.0   \n",
       "zynga                                                         0.0   \n",
       "zürcher kantonalbank (zkb)                                    0.0   \n",
       "öbb ikt gmbh                                                  0.0   \n",
       "östereichischer verband gemeinnütziger bauverei...            0.0   \n",
       "österreich werbung                                            0.0   \n",
       "österreichische präsidentschaftskanzlei                       0.0   \n",
       "škoda js a.s.                                                 2.0   \n",
       "\n",
       "                                                                   \\\n",
       "Product_Family                                     server manager   \n",
       "Customer_Name                                                       \n",
       " interceramic                                                 0.0   \n",
       " movitex                                                      0.0   \n",
       " oao bank petrocommerz                                        0.0   \n",
       "##(##)############                                            0.0   \n",
       "#eská lékárna a.s.                                            0.0   \n",
       "'s heeren loo                                                 0.0   \n",
       "'t sit                                                        0.0   \n",
       "(bet365) hillside (new media) ltd                             0.0   \n",
       "(dhhs) us department of health &                              0.0   \n",
       "(dhhs) us department of health & human services               0.0   \n",
       "(fcos)                                                        0.0   \n",
       "**radiant systems-do not use                                  0.0   \n",
       "0                                                             0.0   \n",
       "1-800 east west mortgage                                      0.0   \n",
       "1-net singapore pte ltd                                       0.0   \n",
       "102 israel fire and rescue service                            0.0   \n",
       "1199nbf                                                       0.0   \n",
       "1199seiu l benefit & pension f                                0.0   \n",
       "121 financial credit union                                    0.0   \n",
       "1469-kona surf partners                                       0.0   \n",
       "1st alliance lending                                          0.0   \n",
       "1st alliance lending, llc                                     0.0   \n",
       "1st global                                                    0.0   \n",
       "1st midamerica credit union                                   0.0   \n",
       "1st national bank of south florida                            0.0   \n",
       "1st partners & co., inc.                                      0.0   \n",
       "1st source bank                                               0.0   \n",
       "1st united bank                                               0.0   \n",
       "2 sisters food group                                          0.0   \n",
       "20 minutes france sas                                         0.0   \n",
       "...                                                           ...   \n",
       "zunhammer gmbh                                                0.0   \n",
       "zurcher hichschuke fur angewandte                             0.0   \n",
       "zurcher hichschuke fur angewandte wissens                     0.0   \n",
       "zurich academy of applied sciences wissens                    0.0   \n",
       "zurich compania de seguros s.a.                               0.0   \n",
       "zurich financial services (iom) gro                           1.0   \n",
       "zurich financial services (iom) group                         0.0   \n",
       "zurich financial services australia limited                   0.0   \n",
       "zurich hochschule der kuenste                                 0.0   \n",
       "zurich insurance                                              0.0   \n",
       "zuwe hofpoort ziekenhuis                                      0.0   \n",
       "zuyderland mc                                                 0.0   \n",
       "zuyderland medisch centrum                                    0.0   \n",
       "zv kommunale verkehrssicherheit                               0.0   \n",
       "zv kommunale verkehrssicherheit obe                           0.0   \n",
       "zv kommunale verkehrssicherheit oberland                      0.0   \n",
       "zvei zentralverband elektrotechnik-und elektron...            0.0   \n",
       "zweckverband abfallverwertung südostbayern                    0.0   \n",
       "zweckverband kommunale verkehrsüberwachung südo...            0.0   \n",
       "zwembad de meerval                                            0.0   \n",
       "zwick gmbh & co kg                                            0.0   \n",
       "zwicker & associates                                          0.0   \n",
       "zwp ingenieur-ag                                              0.0   \n",
       "zynga                                                         0.0   \n",
       "zürcher kantonalbank (zkb)                                    0.0   \n",
       "öbb ikt gmbh                                                  0.0   \n",
       "östereichischer verband gemeinnütziger bauverei...            0.0   \n",
       "österreich werbung                                            0.0   \n",
       "österreichische präsidentschaftskanzlei                       0.0   \n",
       "škoda js a.s.                                                 0.0   \n",
       "\n",
       "                                                                 \\\n",
       "Product_Family                                     service desk   \n",
       "Customer_Name                                                     \n",
       " interceramic                                               0.0   \n",
       " movitex                                                    0.0   \n",
       " oao bank petrocommerz                                      0.0   \n",
       "##(##)############                                          0.0   \n",
       "#eská lékárna a.s.                                          0.0   \n",
       "'s heeren loo                                               0.0   \n",
       "'t sit                                                      0.0   \n",
       "(bet365) hillside (new media) ltd                           0.0   \n",
       "(dhhs) us department of health &                            2.0   \n",
       "(dhhs) us department of health & human services             0.0   \n",
       "(fcos)                                                      0.0   \n",
       "**radiant systems-do not use                                0.0   \n",
       "0                                                           0.0   \n",
       "1-800 east west mortgage                                    0.0   \n",
       "1-net singapore pte ltd                                     0.0   \n",
       "102 israel fire and rescue service                          0.0   \n",
       "1199nbf                                                     0.0   \n",
       "1199seiu l benefit & pension f                              0.0   \n",
       "121 financial credit union                                  3.0   \n",
       "1469-kona surf partners                                     0.0   \n",
       "1st alliance lending                                        0.0   \n",
       "1st alliance lending, llc                                   0.0   \n",
       "1st global                                                  0.0   \n",
       "1st midamerica credit union                                 0.0   \n",
       "1st national bank of south florida                          0.0   \n",
       "1st partners & co., inc.                                    0.0   \n",
       "1st source bank                                             0.0   \n",
       "1st united bank                                             0.0   \n",
       "2 sisters food group                                        4.0   \n",
       "20 minutes france sas                                       0.0   \n",
       "...                                                         ...   \n",
       "zunhammer gmbh                                              0.0   \n",
       "zurcher hichschuke fur angewandte                           0.0   \n",
       "zurcher hichschuke fur angewandte wissens                   0.0   \n",
       "zurich academy of applied sciences wissens                  0.0   \n",
       "zurich compania de seguros s.a.                             0.0   \n",
       "zurich financial services (iom) gro                         0.0   \n",
       "zurich financial services (iom) group                       0.0   \n",
       "zurich financial services australia limited                 0.0   \n",
       "zurich hochschule der kuenste                               0.0   \n",
       "zurich insurance                                            0.0   \n",
       "zuwe hofpoort ziekenhuis                                    0.0   \n",
       "zuyderland mc                                               0.0   \n",
       "zuyderland medisch centrum                                  0.0   \n",
       "zv kommunale verkehrssicherheit                             0.0   \n",
       "zv kommunale verkehrssicherheit obe                         0.0   \n",
       "zv kommunale verkehrssicherheit oberland                    0.0   \n",
       "zvei zentralverband elektrotechnik-und elektron...          0.0   \n",
       "zweckverband abfallverwertung südostbayern                  0.0   \n",
       "zweckverband kommunale verkehrsüberwachung südo...          0.0   \n",
       "zwembad de meerval                                          0.0   \n",
       "zwick gmbh & co kg                                          0.0   \n",
       "zwicker & associates                                        0.0   \n",
       "zwp ingenieur-ag                                            0.0   \n",
       "zynga                                                       0.0   \n",
       "zürcher kantonalbank (zkb)                                  0.0   \n",
       "öbb ikt gmbh                                                0.0   \n",
       "östereichischer verband gemeinnütziger bauverei...          0.0   \n",
       "österreich werbung                                          0.0   \n",
       "österreichische präsidentschaftskanzlei                     0.0   \n",
       "škoda js a.s.                                               0.0   \n",
       "\n",
       "                                                                       \\\n",
       "Product_Family                                     service management   \n",
       "Customer_Name                                                           \n",
       " interceramic                                                     0.0   \n",
       " movitex                                                          0.0   \n",
       " oao bank petrocommerz                                            0.0   \n",
       "##(##)############                                                0.0   \n",
       "#eská lékárna a.s.                                                0.0   \n",
       "'s heeren loo                                                     0.0   \n",
       "'t sit                                                            0.0   \n",
       "(bet365) hillside (new media) ltd                                 0.0   \n",
       "(dhhs) us department of health &                                  0.0   \n",
       "(dhhs) us department of health & human services                   0.0   \n",
       "(fcos)                                                            0.0   \n",
       "**radiant systems-do not use                                      0.0   \n",
       "0                                                                 0.0   \n",
       "1-800 east west mortgage                                          0.0   \n",
       "1-net singapore pte ltd                                           0.0   \n",
       "102 israel fire and rescue service                                0.0   \n",
       "1199nbf                                                           0.0   \n",
       "1199seiu l benefit & pension f                                    0.0   \n",
       "121 financial credit union                                        0.0   \n",
       "1469-kona surf partners                                           0.0   \n",
       "1st alliance lending                                              0.0   \n",
       "1st alliance lending, llc                                         0.0   \n",
       "1st global                                                        0.0   \n",
       "1st midamerica credit union                                       0.0   \n",
       "1st national bank of south florida                                0.0   \n",
       "1st partners & co., inc.                                          0.0   \n",
       "1st source bank                                                   0.0   \n",
       "1st united bank                                                   0.0   \n",
       "2 sisters food group                                              0.0   \n",
       "20 minutes france sas                                             0.0   \n",
       "...                                                               ...   \n",
       "zunhammer gmbh                                                    0.0   \n",
       "zurcher hichschuke fur angewandte                                 0.0   \n",
       "zurcher hichschuke fur angewandte wissens                         0.0   \n",
       "zurich academy of applied sciences wissens                        0.0   \n",
       "zurich compania de seguros s.a.                                   0.0   \n",
       "zurich financial services (iom) gro                               0.0   \n",
       "zurich financial services (iom) group                             0.0   \n",
       "zurich financial services australia limited                       0.0   \n",
       "zurich hochschule der kuenste                                     0.0   \n",
       "zurich insurance                                                  0.0   \n",
       "zuwe hofpoort ziekenhuis                                          0.0   \n",
       "zuyderland mc                                                     0.0   \n",
       "zuyderland medisch centrum                                        0.0   \n",
       "zv kommunale verkehrssicherheit                                   0.0   \n",
       "zv kommunale verkehrssicherheit obe                               0.0   \n",
       "zv kommunale verkehrssicherheit oberland                          0.0   \n",
       "zvei zentralverband elektrotechnik-und elektron...                0.0   \n",
       "zweckverband abfallverwertung südostbayern                        0.0   \n",
       "zweckverband kommunale verkehrsüberwachung südo...                0.0   \n",
       "zwembad de meerval                                                0.0   \n",
       "zwick gmbh & co kg                                                0.0   \n",
       "zwicker & associates                                              0.0   \n",
       "zwp ingenieur-ag                                                  0.0   \n",
       "zynga                                                             0.0   \n",
       "zürcher kantonalbank (zkb)                                        0.0   \n",
       "öbb ikt gmbh                                                      0.0   \n",
       "östereichischer verband gemeinnütziger bauverei...                0.0   \n",
       "österreich werbung                                                0.0   \n",
       "österreichische präsidentschaftskanzlei                           0.0   \n",
       "škoda js a.s.                                                     0.0   \n",
       "\n",
       "                                                                          \\\n",
       "Product_Family                                     shavlik oem royalties   \n",
       "Customer_Name                                                              \n",
       " interceramic                                                        0.0   \n",
       " movitex                                                             0.0   \n",
       " oao bank petrocommerz                                               0.0   \n",
       "##(##)############                                                   0.0   \n",
       "#eská lékárna a.s.                                                   0.0   \n",
       "'s heeren loo                                                        0.0   \n",
       "'t sit                                                               0.0   \n",
       "(bet365) hillside (new media) ltd                                    0.0   \n",
       "(dhhs) us department of health &                                     0.0   \n",
       "(dhhs) us department of health & human services                      0.0   \n",
       "(fcos)                                                               0.0   \n",
       "**radiant systems-do not use                                         0.0   \n",
       "0                                                                    0.0   \n",
       "1-800 east west mortgage                                             0.0   \n",
       "1-net singapore pte ltd                                              0.0   \n",
       "102 israel fire and rescue service                                   0.0   \n",
       "1199nbf                                                              0.0   \n",
       "1199seiu l benefit & pension f                                       0.0   \n",
       "121 financial credit union                                           0.0   \n",
       "1469-kona surf partners                                              0.0   \n",
       "1st alliance lending                                                 0.0   \n",
       "1st alliance lending, llc                                            0.0   \n",
       "1st global                                                           0.0   \n",
       "1st midamerica credit union                                          0.0   \n",
       "1st national bank of south florida                                   0.0   \n",
       "1st partners & co., inc.                                             0.0   \n",
       "1st source bank                                                      0.0   \n",
       "1st united bank                                                      0.0   \n",
       "2 sisters food group                                                 0.0   \n",
       "20 minutes france sas                                                0.0   \n",
       "...                                                                  ...   \n",
       "zunhammer gmbh                                                       0.0   \n",
       "zurcher hichschuke fur angewandte                                    0.0   \n",
       "zurcher hichschuke fur angewandte wissens                            0.0   \n",
       "zurich academy of applied sciences wissens                           0.0   \n",
       "zurich compania de seguros s.a.                                      0.0   \n",
       "zurich financial services (iom) gro                                  0.0   \n",
       "zurich financial services (iom) group                                0.0   \n",
       "zurich financial services australia limited                          0.0   \n",
       "zurich hochschule der kuenste                                        0.0   \n",
       "zurich insurance                                                     0.0   \n",
       "zuwe hofpoort ziekenhuis                                             0.0   \n",
       "zuyderland mc                                                        0.0   \n",
       "zuyderland medisch centrum                                           0.0   \n",
       "zv kommunale verkehrssicherheit                                      0.0   \n",
       "zv kommunale verkehrssicherheit obe                                  0.0   \n",
       "zv kommunale verkehrssicherheit oberland                             0.0   \n",
       "zvei zentralverband elektrotechnik-und elektron...                   0.0   \n",
       "zweckverband abfallverwertung südostbayern                           0.0   \n",
       "zweckverband kommunale verkehrsüberwachung südo...                   0.0   \n",
       "zwembad de meerval                                                   0.0   \n",
       "zwick gmbh & co kg                                                   0.0   \n",
       "zwicker & associates                                                 0.0   \n",
       "zwp ingenieur-ag                                                     0.0   \n",
       "zynga                                                                0.0   \n",
       "zürcher kantonalbank (zkb)                                           0.0   \n",
       "öbb ikt gmbh                                                         0.0   \n",
       "östereichischer verband gemeinnütziger bauverei...                   0.0   \n",
       "österreich werbung                                                   0.0   \n",
       "österreichische präsidentschaftskanzlei                              0.0   \n",
       "škoda js a.s.                                                        0.0   \n",
       "\n",
       "                                                                            \\\n",
       "Product_Family                                     shavlik patch uem other   \n",
       "Customer_Name                                                                \n",
       " interceramic                                                0.0       0.0   \n",
       " movitex                                                     0.0       0.0   \n",
       " oao bank petrocommerz                                       0.0       0.0   \n",
       "##(##)############                                           0.0       0.0   \n",
       "#eská lékárna a.s.                                           0.0       0.0   \n",
       "'s heeren loo                                                0.0       0.0   \n",
       "'t sit                                                       0.0       0.0   \n",
       "(bet365) hillside (new media) ltd                            0.0       0.0   \n",
       "(dhhs) us department of health &                             0.0       0.0   \n",
       "(dhhs) us department of health & human services              0.0       0.0   \n",
       "(fcos)                                                       0.0       0.0   \n",
       "**radiant systems-do not use                                 0.0       0.0   \n",
       "0                                                            0.0       0.0   \n",
       "1-800 east west mortgage                                     0.0       0.0   \n",
       "1-net singapore pte ltd                                      0.0       0.0   \n",
       "102 israel fire and rescue service                           0.0       0.0   \n",
       "1199nbf                                                      0.0       0.0   \n",
       "1199seiu l benefit & pension f                               0.0       0.0   \n",
       "121 financial credit union                                   0.0       0.0   \n",
       "1469-kona surf partners                                      0.0       0.0   \n",
       "1st alliance lending                                         0.0       0.0   \n",
       "1st alliance lending, llc                                    0.0       0.0   \n",
       "1st global                                                   0.0       0.0   \n",
       "1st midamerica credit union                                  0.0       0.0   \n",
       "1st national bank of south florida                           0.0       0.0   \n",
       "1st partners & co., inc.                                     0.0       0.0   \n",
       "1st source bank                                              0.0       0.0   \n",
       "1st united bank                                              1.0       0.0   \n",
       "2 sisters food group                                         0.0       0.0   \n",
       "20 minutes france sas                                        0.0       0.0   \n",
       "...                                                          ...       ...   \n",
       "zunhammer gmbh                                               0.0       0.0   \n",
       "zurcher hichschuke fur angewandte                            0.0       0.0   \n",
       "zurcher hichschuke fur angewandte wissens                    0.0       0.0   \n",
       "zurich academy of applied sciences wissens                   0.0       0.0   \n",
       "zurich compania de seguros s.a.                              0.0       0.0   \n",
       "zurich financial services (iom) gro                          0.0       0.0   \n",
       "zurich financial services (iom) group                        0.0       0.0   \n",
       "zurich financial services australia limited                  0.0       0.0   \n",
       "zurich hochschule der kuenste                                0.0       0.0   \n",
       "zurich insurance                                             0.0       0.0   \n",
       "zuwe hofpoort ziekenhuis                                     0.0       0.0   \n",
       "zuyderland mc                                                0.0       0.0   \n",
       "zuyderland medisch centrum                                   0.0       0.0   \n",
       "zv kommunale verkehrssicherheit                              0.0       0.0   \n",
       "zv kommunale verkehrssicherheit obe                          0.0       0.0   \n",
       "zv kommunale verkehrssicherheit oberland                     0.0       0.0   \n",
       "zvei zentralverband elektrotechnik-und elektron...           0.0       0.0   \n",
       "zweckverband abfallverwertung südostbayern                   0.0       0.0   \n",
       "zweckverband kommunale verkehrsüberwachung südo...           0.0       0.0   \n",
       "zwembad de meerval                                           0.0       0.0   \n",
       "zwick gmbh & co kg                                           0.0       1.0   \n",
       "zwicker & associates                                         0.0       0.0   \n",
       "zwp ingenieur-ag                                             0.0       0.0   \n",
       "zynga                                                        0.0       0.0   \n",
       "zürcher kantonalbank (zkb)                                   0.0       0.0   \n",
       "öbb ikt gmbh                                                 0.0       0.0   \n",
       "östereichischer verband gemeinnütziger bauverei...           0.0       0.0   \n",
       "österreich werbung                                           1.0       0.0   \n",
       "österreichische präsidentschaftskanzlei                      0.0       0.0   \n",
       "škoda js a.s.                                                0.0       0.0   \n",
       "\n",
       "                                                                              \\\n",
       "Product_Family                                     user management xtraction   \n",
       "Customer_Name                                                                  \n",
       " interceramic                                                  0.0       0.0   \n",
       " movitex                                                       0.0       0.0   \n",
       " oao bank petrocommerz                                         0.0       0.0   \n",
       "##(##)############                                             0.0       0.0   \n",
       "#eská lékárna a.s.                                             0.0       0.0   \n",
       "'s heeren loo                                                  0.0       0.0   \n",
       "'t sit                                                         0.0       0.0   \n",
       "(bet365) hillside (new media) ltd                              0.0       0.0   \n",
       "(dhhs) us department of health &                               3.0       0.0   \n",
       "(dhhs) us department of health & human services                1.0       1.0   \n",
       "(fcos)                                                         0.0       0.0   \n",
       "**radiant systems-do not use                                   0.0       0.0   \n",
       "0                                                              0.0       0.0   \n",
       "1-800 east west mortgage                                       0.0       0.0   \n",
       "1-net singapore pte ltd                                        0.0       0.0   \n",
       "102 israel fire and rescue service                             0.0       0.0   \n",
       "1199nbf                                                        0.0       0.0   \n",
       "1199seiu l benefit & pension f                                 0.0       0.0   \n",
       "121 financial credit union                                     0.0       0.0   \n",
       "1469-kona surf partners                                        0.0       0.0   \n",
       "1st alliance lending                                           0.0       0.0   \n",
       "1st alliance lending, llc                                      0.0       0.0   \n",
       "1st global                                                     0.0       0.0   \n",
       "1st midamerica credit union                                    0.0       0.0   \n",
       "1st national bank of south florida                             0.0       0.0   \n",
       "1st partners & co., inc.                                       0.0       0.0   \n",
       "1st source bank                                                0.0       0.0   \n",
       "1st united bank                                                0.0       0.0   \n",
       "2 sisters food group                                           1.0       0.0   \n",
       "20 minutes france sas                                          0.0       0.0   \n",
       "...                                                            ...       ...   \n",
       "zunhammer gmbh                                                 0.0       0.0   \n",
       "zurcher hichschuke fur angewandte                              0.0       0.0   \n",
       "zurcher hichschuke fur angewandte wissens                      0.0       0.0   \n",
       "zurich academy of applied sciences wissens                     0.0       0.0   \n",
       "zurich compania de seguros s.a.                                0.0       0.0   \n",
       "zurich financial services (iom) gro                            0.0       0.0   \n",
       "zurich financial services (iom) group                          0.0       0.0   \n",
       "zurich financial services australia limited                    0.0       0.0   \n",
       "zurich hochschule der kuenste                                  0.0       0.0   \n",
       "zurich insurance                                               0.0       0.0   \n",
       "zuwe hofpoort ziekenhuis                                       0.0       0.0   \n",
       "zuyderland mc                                                  0.0       0.0   \n",
       "zuyderland medisch centrum                                     0.0       0.0   \n",
       "zv kommunale verkehrssicherheit                                0.0       0.0   \n",
       "zv kommunale verkehrssicherheit obe                            0.0       0.0   \n",
       "zv kommunale verkehrssicherheit oberland                       0.0       0.0   \n",
       "zvei zentralverband elektrotechnik-und elektron...             0.0       0.0   \n",
       "zweckverband abfallverwertung südostbayern                     0.0       0.0   \n",
       "zweckverband kommunale verkehrsüberwachung südo...             0.0       0.0   \n",
       "zwembad de meerval                                             0.0       0.0   \n",
       "zwick gmbh & co kg                                             0.0       0.0   \n",
       "zwicker & associates                                           0.0       0.0   \n",
       "zwp ingenieur-ag                                               0.0       0.0   \n",
       "zynga                                                          0.0       0.0   \n",
       "zürcher kantonalbank (zkb)                                     0.0       0.0   \n",
       "öbb ikt gmbh                                                   0.0       0.0   \n",
       "östereichischer verband gemeinnütziger bauverei...             0.0       0.0   \n",
       "österreich werbung                                             0.0       0.0   \n",
       "österreichische präsidentschaftskanzlei                        0.0       0.0   \n",
       "škoda js a.s.                                                  0.0       0.0   \n",
       "\n",
       "                                                                          \n",
       "Product_Family                                     xtraction oem royalty  \n",
       "Customer_Name                                                             \n",
       " interceramic                                                        0.0  \n",
       " movitex                                                             0.0  \n",
       " oao bank petrocommerz                                               0.0  \n",
       "##(##)############                                                   0.0  \n",
       "#eská lékárna a.s.                                                   0.0  \n",
       "'s heeren loo                                                        0.0  \n",
       "'t sit                                                               0.0  \n",
       "(bet365) hillside (new media) ltd                                    0.0  \n",
       "(dhhs) us department of health &                                     0.0  \n",
       "(dhhs) us department of health & human services                      0.0  \n",
       "(fcos)                                                               0.0  \n",
       "**radiant systems-do not use                                         0.0  \n",
       "0                                                                    0.0  \n",
       "1-800 east west mortgage                                             0.0  \n",
       "1-net singapore pte ltd                                              0.0  \n",
       "102 israel fire and rescue service                                   0.0  \n",
       "1199nbf                                                              0.0  \n",
       "1199seiu l benefit & pension f                                       0.0  \n",
       "121 financial credit union                                           0.0  \n",
       "1469-kona surf partners                                              0.0  \n",
       "1st alliance lending                                                 0.0  \n",
       "1st alliance lending, llc                                            0.0  \n",
       "1st global                                                           0.0  \n",
       "1st midamerica credit union                                          0.0  \n",
       "1st national bank of south florida                                   0.0  \n",
       "1st partners & co., inc.                                             0.0  \n",
       "1st source bank                                                      0.0  \n",
       "1st united bank                                                      0.0  \n",
       "2 sisters food group                                                 0.0  \n",
       "20 minutes france sas                                                0.0  \n",
       "...                                                                  ...  \n",
       "zunhammer gmbh                                                       0.0  \n",
       "zurcher hichschuke fur angewandte                                    0.0  \n",
       "zurcher hichschuke fur angewandte wissens                            0.0  \n",
       "zurich academy of applied sciences wissens                           0.0  \n",
       "zurich compania de seguros s.a.                                      0.0  \n",
       "zurich financial services (iom) gro                                  0.0  \n",
       "zurich financial services (iom) group                                0.0  \n",
       "zurich financial services australia limited                          0.0  \n",
       "zurich hochschule der kuenste                                        0.0  \n",
       "zurich insurance                                                     0.0  \n",
       "zuwe hofpoort ziekenhuis                                             0.0  \n",
       "zuyderland mc                                                        0.0  \n",
       "zuyderland medisch centrum                                           0.0  \n",
       "zv kommunale verkehrssicherheit                                      0.0  \n",
       "zv kommunale verkehrssicherheit obe                                  0.0  \n",
       "zv kommunale verkehrssicherheit oberland                             0.0  \n",
       "zvei zentralverband elektrotechnik-und elektron...                   0.0  \n",
       "zweckverband abfallverwertung südostbayern                           0.0  \n",
       "zweckverband kommunale verkehrsüberwachung südo...                   0.0  \n",
       "zwembad de meerval                                                   0.0  \n",
       "zwick gmbh & co kg                                                   0.0  \n",
       "zwicker & associates                                                 0.0  \n",
       "zwp ingenieur-ag                                                     0.0  \n",
       "zynga                                                                0.0  \n",
       "zürcher kantonalbank (zkb)                                           0.0  \n",
       "öbb ikt gmbh                                                         0.0  \n",
       "östereichischer verband gemeinnütziger bauverei...                   0.0  \n",
       "österreich werbung                                                   0.0  \n",
       "österreichische präsidentschaftskanzlei                              0.0  \n",
       "škoda js a.s.                                                        0.0  \n",
       "\n",
       "[21762 rows x 47 columns]"
      ]
     },
     "execution_count": 6,
     "metadata": {},
     "output_type": "execute_result"
    }
   ],
   "source": [
    "table = bookings_data.pivot_table(values=['Seats_mod'], index=['Customer_Name'], columns=['Product_Family'],\n",
    "                     aggfunc='sum').fillna(0)\n",
    "table"
   ]
  },
  {
   "cell_type": "code",
   "execution_count": 40,
   "metadata": {},
   "outputs": [],
   "source": [
    "# from scipy.sparse.linalg import *\n",
    "# U, sigma, Vt = svds(table)\n",
    "\n",
    "# sigma = np.diag(sigma)\n",
    "\n",
    "# all_user_predicted_ratings = np.dot(np.dot(U, sigma), Vt)\n",
    "# preds_df = pd.DataFrame(all_user_predicted_ratings, columns = table.columns, index= table.index)\n",
    "\n",
    "# preds_df"
   ]
  },
  {
   "cell_type": "code",
   "execution_count": 41,
   "metadata": {},
   "outputs": [],
   "source": [
    "# user_data = table.loc[\"amundi\"].unstack(-1)\n",
    "\n",
    "# prod = np.dot(sigma, Vt)\n",
    "\n",
    "# print(U.shape)\n",
    "# print(sigma.shape)\n",
    "# print(Vt.shape)\n",
    "\n",
    "# print(table.shape)\n",
    "# print(preds_df.shape)\n",
    "# prod.shape"
   ]
  },
  {
   "cell_type": "code",
   "execution_count": 7,
   "metadata": {},
   "outputs": [
    {
     "data": {
      "text/plain": [
       "count    33942.000000\n",
       "mean         4.416122\n",
       "std         18.417743\n",
       "min          1.000000\n",
       "25%          1.000000\n",
       "50%          2.000000\n",
       "75%          4.000000\n",
       "max       1468.000000\n",
       "Name: count, dtype: float64"
      ]
     },
     "execution_count": 7,
     "metadata": {},
     "output_type": "execute_result"
    }
   ],
   "source": [
    "data = bookings_data[[\"Customer_Name\",\"Product_Family\",\"Seats_mod\"]]\n",
    "#data.rename(columns={'Seats_mod': 'count'},inplace=True)\n",
    "data = pd.DataFrame({'count' : data.groupby( [\"Customer_Name\", \"Product_Family\" ] ).size()}).reset_index()\n",
    "# print(data)\n",
    "data[\"count\"].describe()"
   ]
  },
  {
   "cell_type": "code",
   "execution_count": 8,
   "metadata": {},
   "outputs": [
    {
     "data": {
      "text/plain": [
       "14628"
      ]
     },
     "execution_count": 8,
     "metadata": {},
     "output_type": "execute_result"
    }
   ],
   "source": [
    "sum(data.groupby([\"Customer_Name\"])[\"Product_Family\"].count() < 2)"
   ]
  },
  {
   "cell_type": "code",
   "execution_count": 9,
   "metadata": {
    "scrolled": true
   },
   "outputs": [
    {
     "data": {
      "text/html": [
       "<pre>Recsys training: model = popularity</pre>"
      ],
      "text/plain": [
       "Recsys training: model = popularity"
      ]
     },
     "metadata": {},
     "output_type": "display_data"
    },
    {
     "data": {
      "text/html": [
       "<pre>Preparing data set.</pre>"
      ],
      "text/plain": [
       "Preparing data set."
      ]
     },
     "metadata": {},
     "output_type": "display_data"
    },
    {
     "data": {
      "text/html": [
       "<pre>    Data has 32406 observations with 20762 users and 47 items.</pre>"
      ],
      "text/plain": [
       "    Data has 32406 observations with 20762 users and 47 items."
      ]
     },
     "metadata": {},
     "output_type": "display_data"
    },
    {
     "data": {
      "text/html": [
       "<pre>    Data prepared in: 0.057239s</pre>"
      ],
      "text/plain": [
       "    Data prepared in: 0.057239s"
      ]
     },
     "metadata": {},
     "output_type": "display_data"
    },
    {
     "data": {
      "text/html": [
       "<pre>32406 observations to process; with 47 unique items.</pre>"
      ],
      "text/plain": [
       "32406 observations to process; with 47 unique items."
      ]
     },
     "metadata": {},
     "output_type": "display_data"
    },
    {
     "data": {
      "text/html": [
       "<pre>Recsys training: model = item_similarity</pre>"
      ],
      "text/plain": [
       "Recsys training: model = item_similarity"
      ]
     },
     "metadata": {},
     "output_type": "display_data"
    },
    {
     "data": {
      "text/html": [
       "<pre>Preparing data set.</pre>"
      ],
      "text/plain": [
       "Preparing data set."
      ]
     },
     "metadata": {},
     "output_type": "display_data"
    },
    {
     "data": {
      "text/html": [
       "<pre>    Data has 32406 observations with 20762 users and 47 items.</pre>"
      ],
      "text/plain": [
       "    Data has 32406 observations with 20762 users and 47 items."
      ]
     },
     "metadata": {},
     "output_type": "display_data"
    },
    {
     "data": {
      "text/html": [
       "<pre>    Data prepared in: 0.053616s</pre>"
      ],
      "text/plain": [
       "    Data prepared in: 0.053616s"
      ]
     },
     "metadata": {},
     "output_type": "display_data"
    },
    {
     "data": {
      "text/html": [
       "<pre>Training model from provided data.</pre>"
      ],
      "text/plain": [
       "Training model from provided data."
      ]
     },
     "metadata": {},
     "output_type": "display_data"
    },
    {
     "data": {
      "text/html": [
       "<pre>Gathering per-item and per-user statistics.</pre>"
      ],
      "text/plain": [
       "Gathering per-item and per-user statistics."
      ]
     },
     "metadata": {},
     "output_type": "display_data"
    },
    {
     "data": {
      "text/html": [
       "<pre>+--------------------------------+------------+</pre>"
      ],
      "text/plain": [
       "+--------------------------------+------------+"
      ]
     },
     "metadata": {},
     "output_type": "display_data"
    },
    {
     "data": {
      "text/html": [
       "<pre>| Elapsed Time (Item Statistics) | % Complete |</pre>"
      ],
      "text/plain": [
       "| Elapsed Time (Item Statistics) | % Complete |"
      ]
     },
     "metadata": {},
     "output_type": "display_data"
    },
    {
     "data": {
      "text/html": [
       "<pre>+--------------------------------+------------+</pre>"
      ],
      "text/plain": [
       "+--------------------------------+------------+"
      ]
     },
     "metadata": {},
     "output_type": "display_data"
    },
    {
     "data": {
      "text/html": [
       "<pre>| 7.141ms                        | 52.75      |</pre>"
      ],
      "text/plain": [
       "| 7.141ms                        | 52.75      |"
      ]
     },
     "metadata": {},
     "output_type": "display_data"
    },
    {
     "data": {
      "text/html": [
       "<pre>| 10.301ms                       | 100        |</pre>"
      ],
      "text/plain": [
       "| 10.301ms                       | 100        |"
      ]
     },
     "metadata": {},
     "output_type": "display_data"
    },
    {
     "data": {
      "text/html": [
       "<pre>+--------------------------------+------------+</pre>"
      ],
      "text/plain": [
       "+--------------------------------+------------+"
      ]
     },
     "metadata": {},
     "output_type": "display_data"
    },
    {
     "data": {
      "text/html": [
       "<pre>Setting up lookup tables.</pre>"
      ],
      "text/plain": [
       "Setting up lookup tables."
      ]
     },
     "metadata": {},
     "output_type": "display_data"
    },
    {
     "data": {
      "text/html": [
       "<pre>Processing data in one pass using dense lookup tables.</pre>"
      ],
      "text/plain": [
       "Processing data in one pass using dense lookup tables."
      ]
     },
     "metadata": {},
     "output_type": "display_data"
    },
    {
     "data": {
      "text/html": [
       "<pre>+-------------------------------------+------------------+-----------------+</pre>"
      ],
      "text/plain": [
       "+-------------------------------------+------------------+-----------------+"
      ]
     },
     "metadata": {},
     "output_type": "display_data"
    },
    {
     "data": {
      "text/html": [
       "<pre>| Elapsed Time (Constructing Lookups) | Total % Complete | Items Processed |</pre>"
      ],
      "text/plain": [
       "| Elapsed Time (Constructing Lookups) | Total % Complete | Items Processed |"
      ]
     },
     "metadata": {},
     "output_type": "display_data"
    },
    {
     "data": {
      "text/html": [
       "<pre>+-------------------------------------+------------------+-----------------+</pre>"
      ],
      "text/plain": [
       "+-------------------------------------+------------------+-----------------+"
      ]
     },
     "metadata": {},
     "output_type": "display_data"
    },
    {
     "data": {
      "text/html": [
       "<pre>| 14.076ms                            | 0                | 0               |</pre>"
      ],
      "text/plain": [
       "| 14.076ms                            | 0                | 0               |"
      ]
     },
     "metadata": {},
     "output_type": "display_data"
    },
    {
     "data": {
      "text/html": [
       "<pre>| 15.97ms                             | 100              | 47              |</pre>"
      ],
      "text/plain": [
       "| 15.97ms                             | 100              | 47              |"
      ]
     },
     "metadata": {},
     "output_type": "display_data"
    },
    {
     "data": {
      "text/html": [
       "<pre>+-------------------------------------+------------------+-----------------+</pre>"
      ],
      "text/plain": [
       "+-------------------------------------+------------------+-----------------+"
      ]
     },
     "metadata": {},
     "output_type": "display_data"
    },
    {
     "data": {
      "text/html": [
       "<pre>Finalizing lookup tables.</pre>"
      ],
      "text/plain": [
       "Finalizing lookup tables."
      ]
     },
     "metadata": {},
     "output_type": "display_data"
    },
    {
     "data": {
      "text/html": [
       "<pre>Generating candidate set for working with new users.</pre>"
      ],
      "text/plain": [
       "Generating candidate set for working with new users."
      ]
     },
     "metadata": {},
     "output_type": "display_data"
    },
    {
     "data": {
      "text/html": [
       "<pre>Finished training in 1.02983s</pre>"
      ],
      "text/plain": [
       "Finished training in 1.02983s"
      ]
     },
     "metadata": {},
     "output_type": "display_data"
    },
    {
     "data": {
      "text/html": [
       "<pre>Recsys training: model = item_similarity</pre>"
      ],
      "text/plain": [
       "Recsys training: model = item_similarity"
      ]
     },
     "metadata": {},
     "output_type": "display_data"
    },
    {
     "data": {
      "text/html": [
       "<pre>Preparing data set.</pre>"
      ],
      "text/plain": [
       "Preparing data set."
      ]
     },
     "metadata": {},
     "output_type": "display_data"
    },
    {
     "data": {
      "text/html": [
       "<pre>    Data has 32406 observations with 20762 users and 47 items.</pre>"
      ],
      "text/plain": [
       "    Data has 32406 observations with 20762 users and 47 items."
      ]
     },
     "metadata": {},
     "output_type": "display_data"
    },
    {
     "data": {
      "text/html": [
       "<pre>    Data prepared in: 0.057262s</pre>"
      ],
      "text/plain": [
       "    Data prepared in: 0.057262s"
      ]
     },
     "metadata": {},
     "output_type": "display_data"
    },
    {
     "data": {
      "text/html": [
       "<pre>Training model from provided data.</pre>"
      ],
      "text/plain": [
       "Training model from provided data."
      ]
     },
     "metadata": {},
     "output_type": "display_data"
    },
    {
     "data": {
      "text/html": [
       "<pre>Gathering per-item and per-user statistics.</pre>"
      ],
      "text/plain": [
       "Gathering per-item and per-user statistics."
      ]
     },
     "metadata": {},
     "output_type": "display_data"
    },
    {
     "data": {
      "text/html": [
       "<pre>+--------------------------------+------------+</pre>"
      ],
      "text/plain": [
       "+--------------------------------+------------+"
      ]
     },
     "metadata": {},
     "output_type": "display_data"
    },
    {
     "data": {
      "text/html": [
       "<pre>| Elapsed Time (Item Statistics) | % Complete |</pre>"
      ],
      "text/plain": [
       "| Elapsed Time (Item Statistics) | % Complete |"
      ]
     },
     "metadata": {},
     "output_type": "display_data"
    },
    {
     "data": {
      "text/html": [
       "<pre>+--------------------------------+------------+</pre>"
      ],
      "text/plain": [
       "+--------------------------------+------------+"
      ]
     },
     "metadata": {},
     "output_type": "display_data"
    },
    {
     "data": {
      "text/html": [
       "<pre>| 870us                          | 28.75      |</pre>"
      ],
      "text/plain": [
       "| 870us                          | 28.75      |"
      ]
     },
     "metadata": {},
     "output_type": "display_data"
    },
    {
     "data": {
      "text/html": [
       "<pre>| 14.176ms                       | 100        |</pre>"
      ],
      "text/plain": [
       "| 14.176ms                       | 100        |"
      ]
     },
     "metadata": {},
     "output_type": "display_data"
    },
    {
     "data": {
      "text/html": [
       "<pre>+--------------------------------+------------+</pre>"
      ],
      "text/plain": [
       "+--------------------------------+------------+"
      ]
     },
     "metadata": {},
     "output_type": "display_data"
    },
    {
     "data": {
      "text/html": [
       "<pre>Setting up lookup tables.</pre>"
      ],
      "text/plain": [
       "Setting up lookup tables."
      ]
     },
     "metadata": {},
     "output_type": "display_data"
    },
    {
     "data": {
      "text/html": [
       "<pre>Processing data in one pass using dense lookup tables.</pre>"
      ],
      "text/plain": [
       "Processing data in one pass using dense lookup tables."
      ]
     },
     "metadata": {},
     "output_type": "display_data"
    },
    {
     "data": {
      "text/html": [
       "<pre>+-------------------------------------+------------------+-----------------+</pre>"
      ],
      "text/plain": [
       "+-------------------------------------+------------------+-----------------+"
      ]
     },
     "metadata": {},
     "output_type": "display_data"
    },
    {
     "data": {
      "text/html": [
       "<pre>| Elapsed Time (Constructing Lookups) | Total % Complete | Items Processed |</pre>"
      ],
      "text/plain": [
       "| Elapsed Time (Constructing Lookups) | Total % Complete | Items Processed |"
      ]
     },
     "metadata": {},
     "output_type": "display_data"
    },
    {
     "data": {
      "text/html": [
       "<pre>+-------------------------------------+------------------+-----------------+</pre>"
      ],
      "text/plain": [
       "+-------------------------------------+------------------+-----------------+"
      ]
     },
     "metadata": {},
     "output_type": "display_data"
    },
    {
     "data": {
      "text/html": [
       "<pre>| 17.165ms                            | 0                | 0               |</pre>"
      ],
      "text/plain": [
       "| 17.165ms                            | 0                | 0               |"
      ]
     },
     "metadata": {},
     "output_type": "display_data"
    },
    {
     "data": {
      "text/html": [
       "<pre>| 20.512ms                            | 100              | 47              |</pre>"
      ],
      "text/plain": [
       "| 20.512ms                            | 100              | 47              |"
      ]
     },
     "metadata": {},
     "output_type": "display_data"
    },
    {
     "data": {
      "text/html": [
       "<pre>+-------------------------------------+------------------+-----------------+</pre>"
      ],
      "text/plain": [
       "+-------------------------------------+------------------+-----------------+"
      ]
     },
     "metadata": {},
     "output_type": "display_data"
    },
    {
     "data": {
      "text/html": [
       "<pre>Finalizing lookup tables.</pre>"
      ],
      "text/plain": [
       "Finalizing lookup tables."
      ]
     },
     "metadata": {},
     "output_type": "display_data"
    },
    {
     "data": {
      "text/html": [
       "<pre>Generating candidate set for working with new users.</pre>"
      ],
      "text/plain": [
       "Generating candidate set for working with new users."
      ]
     },
     "metadata": {},
     "output_type": "display_data"
    },
    {
     "data": {
      "text/html": [
       "<pre>Finished training in 0.030853s</pre>"
      ],
      "text/plain": [
       "Finished training in 0.030853s"
      ]
     },
     "metadata": {},
     "output_type": "display_data"
    },
    {
     "data": {
      "text/html": [
       "<pre>Recsys training: model = item_similarity</pre>"
      ],
      "text/plain": [
       "Recsys training: model = item_similarity"
      ]
     },
     "metadata": {},
     "output_type": "display_data"
    },
    {
     "data": {
      "text/html": [
       "<pre>Preparing data set.</pre>"
      ],
      "text/plain": [
       "Preparing data set."
      ]
     },
     "metadata": {},
     "output_type": "display_data"
    },
    {
     "data": {
      "text/html": [
       "<pre>    Data has 32406 observations with 20762 users and 47 items.</pre>"
      ],
      "text/plain": [
       "    Data has 32406 observations with 20762 users and 47 items."
      ]
     },
     "metadata": {},
     "output_type": "display_data"
    },
    {
     "data": {
      "text/html": [
       "<pre>    Data prepared in: 0.060835s</pre>"
      ],
      "text/plain": [
       "    Data prepared in: 0.060835s"
      ]
     },
     "metadata": {},
     "output_type": "display_data"
    },
    {
     "data": {
      "text/html": [
       "<pre>Training model from provided data.</pre>"
      ],
      "text/plain": [
       "Training model from provided data."
      ]
     },
     "metadata": {},
     "output_type": "display_data"
    },
    {
     "data": {
      "text/html": [
       "<pre>Gathering per-item and per-user statistics.</pre>"
      ],
      "text/plain": [
       "Gathering per-item and per-user statistics."
      ]
     },
     "metadata": {},
     "output_type": "display_data"
    },
    {
     "data": {
      "text/html": [
       "<pre>+--------------------------------+------------+</pre>"
      ],
      "text/plain": [
       "+--------------------------------+------------+"
      ]
     },
     "metadata": {},
     "output_type": "display_data"
    },
    {
     "data": {
      "text/html": [
       "<pre>| Elapsed Time (Item Statistics) | % Complete |</pre>"
      ],
      "text/plain": [
       "| Elapsed Time (Item Statistics) | % Complete |"
      ]
     },
     "metadata": {},
     "output_type": "display_data"
    },
    {
     "data": {
      "text/html": [
       "<pre>+--------------------------------+------------+</pre>"
      ],
      "text/plain": [
       "+--------------------------------+------------+"
      ]
     },
     "metadata": {},
     "output_type": "display_data"
    },
    {
     "data": {
      "text/html": [
       "<pre>| 967us                          | 38.5       |</pre>"
      ],
      "text/plain": [
       "| 967us                          | 38.5       |"
      ]
     },
     "metadata": {},
     "output_type": "display_data"
    },
    {
     "data": {
      "text/html": [
       "<pre>| 4.038ms                        | 100        |</pre>"
      ],
      "text/plain": [
       "| 4.038ms                        | 100        |"
      ]
     },
     "metadata": {},
     "output_type": "display_data"
    },
    {
     "data": {
      "text/html": [
       "<pre>+--------------------------------+------------+</pre>"
      ],
      "text/plain": [
       "+--------------------------------+------------+"
      ]
     },
     "metadata": {},
     "output_type": "display_data"
    },
    {
     "data": {
      "text/html": [
       "<pre>Setting up lookup tables.</pre>"
      ],
      "text/plain": [
       "Setting up lookup tables."
      ]
     },
     "metadata": {},
     "output_type": "display_data"
    },
    {
     "data": {
      "text/html": [
       "<pre>Processing data in one pass using dense lookup tables.</pre>"
      ],
      "text/plain": [
       "Processing data in one pass using dense lookup tables."
      ]
     },
     "metadata": {},
     "output_type": "display_data"
    },
    {
     "data": {
      "text/html": [
       "<pre>+-------------------------------------+------------------+-----------------+</pre>"
      ],
      "text/plain": [
       "+-------------------------------------+------------------+-----------------+"
      ]
     },
     "metadata": {},
     "output_type": "display_data"
    },
    {
     "data": {
      "text/html": [
       "<pre>| Elapsed Time (Constructing Lookups) | Total % Complete | Items Processed |</pre>"
      ],
      "text/plain": [
       "| Elapsed Time (Constructing Lookups) | Total % Complete | Items Processed |"
      ]
     },
     "metadata": {},
     "output_type": "display_data"
    },
    {
     "data": {
      "text/html": [
       "<pre>+-------------------------------------+------------------+-----------------+</pre>"
      ],
      "text/plain": [
       "+-------------------------------------+------------------+-----------------+"
      ]
     },
     "metadata": {},
     "output_type": "display_data"
    },
    {
     "data": {
      "text/html": [
       "<pre>| 6.355ms                             | 0                | 0               |</pre>"
      ],
      "text/plain": [
       "| 6.355ms                             | 0                | 0               |"
      ]
     },
     "metadata": {},
     "output_type": "display_data"
    },
    {
     "data": {
      "text/html": [
       "<pre>| 11.216ms                            | 100              | 47              |</pre>"
      ],
      "text/plain": [
       "| 11.216ms                            | 100              | 47              |"
      ]
     },
     "metadata": {},
     "output_type": "display_data"
    },
    {
     "data": {
      "text/html": [
       "<pre>+-------------------------------------+------------------+-----------------+</pre>"
      ],
      "text/plain": [
       "+-------------------------------------+------------------+-----------------+"
      ]
     },
     "metadata": {},
     "output_type": "display_data"
    },
    {
     "data": {
      "text/html": [
       "<pre>Finalizing lookup tables.</pre>"
      ],
      "text/plain": [
       "Finalizing lookup tables."
      ]
     },
     "metadata": {},
     "output_type": "display_data"
    },
    {
     "data": {
      "text/html": [
       "<pre>Generating candidate set for working with new users.</pre>"
      ],
      "text/plain": [
       "Generating candidate set for working with new users."
      ]
     },
     "metadata": {},
     "output_type": "display_data"
    },
    {
     "data": {
      "text/html": [
       "<pre>Finished training in 0.025701s</pre>"
      ],
      "text/plain": [
       "Finished training in 0.025701s"
      ]
     },
     "metadata": {},
     "output_type": "display_data"
    },
    {
     "data": {
      "text/html": [
       "<pre>Recsys training: model = factorization_recommender</pre>"
      ],
      "text/plain": [
       "Recsys training: model = factorization_recommender"
      ]
     },
     "metadata": {},
     "output_type": "display_data"
    },
    {
     "data": {
      "text/html": [
       "<pre>Preparing data set.</pre>"
      ],
      "text/plain": [
       "Preparing data set."
      ]
     },
     "metadata": {},
     "output_type": "display_data"
    },
    {
     "data": {
      "text/html": [
       "<pre>    Data has 32406 observations with 20762 users and 47 items.</pre>"
      ],
      "text/plain": [
       "    Data has 32406 observations with 20762 users and 47 items."
      ]
     },
     "metadata": {},
     "output_type": "display_data"
    },
    {
     "data": {
      "text/html": [
       "<pre>    Data prepared in: 0.058744s</pre>"
      ],
      "text/plain": [
       "    Data prepared in: 0.058744s"
      ]
     },
     "metadata": {},
     "output_type": "display_data"
    },
    {
     "data": {
      "text/html": [
       "<pre>Training factorization_recommender for recommendations.</pre>"
      ],
      "text/plain": [
       "Training factorization_recommender for recommendations."
      ]
     },
     "metadata": {},
     "output_type": "display_data"
    },
    {
     "data": {
      "text/html": [
       "<pre>+--------------------------------+--------------------------------------------------+----------+</pre>"
      ],
      "text/plain": [
       "+--------------------------------+--------------------------------------------------+----------+"
      ]
     },
     "metadata": {},
     "output_type": "display_data"
    },
    {
     "data": {
      "text/html": [
       "<pre>| Parameter                      | Description                                      | Value    |</pre>"
      ],
      "text/plain": [
       "| Parameter                      | Description                                      | Value    |"
      ]
     },
     "metadata": {},
     "output_type": "display_data"
    },
    {
     "data": {
      "text/html": [
       "<pre>+--------------------------------+--------------------------------------------------+----------+</pre>"
      ],
      "text/plain": [
       "+--------------------------------+--------------------------------------------------+----------+"
      ]
     },
     "metadata": {},
     "output_type": "display_data"
    },
    {
     "data": {
      "text/html": [
       "<pre>| num_factors                    | Factor Dimension                                 | 8        |</pre>"
      ],
      "text/plain": [
       "| num_factors                    | Factor Dimension                                 | 8        |"
      ]
     },
     "metadata": {},
     "output_type": "display_data"
    },
    {
     "data": {
      "text/html": [
       "<pre>| regularization                 | L2 Regularization on Factors                     | 1e-08    |</pre>"
      ],
      "text/plain": [
       "| regularization                 | L2 Regularization on Factors                     | 1e-08    |"
      ]
     },
     "metadata": {},
     "output_type": "display_data"
    },
    {
     "data": {
      "text/html": [
       "<pre>| solver                         | Solver used for training                         | sgd      |</pre>"
      ],
      "text/plain": [
       "| solver                         | Solver used for training                         | sgd      |"
      ]
     },
     "metadata": {},
     "output_type": "display_data"
    },
    {
     "data": {
      "text/html": [
       "<pre>| linear_regularization          | L2 Regularization on Linear Coefficients         | 1e-10    |</pre>"
      ],
      "text/plain": [
       "| linear_regularization          | L2 Regularization on Linear Coefficients         | 1e-10    |"
      ]
     },
     "metadata": {},
     "output_type": "display_data"
    },
    {
     "data": {
      "text/html": [
       "<pre>| max_iterations                 | Maximum Number of Iterations                     | 50       |</pre>"
      ],
      "text/plain": [
       "| max_iterations                 | Maximum Number of Iterations                     | 50       |"
      ]
     },
     "metadata": {},
     "output_type": "display_data"
    },
    {
     "data": {
      "text/html": [
       "<pre>+--------------------------------+--------------------------------------------------+----------+</pre>"
      ],
      "text/plain": [
       "+--------------------------------+--------------------------------------------------+----------+"
      ]
     },
     "metadata": {},
     "output_type": "display_data"
    },
    {
     "data": {
      "text/html": [
       "<pre>  Optimizing model using SGD; tuning step size.</pre>"
      ],
      "text/plain": [
       "  Optimizing model using SGD; tuning step size."
      ]
     },
     "metadata": {},
     "output_type": "display_data"
    },
    {
     "data": {
      "text/html": [
       "<pre>  Using 10000 / 32406 points for tuning the step size.</pre>"
      ],
      "text/plain": [
       "  Using 10000 / 32406 points for tuning the step size."
      ]
     },
     "metadata": {},
     "output_type": "display_data"
    },
    {
     "data": {
      "text/html": [
       "<pre>+---------+-------------------+------------------------------------------+</pre>"
      ],
      "text/plain": [
       "+---------+-------------------+------------------------------------------+"
      ]
     },
     "metadata": {},
     "output_type": "display_data"
    },
    {
     "data": {
      "text/html": [
       "<pre>| Attempt | Initial Step Size | Estimated Objective Value                |</pre>"
      ],
      "text/plain": [
       "| Attempt | Initial Step Size | Estimated Objective Value                |"
      ]
     },
     "metadata": {},
     "output_type": "display_data"
    },
    {
     "data": {
      "text/html": [
       "<pre>+---------+-------------------+------------------------------------------+</pre>"
      ],
      "text/plain": [
       "+---------+-------------------+------------------------------------------+"
      ]
     },
     "metadata": {},
     "output_type": "display_data"
    },
    {
     "data": {
      "text/html": [
       "<pre>| 0       | 25                | No Decrease (428.88 >= 361.899)          |</pre>"
      ],
      "text/plain": [
       "| 0       | 25                | No Decrease (428.88 >= 361.899)          |"
      ]
     },
     "metadata": {},
     "output_type": "display_data"
    },
    {
     "data": {
      "text/html": [
       "<pre>| 1       | 6.25              | No Decrease (431.291 >= 361.899)         |</pre>"
      ],
      "text/plain": [
       "| 1       | 6.25              | No Decrease (431.291 >= 361.899)         |"
      ]
     },
     "metadata": {},
     "output_type": "display_data"
    },
    {
     "data": {
      "text/html": [
       "<pre>| 2       | 1.5625            | No Decrease (429.944 >= 361.899)         |</pre>"
      ],
      "text/plain": [
       "| 2       | 1.5625            | No Decrease (429.944 >= 361.899)         |"
      ]
     },
     "metadata": {},
     "output_type": "display_data"
    },
    {
     "data": {
      "text/html": [
       "<pre>| 3       | 0.390625          | 354.096                                  |</pre>"
      ],
      "text/plain": [
       "| 3       | 0.390625          | 354.096                                  |"
      ]
     },
     "metadata": {},
     "output_type": "display_data"
    },
    {
     "data": {
      "text/html": [
       "<pre>| 4       | 0.195312          | 324.332                                  |</pre>"
      ],
      "text/plain": [
       "| 4       | 0.195312          | 324.332                                  |"
      ]
     },
     "metadata": {},
     "output_type": "display_data"
    },
    {
     "data": {
      "text/html": [
       "<pre>| 5       | 0.0976562         | 290.02                                   |</pre>"
      ],
      "text/plain": [
       "| 5       | 0.0976562         | 290.02                                   |"
      ]
     },
     "metadata": {},
     "output_type": "display_data"
    },
    {
     "data": {
      "text/html": [
       "<pre>| 6       | 0.0488281         | 280.49                                   |</pre>"
      ],
      "text/plain": [
       "| 6       | 0.0488281         | 280.49                                   |"
      ]
     },
     "metadata": {},
     "output_type": "display_data"
    },
    {
     "data": {
      "text/html": [
       "<pre>| 7       | 0.0244141         | 259.268                                  |</pre>"
      ],
      "text/plain": [
       "| 7       | 0.0244141         | 259.268                                  |"
      ]
     },
     "metadata": {},
     "output_type": "display_data"
    },
    {
     "data": {
      "text/html": [
       "<pre>| 8       | 0.012207          | 235.195                                  |</pre>"
      ],
      "text/plain": [
       "| 8       | 0.012207          | 235.195                                  |"
      ]
     },
     "metadata": {},
     "output_type": "display_data"
    },
    {
     "data": {
      "text/html": [
       "<pre>| 9       | 0.00610352        | 306.125                                  |</pre>"
      ],
      "text/plain": [
       "| 9       | 0.00610352        | 306.125                                  |"
      ]
     },
     "metadata": {},
     "output_type": "display_data"
    },
    {
     "data": {
      "text/html": [
       "<pre>| 10      | 0.00305176        | 348.614                                  |</pre>"
      ],
      "text/plain": [
       "| 10      | 0.00305176        | 348.614                                  |"
      ]
     },
     "metadata": {},
     "output_type": "display_data"
    },
    {
     "data": {
      "text/html": [
       "<pre>| 11      | 0.00152588        | 351.255                                  |</pre>"
      ],
      "text/plain": [
       "| 11      | 0.00152588        | 351.255                                  |"
      ]
     },
     "metadata": {},
     "output_type": "display_data"
    },
    {
     "data": {
      "text/html": [
       "<pre>+---------+-------------------+------------------------------------------+</pre>"
      ],
      "text/plain": [
       "+---------+-------------------+------------------------------------------+"
      ]
     },
     "metadata": {},
     "output_type": "display_data"
    },
    {
     "data": {
      "text/html": [
       "<pre>| Final   | 0.012207          | 235.195                                  |</pre>"
      ],
      "text/plain": [
       "| Final   | 0.012207          | 235.195                                  |"
      ]
     },
     "metadata": {},
     "output_type": "display_data"
    },
    {
     "data": {
      "text/html": [
       "<pre>+---------+-------------------+------------------------------------------+</pre>"
      ],
      "text/plain": [
       "+---------+-------------------+------------------------------------------+"
      ]
     },
     "metadata": {},
     "output_type": "display_data"
    },
    {
     "data": {
      "text/html": [
       "<pre>Starting Optimization.</pre>"
      ],
      "text/plain": [
       "Starting Optimization."
      ]
     },
     "metadata": {},
     "output_type": "display_data"
    },
    {
     "data": {
      "text/html": [
       "<pre>+---------+--------------+-------------------+-----------------------+-------------+</pre>"
      ],
      "text/plain": [
       "+---------+--------------+-------------------+-----------------------+-------------+"
      ]
     },
     "metadata": {},
     "output_type": "display_data"
    },
    {
     "data": {
      "text/html": [
       "<pre>| Iter.   | Elapsed Time | Approx. Objective | Approx. Training RMSE | Step Size   |</pre>"
      ],
      "text/plain": [
       "| Iter.   | Elapsed Time | Approx. Objective | Approx. Training RMSE | Step Size   |"
      ]
     },
     "metadata": {},
     "output_type": "display_data"
    },
    {
     "data": {
      "text/html": [
       "<pre>+---------+--------------+-------------------+-----------------------+-------------+</pre>"
      ],
      "text/plain": [
       "+---------+--------------+-------------------+-----------------------+-------------+"
      ]
     },
     "metadata": {},
     "output_type": "display_data"
    },
    {
     "data": {
      "text/html": [
       "<pre>| Initial | 84us         | 318.262           | 17.8399               |             |</pre>"
      ],
      "text/plain": [
       "| Initial | 84us         | 318.262           | 17.8399               |             |"
      ]
     },
     "metadata": {},
     "output_type": "display_data"
    },
    {
     "data": {
      "text/html": [
       "<pre>+---------+--------------+-------------------+-----------------------+-------------+</pre>"
      ],
      "text/plain": [
       "+---------+--------------+-------------------+-----------------------+-------------+"
      ]
     },
     "metadata": {},
     "output_type": "display_data"
    },
    {
     "data": {
      "text/html": [
       "<pre>| 1       | 111.97ms     | 300.752           | 17.3422               | 0.012207    |</pre>"
      ],
      "text/plain": [
       "| 1       | 111.97ms     | 300.752           | 17.3422               | 0.012207    |"
      ]
     },
     "metadata": {},
     "output_type": "display_data"
    },
    {
     "data": {
      "text/html": [
       "<pre>| 2       | 164.493ms    | 276.587           | 16.6309               | 0.00725834  |</pre>"
      ],
      "text/plain": [
       "| 2       | 164.493ms    | 276.587           | 16.6309               | 0.00725834  |"
      ]
     },
     "metadata": {},
     "output_type": "display_data"
    },
    {
     "data": {
      "text/html": [
       "<pre>| 3       | 228.349ms    | 233.686           | 15.2868               | 0.00535512  |</pre>"
      ],
      "text/plain": [
       "| 3       | 228.349ms    | 233.686           | 15.2868               | 0.00535512  |"
      ]
     },
     "metadata": {},
     "output_type": "display_data"
    },
    {
     "data": {
      "text/html": [
       "<pre>| 4       | 311.673ms    | 204.009           | 14.2832               | 0.00431584  |</pre>"
      ],
      "text/plain": [
       "| 4       | 311.673ms    | 204.009           | 14.2832               | 0.00431584  |"
      ]
     },
     "metadata": {},
     "output_type": "display_data"
    },
    {
     "data": {
      "text/html": [
       "<pre>| 5       | 366.785ms    | 172.23            | 13.1236               | 0.00365075  |</pre>"
      ],
      "text/plain": [
       "| 5       | 366.785ms    | 172.23            | 13.1236               | 0.00365075  |"
      ]
     },
     "metadata": {},
     "output_type": "display_data"
    },
    {
     "data": {
      "text/html": [
       "<pre>| 6       | 437.376ms    | 158.172           | 12.5766               | 0.00318417  |</pre>"
      ],
      "text/plain": [
       "| 6       | 437.376ms    | 158.172           | 12.5766               | 0.00318417  |"
      ]
     },
     "metadata": {},
     "output_type": "display_data"
    },
    {
     "data": {
      "text/html": [
       "<pre>| 11      | 933.81ms     | 70.6839           | 8.40735               | 0.002021    |</pre>"
      ],
      "text/plain": [
       "| 11      | 933.81ms     | 70.6839           | 8.40735               | 0.002021    |"
      ]
     },
     "metadata": {},
     "output_type": "display_data"
    },
    {
     "data": {
      "text/html": [
       "<pre>| 25      | 2.12s        | 4.91987           | 2.218                 | 0.000649206 |</pre>"
      ],
      "text/plain": [
       "| 25      | 2.12s        | 4.91987           | 2.218                 | 0.000649206 |"
      ]
     },
     "metadata": {},
     "output_type": "display_data"
    },
    {
     "data": {
      "text/html": [
       "<pre>| 50      | 4.37s        | 0.185077          | 0.429794              | 0.000162302 |</pre>"
      ],
      "text/plain": [
       "| 50      | 4.37s        | 0.185077          | 0.429794              | 0.000162302 |"
      ]
     },
     "metadata": {},
     "output_type": "display_data"
    },
    {
     "data": {
      "text/html": [
       "<pre>+---------+--------------+-------------------+-----------------------+-------------+</pre>"
      ],
      "text/plain": [
       "+---------+--------------+-------------------+-----------------------+-------------+"
      ]
     },
     "metadata": {},
     "output_type": "display_data"
    },
    {
     "data": {
      "text/html": [
       "<pre>Optimization Complete: Maximum number of passes through the data reached.</pre>"
      ],
      "text/plain": [
       "Optimization Complete: Maximum number of passes through the data reached."
      ]
     },
     "metadata": {},
     "output_type": "display_data"
    },
    {
     "data": {
      "text/html": [
       "<pre>Computing final objective value and training RMSE.</pre>"
      ],
      "text/plain": [
       "Computing final objective value and training RMSE."
      ]
     },
     "metadata": {},
     "output_type": "display_data"
    },
    {
     "data": {
      "text/html": [
       "<pre>       Final objective value: 0.180076</pre>"
      ],
      "text/plain": [
       "       Final objective value: 0.180076"
      ]
     },
     "metadata": {},
     "output_type": "display_data"
    },
    {
     "data": {
      "text/html": [
       "<pre>       Final training RMSE: 0.423936</pre>"
      ],
      "text/plain": [
       "       Final training RMSE: 0.423936"
      ]
     },
     "metadata": {},
     "output_type": "display_data"
    },
    {
     "data": {
      "text/html": [
       "<pre>Recsys training: model = factorization_recommender</pre>"
      ],
      "text/plain": [
       "Recsys training: model = factorization_recommender"
      ]
     },
     "metadata": {},
     "output_type": "display_data"
    },
    {
     "data": {
      "text/html": [
       "<pre>Preparing data set.</pre>"
      ],
      "text/plain": [
       "Preparing data set."
      ]
     },
     "metadata": {},
     "output_type": "display_data"
    },
    {
     "data": {
      "text/html": [
       "<pre>    Data has 32406 observations with 20762 users and 47 items.</pre>"
      ],
      "text/plain": [
       "    Data has 32406 observations with 20762 users and 47 items."
      ]
     },
     "metadata": {},
     "output_type": "display_data"
    },
    {
     "data": {
      "text/html": [
       "<pre>    Data prepared in: 0.055627s</pre>"
      ],
      "text/plain": [
       "    Data prepared in: 0.055627s"
      ]
     },
     "metadata": {},
     "output_type": "display_data"
    },
    {
     "data": {
      "text/html": [
       "<pre>Training factorization_recommender for recommendations.</pre>"
      ],
      "text/plain": [
       "Training factorization_recommender for recommendations."
      ]
     },
     "metadata": {},
     "output_type": "display_data"
    },
    {
     "data": {
      "text/html": [
       "<pre>+------------------------------+--------------------------------------------------+----------+</pre>"
      ],
      "text/plain": [
       "+------------------------------+--------------------------------------------------+----------+"
      ]
     },
     "metadata": {},
     "output_type": "display_data"
    },
    {
     "data": {
      "text/html": [
       "<pre>| Parameter                    | Description                                      | Value    |</pre>"
      ],
      "text/plain": [
       "| Parameter                    | Description                                      | Value    |"
      ]
     },
     "metadata": {},
     "output_type": "display_data"
    },
    {
     "data": {
      "text/html": [
       "<pre>+------------------------------+--------------------------------------------------+----------+</pre>"
      ],
      "text/plain": [
       "+------------------------------+--------------------------------------------------+----------+"
      ]
     },
     "metadata": {},
     "output_type": "display_data"
    },
    {
     "data": {
      "text/html": [
       "<pre>| num_factors                  | Factor Dimension                                 | 8        |</pre>"
      ],
      "text/plain": [
       "| num_factors                  | Factor Dimension                                 | 8        |"
      ]
     },
     "metadata": {},
     "output_type": "display_data"
    },
    {
     "data": {
      "text/html": [
       "<pre>| regularization               | L2 Regularization on Factors                     | 1e-08    |</pre>"
      ],
      "text/plain": [
       "| regularization               | L2 Regularization on Factors                     | 1e-08    |"
      ]
     },
     "metadata": {},
     "output_type": "display_data"
    },
    {
     "data": {
      "text/html": [
       "<pre>| max_iterations               | Maximum Number of Iterations                     | 50       |</pre>"
      ],
      "text/plain": [
       "| max_iterations               | Maximum Number of Iterations                     | 50       |"
      ]
     },
     "metadata": {},
     "output_type": "display_data"
    },
    {
     "data": {
      "text/html": [
       "<pre>| solver                       | Solver used for training                         | als      |</pre>"
      ],
      "text/plain": [
       "| solver                       | Solver used for training                         | als      |"
      ]
     },
     "metadata": {},
     "output_type": "display_data"
    },
    {
     "data": {
      "text/html": [
       "<pre>+------------------------------+--------------------------------------------------+----------+</pre>"
      ],
      "text/plain": [
       "+------------------------------+--------------------------------------------------+----------+"
      ]
     },
     "metadata": {},
     "output_type": "display_data"
    },
    {
     "data": {
      "text/html": [
       "<pre>+---------+--------------+------------------------+</pre>"
      ],
      "text/plain": [
       "+---------+--------------+------------------------+"
      ]
     },
     "metadata": {},
     "output_type": "display_data"
    },
    {
     "data": {
      "text/html": [
       "<pre>| Iter.   | Elapsed time | RMSE                   |</pre>"
      ],
      "text/plain": [
       "| Iter.   | Elapsed time | RMSE                   |"
      ]
     },
     "metadata": {},
     "output_type": "display_data"
    },
    {
     "data": {
      "text/html": [
       "<pre>+---------+--------------+------------------------+</pre>"
      ],
      "text/plain": [
       "+---------+--------------+------------------------+"
      ]
     },
     "metadata": {},
     "output_type": "display_data"
    },
    {
     "data": {
      "text/html": [
       "<pre>| Initial | 488us        | NA                     |</pre>"
      ],
      "text/plain": [
       "| Initial | 488us        | NA                     |"
      ]
     },
     "metadata": {},
     "output_type": "display_data"
    },
    {
     "data": {
      "text/html": [
       "<pre>+---------+--------------+------------------------+</pre>"
      ],
      "text/plain": [
       "+---------+--------------+------------------------+"
      ]
     },
     "metadata": {},
     "output_type": "display_data"
    },
    {
     "data": {
      "text/html": [
       "<pre>| 0       | 64.339ms     | 3.06388                |</pre>"
      ],
      "text/plain": [
       "| 0       | 64.339ms     | 3.06388                |"
      ]
     },
     "metadata": {},
     "output_type": "display_data"
    },
    {
     "data": {
      "text/html": [
       "<pre>| 1       | 116.186ms    | 0.288102               |</pre>"
      ],
      "text/plain": [
       "| 1       | 116.186ms    | 0.288102               |"
      ]
     },
     "metadata": {},
     "output_type": "display_data"
    },
    {
     "data": {
      "text/html": [
       "<pre>| 2       | 168.927ms    | 0.202921               |</pre>"
      ],
      "text/plain": [
       "| 2       | 168.927ms    | 0.202921               |"
      ]
     },
     "metadata": {},
     "output_type": "display_data"
    },
    {
     "data": {
      "text/html": [
       "<pre>| 3       | 217.741ms    | 0.183391               |</pre>"
      ],
      "text/plain": [
       "| 3       | 217.741ms    | 0.183391               |"
      ]
     },
     "metadata": {},
     "output_type": "display_data"
    },
    {
     "data": {
      "text/html": [
       "<pre>| 4       | 279.934ms    | 0.171076               |</pre>"
      ],
      "text/plain": [
       "| 4       | 279.934ms    | 0.171076               |"
      ]
     },
     "metadata": {},
     "output_type": "display_data"
    },
    {
     "data": {
      "text/html": [
       "<pre>| 5       | 324.631ms    | 0.160889               |</pre>"
      ],
      "text/plain": [
       "| 5       | 324.631ms    | 0.160889               |"
      ]
     },
     "metadata": {},
     "output_type": "display_data"
    },
    {
     "data": {
      "text/html": [
       "<pre>| 6       | 378.687ms    | 0.152395               |</pre>"
      ],
      "text/plain": [
       "| 6       | 378.687ms    | 0.152395               |"
      ]
     },
     "metadata": {},
     "output_type": "display_data"
    },
    {
     "data": {
      "text/html": [
       "<pre>| 7       | 437.116ms    | 0.145305               |</pre>"
      ],
      "text/plain": [
       "| 7       | 437.116ms    | 0.145305               |"
      ]
     },
     "metadata": {},
     "output_type": "display_data"
    },
    {
     "data": {
      "text/html": [
       "<pre>| 8       | 477.914ms    | 0.139236               |</pre>"
      ],
      "text/plain": [
       "| 8       | 477.914ms    | 0.139236               |"
      ]
     },
     "metadata": {},
     "output_type": "display_data"
    },
    {
     "data": {
      "text/html": [
       "<pre>| 9       | 533.082ms    | 0.133902               |</pre>"
      ],
      "text/plain": [
       "| 9       | 533.082ms    | 0.133902               |"
      ]
     },
     "metadata": {},
     "output_type": "display_data"
    },
    {
     "data": {
      "text/html": [
       "<pre>| 10      | 585.888ms    | 0.129113               |</pre>"
      ],
      "text/plain": [
       "| 10      | 585.888ms    | 0.129113               |"
      ]
     },
     "metadata": {},
     "output_type": "display_data"
    },
    {
     "data": {
      "text/html": [
       "<pre>| 11      | 634.174ms    | 0.124768               |</pre>"
      ],
      "text/plain": [
       "| 11      | 634.174ms    | 0.124768               |"
      ]
     },
     "metadata": {},
     "output_type": "display_data"
    },
    {
     "data": {
      "text/html": [
       "<pre>| 12      | 683.097ms    | 0.120779               |</pre>"
      ],
      "text/plain": [
       "| 12      | 683.097ms    | 0.120779               |"
      ]
     },
     "metadata": {},
     "output_type": "display_data"
    },
    {
     "data": {
      "text/html": [
       "<pre>| 13      | 740.489ms    | 0.117098               |</pre>"
      ],
      "text/plain": [
       "| 13      | 740.489ms    | 0.117098               |"
      ]
     },
     "metadata": {},
     "output_type": "display_data"
    },
    {
     "data": {
      "text/html": [
       "<pre>| 14      | 787.659ms    | 0.113687               |</pre>"
      ],
      "text/plain": [
       "| 14      | 787.659ms    | 0.113687               |"
      ]
     },
     "metadata": {},
     "output_type": "display_data"
    },
    {
     "data": {
      "text/html": [
       "<pre>| 15      | 831.504ms    | 0.110512               |</pre>"
      ],
      "text/plain": [
       "| 15      | 831.504ms    | 0.110512               |"
      ]
     },
     "metadata": {},
     "output_type": "display_data"
    },
    {
     "data": {
      "text/html": [
       "<pre>| 16      | 887.366ms    | 0.10755                |</pre>"
      ],
      "text/plain": [
       "| 16      | 887.366ms    | 0.10755                |"
      ]
     },
     "metadata": {},
     "output_type": "display_data"
    },
    {
     "data": {
      "text/html": [
       "<pre>| 17      | 944.874ms    | 0.104783               |</pre>"
      ],
      "text/plain": [
       "| 17      | 944.874ms    | 0.104783               |"
      ]
     },
     "metadata": {},
     "output_type": "display_data"
    },
    {
     "data": {
      "text/html": [
       "<pre>| 18      | 994.256ms    | 0.102166               |</pre>"
      ],
      "text/plain": [
       "| 18      | 994.256ms    | 0.102166               |"
      ]
     },
     "metadata": {},
     "output_type": "display_data"
    },
    {
     "data": {
      "text/html": [
       "<pre>| 19      | 1.04s        | 0.099648               |</pre>"
      ],
      "text/plain": [
       "| 19      | 1.04s        | 0.099648               |"
      ]
     },
     "metadata": {},
     "output_type": "display_data"
    },
    {
     "data": {
      "text/html": [
       "<pre>| 20      | 1.09s        | 0.0971994              |</pre>"
      ],
      "text/plain": [
       "| 20      | 1.09s        | 0.0971994              |"
      ]
     },
     "metadata": {},
     "output_type": "display_data"
    },
    {
     "data": {
      "text/html": [
       "<pre>| 21      | 1.14s        | 0.0948645              |</pre>"
      ],
      "text/plain": [
       "| 21      | 1.14s        | 0.0948645              |"
      ]
     },
     "metadata": {},
     "output_type": "display_data"
    },
    {
     "data": {
      "text/html": [
       "<pre>| 22      | 1.19s        | 0.0927294              |</pre>"
      ],
      "text/plain": [
       "| 22      | 1.19s        | 0.0927294              |"
      ]
     },
     "metadata": {},
     "output_type": "display_data"
    },
    {
     "data": {
      "text/html": [
       "<pre>| 23      | 1.23s        | 0.0907896              |</pre>"
      ],
      "text/plain": [
       "| 23      | 1.23s        | 0.0907896              |"
      ]
     },
     "metadata": {},
     "output_type": "display_data"
    },
    {
     "data": {
      "text/html": [
       "<pre>| 24      | 1.28s        | 0.0890411              |</pre>"
      ],
      "text/plain": [
       "| 24      | 1.28s        | 0.0890411              |"
      ]
     },
     "metadata": {},
     "output_type": "display_data"
    },
    {
     "data": {
      "text/html": [
       "<pre>| 25      | 1.32s        | 0.0874506              |</pre>"
      ],
      "text/plain": [
       "| 25      | 1.32s        | 0.0874506              |"
      ]
     },
     "metadata": {},
     "output_type": "display_data"
    },
    {
     "data": {
      "text/html": [
       "<pre>| 26      | 1.37s        | 0.0859898              |</pre>"
      ],
      "text/plain": [
       "| 26      | 1.37s        | 0.0859898              |"
      ]
     },
     "metadata": {},
     "output_type": "display_data"
    },
    {
     "data": {
      "text/html": [
       "<pre>| 27      | 1.43s        | 0.0846462              |</pre>"
      ],
      "text/plain": [
       "| 27      | 1.43s        | 0.0846462              |"
      ]
     },
     "metadata": {},
     "output_type": "display_data"
    },
    {
     "data": {
      "text/html": [
       "<pre>| 28      | 1.47s        | 0.0834048              |</pre>"
      ],
      "text/plain": [
       "| 28      | 1.47s        | 0.0834048              |"
      ]
     },
     "metadata": {},
     "output_type": "display_data"
    },
    {
     "data": {
      "text/html": [
       "<pre>| 29      | 1.52s        | 0.0822503              |</pre>"
      ],
      "text/plain": [
       "| 29      | 1.52s        | 0.0822503              |"
      ]
     },
     "metadata": {},
     "output_type": "display_data"
    },
    {
     "data": {
      "text/html": [
       "<pre>| 30      | 1.57s        | 0.0811748              |</pre>"
      ],
      "text/plain": [
       "| 30      | 1.57s        | 0.0811748              |"
      ]
     },
     "metadata": {},
     "output_type": "display_data"
    },
    {
     "data": {
      "text/html": [
       "<pre>| 31      | 1.63s        | 0.0801754              |</pre>"
      ],
      "text/plain": [
       "| 31      | 1.63s        | 0.0801754              |"
      ]
     },
     "metadata": {},
     "output_type": "display_data"
    },
    {
     "data": {
      "text/html": [
       "<pre>| 32      | 1.68s        | 0.079251               |</pre>"
      ],
      "text/plain": [
       "| 32      | 1.68s        | 0.079251               |"
      ]
     },
     "metadata": {},
     "output_type": "display_data"
    },
    {
     "data": {
      "text/html": [
       "<pre>| 33      | 1.73s        | 0.0783949              |</pre>"
      ],
      "text/plain": [
       "| 33      | 1.73s        | 0.0783949              |"
      ]
     },
     "metadata": {},
     "output_type": "display_data"
    },
    {
     "data": {
      "text/html": [
       "<pre>| 34      | 1.78s        | 0.0775962              |</pre>"
      ],
      "text/plain": [
       "| 34      | 1.78s        | 0.0775962              |"
      ]
     },
     "metadata": {},
     "output_type": "display_data"
    },
    {
     "data": {
      "text/html": [
       "<pre>| 35      | 1.83s        | 0.0768587              |</pre>"
      ],
      "text/plain": [
       "| 35      | 1.83s        | 0.0768587              |"
      ]
     },
     "metadata": {},
     "output_type": "display_data"
    },
    {
     "data": {
      "text/html": [
       "<pre>| 36      | 1.88s        | 0.0761647              |</pre>"
      ],
      "text/plain": [
       "| 36      | 1.88s        | 0.0761647              |"
      ]
     },
     "metadata": {},
     "output_type": "display_data"
    },
    {
     "data": {
      "text/html": [
       "<pre>| 37      | 1.93s        | 0.0755176              |</pre>"
      ],
      "text/plain": [
       "| 37      | 1.93s        | 0.0755176              |"
      ]
     },
     "metadata": {},
     "output_type": "display_data"
    },
    {
     "data": {
      "text/html": [
       "<pre>| 38      | 1.98s        | 0.0749038              |</pre>"
      ],
      "text/plain": [
       "| 38      | 1.98s        | 0.0749038              |"
      ]
     },
     "metadata": {},
     "output_type": "display_data"
    },
    {
     "data": {
      "text/html": [
       "<pre>| 39      | 2.03s        | 0.0743324              |</pre>"
      ],
      "text/plain": [
       "| 39      | 2.03s        | 0.0743324              |"
      ]
     },
     "metadata": {},
     "output_type": "display_data"
    },
    {
     "data": {
      "text/html": [
       "<pre>| 40      | 2.08s        | 0.0737865              |</pre>"
      ],
      "text/plain": [
       "| 40      | 2.08s        | 0.0737865              |"
      ]
     },
     "metadata": {},
     "output_type": "display_data"
    },
    {
     "data": {
      "text/html": [
       "<pre>| 41      | 2.13s        | 0.07327                |</pre>"
      ],
      "text/plain": [
       "| 41      | 2.13s        | 0.07327                |"
      ]
     },
     "metadata": {},
     "output_type": "display_data"
    },
    {
     "data": {
      "text/html": [
       "<pre>| 42      | 2.18s        | 0.0727752              |</pre>"
      ],
      "text/plain": [
       "| 42      | 2.18s        | 0.0727752              |"
      ]
     },
     "metadata": {},
     "output_type": "display_data"
    },
    {
     "data": {
      "text/html": [
       "<pre>| 43      | 2.22s        | 0.0723037              |</pre>"
      ],
      "text/plain": [
       "| 43      | 2.22s        | 0.0723037              |"
      ]
     },
     "metadata": {},
     "output_type": "display_data"
    },
    {
     "data": {
      "text/html": [
       "<pre>| 44      | 2.28s        | 0.0718509              |</pre>"
      ],
      "text/plain": [
       "| 44      | 2.28s        | 0.0718509              |"
      ]
     },
     "metadata": {},
     "output_type": "display_data"
    },
    {
     "data": {
      "text/html": [
       "<pre>| 45      | 2.33s        | 0.0714218              |</pre>"
      ],
      "text/plain": [
       "| 45      | 2.33s        | 0.0714218              |"
      ]
     },
     "metadata": {},
     "output_type": "display_data"
    },
    {
     "data": {
      "text/html": [
       "<pre>| 46      | 2.37s        | 0.0710074              |</pre>"
      ],
      "text/plain": [
       "| 46      | 2.37s        | 0.0710074              |"
      ]
     },
     "metadata": {},
     "output_type": "display_data"
    },
    {
     "data": {
      "text/html": [
       "<pre>| 47      | 2.43s        | 0.0706127              |</pre>"
      ],
      "text/plain": [
       "| 47      | 2.43s        | 0.0706127              |"
      ]
     },
     "metadata": {},
     "output_type": "display_data"
    },
    {
     "data": {
      "text/html": [
       "<pre>| 48      | 2.49s        | 0.0702352              |</pre>"
      ],
      "text/plain": [
       "| 48      | 2.49s        | 0.0702352              |"
      ]
     },
     "metadata": {},
     "output_type": "display_data"
    },
    {
     "data": {
      "text/html": [
       "<pre>| 49      | 2.54s        | 0.0698716              |</pre>"
      ],
      "text/plain": [
       "| 49      | 2.54s        | 0.0698716              |"
      ]
     },
     "metadata": {},
     "output_type": "display_data"
    },
    {
     "data": {
      "text/html": [
       "<pre>| FINAL   | 2.54s        | 0.0698716              |</pre>"
      ],
      "text/plain": [
       "| FINAL   | 2.54s        | 0.0698716              |"
      ]
     },
     "metadata": {},
     "output_type": "display_data"
    },
    {
     "data": {
      "text/html": [
       "<pre>+---------+--------------+------------------------+</pre>"
      ],
      "text/plain": [
       "+---------+--------------+------------------------+"
      ]
     },
     "metadata": {},
     "output_type": "display_data"
    },
    {
     "data": {
      "text/html": [
       "<pre>Optimization Complete: Iteration limit reached.</pre>"
      ],
      "text/plain": [
       "Optimization Complete: Iteration limit reached."
      ]
     },
     "metadata": {},
     "output_type": "display_data"
    },
    {
     "data": {
      "text/html": [
       "<pre>Recsys training: model = ranking_factorization_recommender</pre>"
      ],
      "text/plain": [
       "Recsys training: model = ranking_factorization_recommender"
      ]
     },
     "metadata": {},
     "output_type": "display_data"
    },
    {
     "data": {
      "text/html": [
       "<pre>Preparing data set.</pre>"
      ],
      "text/plain": [
       "Preparing data set."
      ]
     },
     "metadata": {},
     "output_type": "display_data"
    },
    {
     "data": {
      "text/html": [
       "<pre>    Data has 32406 observations with 20762 users and 47 items.</pre>"
      ],
      "text/plain": [
       "    Data has 32406 observations with 20762 users and 47 items."
      ]
     },
     "metadata": {},
     "output_type": "display_data"
    },
    {
     "data": {
      "text/html": [
       "<pre>    Data prepared in: 0.052552s</pre>"
      ],
      "text/plain": [
       "    Data prepared in: 0.052552s"
      ]
     },
     "metadata": {},
     "output_type": "display_data"
    },
    {
     "data": {
      "text/html": [
       "<pre>Training ranking_factorization_recommender for recommendations.</pre>"
      ],
      "text/plain": [
       "Training ranking_factorization_recommender for recommendations."
      ]
     },
     "metadata": {},
     "output_type": "display_data"
    },
    {
     "data": {
      "text/html": [
       "<pre>+--------------------------------+--------------------------------------------------+----------+</pre>"
      ],
      "text/plain": [
       "+--------------------------------+--------------------------------------------------+----------+"
      ]
     },
     "metadata": {},
     "output_type": "display_data"
    },
    {
     "data": {
      "text/html": [
       "<pre>| Parameter                      | Description                                      | Value    |</pre>"
      ],
      "text/plain": [
       "| Parameter                      | Description                                      | Value    |"
      ]
     },
     "metadata": {},
     "output_type": "display_data"
    },
    {
     "data": {
      "text/html": [
       "<pre>+--------------------------------+--------------------------------------------------+----------+</pre>"
      ],
      "text/plain": [
       "+--------------------------------+--------------------------------------------------+----------+"
      ]
     },
     "metadata": {},
     "output_type": "display_data"
    },
    {
     "data": {
      "text/html": [
       "<pre>| num_factors                    | Factor Dimension                                 | 32       |</pre>"
      ],
      "text/plain": [
       "| num_factors                    | Factor Dimension                                 | 32       |"
      ]
     },
     "metadata": {},
     "output_type": "display_data"
    },
    {
     "data": {
      "text/html": [
       "<pre>| regularization                 | L2 Regularization on Factors                     | 1e-09    |</pre>"
      ],
      "text/plain": [
       "| regularization                 | L2 Regularization on Factors                     | 1e-09    |"
      ]
     },
     "metadata": {},
     "output_type": "display_data"
    },
    {
     "data": {
      "text/html": [
       "<pre>| solver                         | Solver used for training                         | sgd      |</pre>"
      ],
      "text/plain": [
       "| solver                         | Solver used for training                         | sgd      |"
      ]
     },
     "metadata": {},
     "output_type": "display_data"
    },
    {
     "data": {
      "text/html": [
       "<pre>| linear_regularization          | L2 Regularization on Linear Coefficients         | 1e-09    |</pre>"
      ],
      "text/plain": [
       "| linear_regularization          | L2 Regularization on Linear Coefficients         | 1e-09    |"
      ]
     },
     "metadata": {},
     "output_type": "display_data"
    },
    {
     "data": {
      "text/html": [
       "<pre>| ranking_regularization         | Rank-based Regularization Weight                 | 0.25     |</pre>"
      ],
      "text/plain": [
       "| ranking_regularization         | Rank-based Regularization Weight                 | 0.25     |"
      ]
     },
     "metadata": {},
     "output_type": "display_data"
    },
    {
     "data": {
      "text/html": [
       "<pre>| max_iterations                 | Maximum Number of Iterations                     | 25       |</pre>"
      ],
      "text/plain": [
       "| max_iterations                 | Maximum Number of Iterations                     | 25       |"
      ]
     },
     "metadata": {},
     "output_type": "display_data"
    },
    {
     "data": {
      "text/html": [
       "<pre>+--------------------------------+--------------------------------------------------+----------+</pre>"
      ],
      "text/plain": [
       "+--------------------------------+--------------------------------------------------+----------+"
      ]
     },
     "metadata": {},
     "output_type": "display_data"
    },
    {
     "data": {
      "text/html": [
       "<pre>  Optimizing model using SGD; tuning step size.</pre>"
      ],
      "text/plain": [
       "  Optimizing model using SGD; tuning step size."
      ]
     },
     "metadata": {},
     "output_type": "display_data"
    },
    {
     "data": {
      "text/html": [
       "<pre>  Using 10000 / 32406 points for tuning the step size.</pre>"
      ],
      "text/plain": [
       "  Using 10000 / 32406 points for tuning the step size."
      ]
     },
     "metadata": {},
     "output_type": "display_data"
    },
    {
     "data": {
      "text/html": [
       "<pre>+---------+-------------------+------------------------------------------+</pre>"
      ],
      "text/plain": [
       "+---------+-------------------+------------------------------------------+"
      ]
     },
     "metadata": {},
     "output_type": "display_data"
    },
    {
     "data": {
      "text/html": [
       "<pre>| Attempt | Initial Step Size | Estimated Objective Value                |</pre>"
      ],
      "text/plain": [
       "| Attempt | Initial Step Size | Estimated Objective Value                |"
      ]
     },
     "metadata": {},
     "output_type": "display_data"
    },
    {
     "data": {
      "text/html": [
       "<pre>+---------+-------------------+------------------------------------------+</pre>"
      ],
      "text/plain": [
       "+---------+-------------------+------------------------------------------+"
      ]
     },
     "metadata": {},
     "output_type": "display_data"
    },
    {
     "data": {
      "text/html": [
       "<pre>| 0       | 25                | No Decrease (6721.11 >= 897.038)         |</pre>"
      ],
      "text/plain": [
       "| 0       | 25                | No Decrease (6721.11 >= 897.038)         |"
      ]
     },
     "metadata": {},
     "output_type": "display_data"
    },
    {
     "data": {
      "text/html": [
       "<pre>| 1       | 6.25              | No Decrease (6191.69 >= 897.038)         |</pre>"
      ],
      "text/plain": [
       "| 1       | 6.25              | No Decrease (6191.69 >= 897.038)         |"
      ]
     },
     "metadata": {},
     "output_type": "display_data"
    },
    {
     "data": {
      "text/html": [
       "<pre>| 2       | 1.5625            | No Decrease (5989.96 >= 897.038)         |</pre>"
      ],
      "text/plain": [
       "| 2       | 1.5625            | No Decrease (5989.96 >= 897.038)         |"
      ]
     },
     "metadata": {},
     "output_type": "display_data"
    },
    {
     "data": {
      "text/html": [
       "<pre>| 3       | 0.390625          | No Decrease (5612.98 >= 897.038)         |</pre>"
      ],
      "text/plain": [
       "| 3       | 0.390625          | No Decrease (5612.98 >= 897.038)         |"
      ]
     },
     "metadata": {},
     "output_type": "display_data"
    },
    {
     "data": {
      "text/html": [
       "<pre>| 4       | 0.0976562         | No Decrease (2952.52 >= 897.038)         |</pre>"
      ],
      "text/plain": [
       "| 4       | 0.0976562         | No Decrease (2952.52 >= 897.038)         |"
      ]
     },
     "metadata": {},
     "output_type": "display_data"
    },
    {
     "data": {
      "text/html": [
       "<pre>| 5       | 0.0244141         | 443.756                                  |</pre>"
      ],
      "text/plain": [
       "| 5       | 0.0244141         | 443.756                                  |"
      ]
     },
     "metadata": {},
     "output_type": "display_data"
    },
    {
     "data": {
      "text/html": [
       "<pre>| 6       | 0.012207          | 501.993                                  |</pre>"
      ],
      "text/plain": [
       "| 6       | 0.012207          | 501.993                                  |"
      ]
     },
     "metadata": {},
     "output_type": "display_data"
    },
    {
     "data": {
      "text/html": [
       "<pre>| 7       | 0.00610352        | 576.97                                   |</pre>"
      ],
      "text/plain": [
       "| 7       | 0.00610352        | 576.97                                   |"
      ]
     },
     "metadata": {},
     "output_type": "display_data"
    },
    {
     "data": {
      "text/html": [
       "<pre>| 8       | 0.00305176        | 804.98                                   |</pre>"
      ],
      "text/plain": [
       "| 8       | 0.00305176        | 804.98                                   |"
      ]
     },
     "metadata": {},
     "output_type": "display_data"
    },
    {
     "data": {
      "text/html": [
       "<pre>+---------+-------------------+------------------------------------------+</pre>"
      ],
      "text/plain": [
       "+---------+-------------------+------------------------------------------+"
      ]
     },
     "metadata": {},
     "output_type": "display_data"
    },
    {
     "data": {
      "text/html": [
       "<pre>| Final   | 0.0244141         | 443.756                                  |</pre>"
      ],
      "text/plain": [
       "| Final   | 0.0244141         | 443.756                                  |"
      ]
     },
     "metadata": {},
     "output_type": "display_data"
    },
    {
     "data": {
      "text/html": [
       "<pre>+---------+-------------------+------------------------------------------+</pre>"
      ],
      "text/plain": [
       "+---------+-------------------+------------------------------------------+"
      ]
     },
     "metadata": {},
     "output_type": "display_data"
    },
    {
     "data": {
      "text/html": [
       "<pre>Starting Optimization.</pre>"
      ],
      "text/plain": [
       "Starting Optimization."
      ]
     },
     "metadata": {},
     "output_type": "display_data"
    },
    {
     "data": {
      "text/html": [
       "<pre>+---------+--------------+-------------------+-----------------------+-------------+</pre>"
      ],
      "text/plain": [
       "+---------+--------------+-------------------+-----------------------+-------------+"
      ]
     },
     "metadata": {},
     "output_type": "display_data"
    },
    {
     "data": {
      "text/html": [
       "<pre>| Iter.   | Elapsed Time | Approx. Objective | Approx. Training RMSE | Step Size   |</pre>"
      ],
      "text/plain": [
       "| Iter.   | Elapsed Time | Approx. Objective | Approx. Training RMSE | Step Size   |"
      ]
     },
     "metadata": {},
     "output_type": "display_data"
    },
    {
     "data": {
      "text/html": [
       "<pre>+---------+--------------+-------------------+-----------------------+-------------+</pre>"
      ],
      "text/plain": [
       "+---------+--------------+-------------------+-----------------------+-------------+"
      ]
     },
     "metadata": {},
     "output_type": "display_data"
    },
    {
     "data": {
      "text/html": [
       "<pre>| Initial | 111us        | 623.935           | 17.8399               |             |</pre>"
      ],
      "text/plain": [
       "| Initial | 111us        | 623.935           | 17.8399               |             |"
      ]
     },
     "metadata": {},
     "output_type": "display_data"
    },
    {
     "data": {
      "text/html": [
       "<pre>+---------+--------------+-------------------+-----------------------+-------------+</pre>"
      ],
      "text/plain": [
       "+---------+--------------+-------------------+-----------------------+-------------+"
      ]
     },
     "metadata": {},
     "output_type": "display_data"
    },
    {
     "data": {
      "text/html": [
       "<pre>| 1       | 71.179ms     | 596.51            | 20.7135               | 0.0244141   |</pre>"
      ],
      "text/plain": [
       "| 1       | 71.179ms     | 596.51            | 20.7135               | 0.0244141   |"
      ]
     },
     "metadata": {},
     "output_type": "display_data"
    },
    {
     "data": {
      "text/html": [
       "<pre>| 2       | 139.194ms    | 614.03            | 21.2329               | 0.0145167   |</pre>"
      ],
      "text/plain": [
       "| 2       | 139.194ms    | 614.03            | 21.2329               | 0.0145167   |"
      ]
     },
     "metadata": {},
     "output_type": "display_data"
    },
    {
     "data": {
      "text/html": [
       "<pre>| 3       | 252.335ms    | 538.476           | 20.0938               | 0.0107102   |</pre>"
      ],
      "text/plain": [
       "| 3       | 252.335ms    | 538.476           | 20.0938               | 0.0107102   |"
      ]
     },
     "metadata": {},
     "output_type": "display_data"
    },
    {
     "data": {
      "text/html": [
       "<pre>| 4       | 323.641ms    | 451.985           | 18.7041               | 0.00725834  |</pre>"
      ],
      "text/plain": [
       "| 4       | 323.641ms    | 451.985           | 18.7041               | 0.00725834  |"
      ]
     },
     "metadata": {},
     "output_type": "display_data"
    },
    {
     "data": {
      "text/html": [
       "<pre>| 5       | 404.545ms    | 371.56            | 17.1586               | 0.00516295  |</pre>"
      ],
      "text/plain": [
       "| 5       | 404.545ms    | 371.56            | 17.1586               | 0.00516295  |"
      ]
     },
     "metadata": {},
     "output_type": "display_data"
    },
    {
     "data": {
      "text/html": [
       "<pre>| 6       | 479.429ms    | 292.846           | 15.2763               | 0.0045031   |</pre>"
      ],
      "text/plain": [
       "| 6       | 479.429ms    | 292.846           | 15.2763               | 0.0045031   |"
      ]
     },
     "metadata": {},
     "output_type": "display_data"
    },
    {
     "data": {
      "text/html": [
       "<pre>| 11      | 847.138ms    | 112.407           | 9.62563               | 0.00285812  |</pre>"
      ],
      "text/plain": [
       "| 11      | 847.138ms    | 112.407           | 9.62563               | 0.00285812  |"
      ]
     },
     "metadata": {},
     "output_type": "display_data"
    },
    {
     "data": {
      "text/html": [
       "<pre>| 25      | 1.84s        | 9.76997           | 2.21673               | 0.000649206 |</pre>"
      ],
      "text/plain": [
       "| 25      | 1.84s        | 9.76997           | 2.21673               | 0.000649206 |"
      ]
     },
     "metadata": {},
     "output_type": "display_data"
    },
    {
     "data": {
      "text/html": [
       "<pre>+---------+--------------+-------------------+-----------------------+-------------+</pre>"
      ],
      "text/plain": [
       "+---------+--------------+-------------------+-----------------------+-------------+"
      ]
     },
     "metadata": {},
     "output_type": "display_data"
    },
    {
     "data": {
      "text/html": [
       "<pre>Optimization Complete: Maximum number of passes through the data reached.</pre>"
      ],
      "text/plain": [
       "Optimization Complete: Maximum number of passes through the data reached."
      ]
     },
     "metadata": {},
     "output_type": "display_data"
    },
    {
     "data": {
      "text/html": [
       "<pre>Computing final objective value and training RMSE.</pre>"
      ],
      "text/plain": [
       "Computing final objective value and training RMSE."
      ]
     },
     "metadata": {},
     "output_type": "display_data"
    },
    {
     "data": {
      "text/html": [
       "<pre>       Final objective value: 11.8278</pre>"
      ],
      "text/plain": [
       "       Final objective value: 11.8278"
      ]
     },
     "metadata": {},
     "output_type": "display_data"
    },
    {
     "data": {
      "text/html": [
       "<pre>       Final training RMSE: 2.55714</pre>"
      ],
      "text/plain": [
       "       Final training RMSE: 2.55714"
      ]
     },
     "metadata": {},
     "output_type": "display_data"
    }
   ],
   "source": [
    "import turicreate\n",
    "data1 = turicreate.SFrame(data)\n",
    "train, test = turicreate.recommender.util.random_split_by_user(data1, \n",
    "                    user_id='Customer_Name', item_id='Product_Family', item_test_proportion = 1)\n",
    "popularity_model = turicreate.popularity_recommender.create(train, \n",
    "                                    user_id='Customer_Name', item_id='Product_Family', target='count')\n",
    "item_sim_model_cosine = turicreate.item_similarity_recommender.create(train, \n",
    "                        user_id='Customer_Name', item_id='Product_Family', target='count', similarity_type='cosine')\n",
    "item_sim_model_jaccard = turicreate.item_similarity_recommender.create(train, \n",
    "                        user_id='Customer_Name', item_id='Product_Family', target='count', similarity_type='jaccard')\n",
    "item_sim_model_pearson = turicreate.item_similarity_recommender.create(train, \n",
    "                        user_id='Customer_Name', item_id='Product_Family', target='count', similarity_type=\"pearson\")\n",
    "factorization_model = turicreate.factorization_recommender.create(train, \n",
    "                                    user_id='Customer_Name', item_id='Product_Family', target='count')\n",
    "factorization_model_als = turicreate.factorization_recommender.create(train, \n",
    "                                    user_id='Customer_Name', item_id='Product_Family', target='count',solver = 'als')\n",
    "ranking_factorization_model = turicreate.ranking_factorization_recommender.create(train, \n",
    "                                    user_id='Customer_Name', item_id='Product_Family', target='count')\n",
    "\n",
    "models = [popularity_model, item_sim_model_cosine, item_sim_model_jaccard\n",
    "                                                 ,item_sim_model_pearson, factorization_model, factorization_model_als,\n",
    "                                                ranking_factorization_model ]\n",
    "\n",
    "# popularity_model.evaluate(train_data)\n",
    "# popularity_recomm = popularity_model.recommend(users=[\"amundi\",\"acm\",\"axians\"],k=15)\n",
    "# popularity_recomm.print_rows(num_rows=45)"
   ]
  },
  {
   "cell_type": "code",
   "execution_count": 10,
   "metadata": {
    "scrolled": true
   },
   "outputs": [
    {
     "name": "stdout",
     "output_type": "stream",
     "text": [
      "PROGRESS: Evaluate model M0\n"
     ]
    },
    {
     "data": {
      "text/html": [
       "<pre>recommendations finished on 1000/1000 queries. users per second: 122130</pre>"
      ],
      "text/plain": [
       "recommendations finished on 1000/1000 queries. users per second: 122130"
      ]
     },
     "metadata": {},
     "output_type": "display_data"
    },
    {
     "name": "stdout",
     "output_type": "stream",
     "text": [
      "\n",
      "Precision and recall summary statistics by cutoff\n",
      "+--------+-----------------------+-----------------------+\n",
      "| cutoff |      mean_recall      |     mean_precision    |\n",
      "+--------+-----------------------+-----------------------+\n",
      "|   1    |          0.0          |          0.0          |\n",
      "|   2    | 0.0020000000000000018 | 0.0015000000000000013 |\n",
      "|   3    |         0.0025        | 0.0013333333333333344 |\n",
      "|   4    |  0.06295238095238083  |         0.0315        |\n",
      "|   5    |  0.08101190476190469  |  0.02979999999999999  |\n",
      "|   6    |  0.08101190476190469  |  0.024833333333333357 |\n",
      "|   7    |  0.09766190476190482  |  0.027285714285714302 |\n",
      "|   8    |  0.11016190476190471  |  0.025499999999999988 |\n",
      "|   9    |  0.14138809523809526  |  0.027222222222222214 |\n",
      "|   10   |  0.14238809523809504  |  0.024600000000000018 |\n",
      "+--------+-----------------------+-----------------------+\n",
      "[10 rows x 3 columns]\n",
      "\n",
      "PROGRESS: Evaluate model M1\n"
     ]
    },
    {
     "data": {
      "text/html": [
       "<pre>recommendations finished on 1000/1000 queries. users per second: 120409</pre>"
      ],
      "text/plain": [
       "recommendations finished on 1000/1000 queries. users per second: 120409"
      ]
     },
     "metadata": {},
     "output_type": "display_data"
    },
    {
     "name": "stdout",
     "output_type": "stream",
     "text": [
      "\n",
      "Precision and recall summary statistics by cutoff\n",
      "+--------+---------------------+---------------------+\n",
      "| cutoff |     mean_recall     |    mean_precision   |\n",
      "+--------+---------------------+---------------------+\n",
      "|   1    | 0.07981904761904761 | 0.17400000000000004 |\n",
      "|   2    | 0.09760476190476187 | 0.11400000000000005 |\n",
      "|   3    | 0.10475714285714278 | 0.08400000000000003 |\n",
      "|   4    | 0.11172380952380949 | 0.06774999999999987 |\n",
      "|   5    | 0.17217619047619037 | 0.07860000000000003 |\n",
      "|   6    |  0.2299428571428574 | 0.08433333333333334 |\n",
      "|   7    | 0.24659285714285722 | 0.07828571428571422 |\n",
      "|   8    | 0.27809285714285714 | 0.07499999999999987 |\n",
      "|   9    | 0.29642619047619057 | 0.07088888888888888 |\n",
      "|   10   |  0.3285928571428575 | 0.06860000000000004 |\n",
      "+--------+---------------------+---------------------+\n",
      "[10 rows x 3 columns]\n",
      "\n",
      "PROGRESS: Evaluate model M2\n"
     ]
    },
    {
     "data": {
      "text/html": [
       "<pre>recommendations finished on 1000/1000 queries. users per second: 93738.3</pre>"
      ],
      "text/plain": [
       "recommendations finished on 1000/1000 queries. users per second: 93738.3"
      ]
     },
     "metadata": {},
     "output_type": "display_data"
    },
    {
     "name": "stdout",
     "output_type": "stream",
     "text": [
      "\n",
      "Precision and recall summary statistics by cutoff\n",
      "+--------+---------------------+---------------------+\n",
      "| cutoff |     mean_recall     |    mean_precision   |\n",
      "+--------+---------------------+---------------------+\n",
      "|   1    | 0.07981904761904766 | 0.17399999999999996 |\n",
      "|   2    | 0.09760476190476182 | 0.11399999999999992 |\n",
      "|   3    |  0.1580571428571428 | 0.11666666666666667 |\n",
      "|   4    | 0.21582380952380956 | 0.11574999999999996 |\n",
      "|   5    | 0.22297619047619024 |  0.0974000000000001 |\n",
      "|   6    | 0.23962619047619033 |  0.0881666666666667 |\n",
      "|   7    |  0.2711261904761903 | 0.08299999999999996 |\n",
      "|   8    | 0.27809285714285703 | 0.07499999999999989 |\n",
      "|   9    |  0.2964261904761905 | 0.07088888888888896 |\n",
      "|   10   |  0.3171261904761906 | 0.06720000000000001 |\n",
      "+--------+---------------------+---------------------+\n",
      "[10 rows x 3 columns]\n",
      "\n",
      "PROGRESS: Evaluate model M3\n"
     ]
    },
    {
     "data": {
      "text/html": [
       "<pre>recommendations finished on 1000/1000 queries. users per second: 152509</pre>"
      ],
      "text/plain": [
       "recommendations finished on 1000/1000 queries. users per second: 152509"
      ]
     },
     "metadata": {},
     "output_type": "display_data"
    },
    {
     "name": "stdout",
     "output_type": "stream",
     "text": [
      "\n",
      "Precision and recall summary statistics by cutoff\n",
      "+--------+-----------------------+-----------------------+\n",
      "| cutoff |      mean_recall      |     mean_precision    |\n",
      "+--------+-----------------------+-----------------------+\n",
      "|   1    |          0.0          |          0.0          |\n",
      "|   2    | 0.0020000000000000018 | 0.0015000000000000011 |\n",
      "|   3    | 0.0024999999999999988 | 0.0013333333333333346 |\n",
      "|   4    |  0.06295238095238095  |  0.03150000000000002  |\n",
      "|   5    |  0.08101190476190481  |  0.029800000000000004 |\n",
      "|   6    |  0.08101190476190481  |  0.02483333333333333  |\n",
      "|   7    |   0.0976619047619047  |  0.02728571428571426  |\n",
      "|   8    |  0.11016190476190482  |  0.025499999999999984 |\n",
      "|   9    |  0.14138809523809523  |  0.02722222222222221  |\n",
      "|   10   |  0.14238809523809506  |  0.024599999999999986 |\n",
      "+--------+-----------------------+-----------------------+\n",
      "[10 rows x 3 columns]\n",
      "\n",
      "PROGRESS: Evaluate model M4\n"
     ]
    },
    {
     "data": {
      "text/html": [
       "<pre>recommendations finished on 1000/1000 queries. users per second: 170561</pre>"
      ],
      "text/plain": [
       "recommendations finished on 1000/1000 queries. users per second: 170561"
      ]
     },
     "metadata": {},
     "output_type": "display_data"
    },
    {
     "name": "stdout",
     "output_type": "stream",
     "text": [
      "\n",
      "Precision and recall summary statistics by cutoff\n",
      "+--------+----------------------+----------------------+\n",
      "| cutoff |     mean_recall      |    mean_precision    |\n",
      "+--------+----------------------+----------------------+\n",
      "|   1    | 0.060452380952380924 | 0.12200000000000004  |\n",
      "|   2    | 0.060952380952381015 |  0.0615000000000001  |\n",
      "|   3    | 0.06295238095238101  | 0.04199999999999999  |\n",
      "|   4    | 0.06295238095238101  | 0.03149999999999996  |\n",
      "|   5    | 0.08101190476190477  | 0.02980000000000001  |\n",
      "|   6    |  0.0935119047619047  | 0.027000000000000003 |\n",
      "|   7    | 0.11016190476190477  | 0.02914285714285714  |\n",
      "|   8    |  0.2798642857142857  | 0.04937499999999996  |\n",
      "|   9    | 0.31109047619047536  |  0.0484444444444445  |\n",
      "|   10   | 0.31109047619047536  | 0.043600000000000035 |\n",
      "+--------+----------------------+----------------------+\n",
      "[10 rows x 3 columns]\n",
      "\n",
      "PROGRESS: Evaluate model M5\n"
     ]
    },
    {
     "data": {
      "text/html": [
       "<pre>recommendations finished on 1000/1000 queries. users per second: 131822</pre>"
      ],
      "text/plain": [
       "recommendations finished on 1000/1000 queries. users per second: 131822"
      ]
     },
     "metadata": {},
     "output_type": "display_data"
    },
    {
     "name": "stdout",
     "output_type": "stream",
     "text": [
      "\n",
      "Precision and recall summary statistics by cutoff\n",
      "+--------+---------------------+---------------------+\n",
      "| cutoff |     mean_recall     |    mean_precision   |\n",
      "+--------+---------------------+---------------------+\n",
      "|   1    | 0.05776666666666666 | 0.11300000000000007 |\n",
      "|   2    | 0.07441666666666671 | 0.07750000000000008 |\n",
      "|   3    | 0.15423571428571445 | 0.10966666666666669 |\n",
      "|   4    |  0.2146880952380952 | 0.11274999999999996 |\n",
      "|   5    | 0.23247380952380955 | 0.10100000000000002 |\n",
      "|   6    | 0.23944047619047615 | 0.08733333333333329 |\n",
      "|   7    |  0.2716071428571434 | 0.08171428571428567 |\n",
      "|   8    |  0.3731904761904761 | 0.08650000000000008 |\n",
      "|   9    |  0.5428928571428574 | 0.09811111111111105 |\n",
      "|   10   |  0.5743928571428573 | 0.09349999999999999 |\n",
      "+--------+---------------------+---------------------+\n",
      "[10 rows x 3 columns]\n",
      "\n",
      "PROGRESS: Evaluate model M6\n"
     ]
    },
    {
     "data": {
      "text/html": [
       "<pre>recommendations finished on 1000/1000 queries. users per second: 155135</pre>"
      ],
      "text/plain": [
       "recommendations finished on 1000/1000 queries. users per second: 155135"
      ]
     },
     "metadata": {},
     "output_type": "display_data"
    },
    {
     "name": "stdout",
     "output_type": "stream",
     "text": [
      "\n",
      "Precision and recall summary statistics by cutoff\n",
      "+--------+---------------------+---------------------+\n",
      "| cutoff |     mean_recall     |    mean_precision   |\n",
      "+--------+---------------------+---------------------+\n",
      "|   1    | 0.07981904761904764 |  0.1739999999999999 |\n",
      "|   2    |  0.2495214285714289 | 0.18250000000000002 |\n",
      "|   3    |  0.3099738095238091 | 0.16233333333333344 |\n",
      "|   4    |  0.3677404761904763 | 0.15000000000000008 |\n",
      "|   5    | 0.46932380952380987 |  0.1440000000000002 |\n",
      "|   6    | 0.46932380952380987 | 0.12000000000000009 |\n",
      "|   7    |  0.5416071428571425 | 0.11557142857142859 |\n",
      "|   8    |  0.5593928571428571 | 0.10787499999999993 |\n",
      "|   9    |  0.6005095238095236 | 0.10188888888888888 |\n",
      "|   10   |  0.6005095238095236 | 0.09170000000000003 |\n",
      "+--------+---------------------+---------------------+\n",
      "[10 rows x 3 columns]\n",
      "\n"
     ]
    },
    {
     "data": {
      "text/plain": [
       "[{'precision_recall_by_user': Columns:\n",
       "  \tCustomer_Name\tstr\n",
       "  \tcutoff\tint\n",
       "  \tprecision\tfloat\n",
       "  \trecall\tfloat\n",
       "  \tcount\tint\n",
       "  \n",
       "  Rows: 18000\n",
       "  \n",
       "  Data:\n",
       "  +----------------------------+--------+---------------------+\n",
       "  |       Customer_Name        | cutoff |      precision      |\n",
       "  +----------------------------+--------+---------------------+\n",
       "  | 121 financial credit union |   1    |         0.0         |\n",
       "  | 121 financial credit union |   2    |         0.0         |\n",
       "  | 121 financial credit union |   3    |         0.0         |\n",
       "  | 121 financial credit union |   4    |         0.25        |\n",
       "  | 121 financial credit union |   5    |         0.2         |\n",
       "  | 121 financial credit union |   6    | 0.16666666666666666 |\n",
       "  | 121 financial credit union |   7    | 0.14285714285714285 |\n",
       "  | 121 financial credit union |   8    |        0.125        |\n",
       "  | 121 financial credit union |   9    |  0.1111111111111111 |\n",
       "  | 121 financial credit union |   10   |         0.1         |\n",
       "  +----------------------------+--------+---------------------+\n",
       "  +---------------------+-------+\n",
       "  |        recall       | count |\n",
       "  +---------------------+-------+\n",
       "  |         0.0         |   6   |\n",
       "  |         0.0         |   6   |\n",
       "  |         0.0         |   6   |\n",
       "  | 0.16666666666666666 |   6   |\n",
       "  | 0.16666666666666666 |   6   |\n",
       "  | 0.16666666666666666 |   6   |\n",
       "  | 0.16666666666666666 |   6   |\n",
       "  | 0.16666666666666666 |   6   |\n",
       "  | 0.16666666666666666 |   6   |\n",
       "  | 0.16666666666666666 |   6   |\n",
       "  +---------------------+-------+\n",
       "  [18000 rows x 5 columns]\n",
       "  Note: Only the head of the SFrame is printed.\n",
       "  You can use print_rows(num_rows=m, num_columns=n) to print more rows and columns.,\n",
       "  'precision_recall_overall': Columns:\n",
       "  \tcutoff\tint\n",
       "  \tprecision\tfloat\n",
       "  \trecall\tfloat\n",
       "  \n",
       "  Rows: 18\n",
       "  \n",
       "  Data:\n",
       "  +--------+-----------------------+-----------------------+\n",
       "  | cutoff |       precision       |         recall        |\n",
       "  +--------+-----------------------+-----------------------+\n",
       "  |   1    |          0.0          |          0.0          |\n",
       "  |   2    | 0.0015000000000000007 |         0.002         |\n",
       "  |   3    | 0.0013333333333333348 | 0.0025000000000000022 |\n",
       "  |   4    |  0.03150000000000002  |  0.06295238095238098  |\n",
       "  |   5    |  0.029800000000000004 |  0.08101190476190484  |\n",
       "  |   6    |  0.024833333333333308 |  0.08101190476190484  |\n",
       "  |   7    |  0.027285714285714288 |  0.09766190476190473  |\n",
       "  |   8    |  0.025499999999999974 |  0.11016190476190466  |\n",
       "  |   9    |  0.02722222222222223  |   0.1413880952380951  |\n",
       "  |   10   |  0.02460000000000001  |  0.14238809523809517  |\n",
       "  +--------+-----------------------+-----------------------+\n",
       "  [18 rows x 3 columns]\n",
       "  Note: Only the head of the SFrame is printed.\n",
       "  You can use print_rows(num_rows=m, num_columns=n) to print more rows and columns.},\n",
       " {'precision_recall_by_user': Columns:\n",
       "  \tCustomer_Name\tstr\n",
       "  \tcutoff\tint\n",
       "  \tprecision\tfloat\n",
       "  \trecall\tfloat\n",
       "  \tcount\tint\n",
       "  \n",
       "  Rows: 18000\n",
       "  \n",
       "  Data:\n",
       "  +----------------------------+--------+--------------------+---------------------+\n",
       "  |       Customer_Name        | cutoff |     precision      |        recall       |\n",
       "  +----------------------------+--------+--------------------+---------------------+\n",
       "  | 121 financial credit union |   1    |        1.0         | 0.16666666666666666 |\n",
       "  | 121 financial credit union |   2    |        1.0         |  0.3333333333333333 |\n",
       "  | 121 financial credit union |   3    |        1.0         |         0.5         |\n",
       "  | 121 financial credit union |   4    |        1.0         |  0.6666666666666666 |\n",
       "  | 121 financial credit union |   5    |        1.0         |  0.8333333333333334 |\n",
       "  | 121 financial credit union |   6    | 0.8333333333333334 |  0.8333333333333334 |\n",
       "  | 121 financial credit union |   7    | 0.7142857142857143 |  0.8333333333333334 |\n",
       "  | 121 financial credit union |   8    |        0.75        |         1.0         |\n",
       "  | 121 financial credit union |   9    | 0.6666666666666666 |         1.0         |\n",
       "  | 121 financial credit union |   10   |        0.6         |         1.0         |\n",
       "  +----------------------------+--------+--------------------+---------------------+\n",
       "  +-------+\n",
       "  | count |\n",
       "  +-------+\n",
       "  |   6   |\n",
       "  |   6   |\n",
       "  |   6   |\n",
       "  |   6   |\n",
       "  |   6   |\n",
       "  |   6   |\n",
       "  |   6   |\n",
       "  |   6   |\n",
       "  |   6   |\n",
       "  |   6   |\n",
       "  +-------+\n",
       "  [18000 rows x 5 columns]\n",
       "  Note: Only the head of the SFrame is printed.\n",
       "  You can use print_rows(num_rows=m, num_columns=n) to print more rows and columns.,\n",
       "  'precision_recall_overall': Columns:\n",
       "  \tcutoff\tint\n",
       "  \tprecision\tfloat\n",
       "  \trecall\tfloat\n",
       "  \n",
       "  Rows: 18\n",
       "  \n",
       "  Data:\n",
       "  +--------+---------------------+---------------------+\n",
       "  | cutoff |      precision      |        recall       |\n",
       "  +--------+---------------------+---------------------+\n",
       "  |   1    | 0.17400000000000004 | 0.07981904761904753 |\n",
       "  |   2    | 0.11400000000000002 |  0.097604761904762  |\n",
       "  |   3    |  0.0840000000000001 | 0.10475714285714284 |\n",
       "  |   4    | 0.06775000000000007 | 0.11172380952380942 |\n",
       "  |   5    | 0.07859999999999999 | 0.17217619047619023 |\n",
       "  |   6    | 0.08433333333333326 | 0.22994285714285706 |\n",
       "  |   7    | 0.07828571428571425 | 0.24659285714285697 |\n",
       "  |   8    | 0.07499999999999993 | 0.27809285714285686 |\n",
       "  |   9    | 0.07088888888888896 | 0.29642619047619073 |\n",
       "  |   10   | 0.06859999999999992 | 0.32859285714285735 |\n",
       "  +--------+---------------------+---------------------+\n",
       "  [18 rows x 3 columns]\n",
       "  Note: Only the head of the SFrame is printed.\n",
       "  You can use print_rows(num_rows=m, num_columns=n) to print more rows and columns.},\n",
       " {'precision_recall_by_user': Columns:\n",
       "  \tCustomer_Name\tstr\n",
       "  \tcutoff\tint\n",
       "  \tprecision\tfloat\n",
       "  \trecall\tfloat\n",
       "  \tcount\tint\n",
       "  \n",
       "  Rows: 18000\n",
       "  \n",
       "  Data:\n",
       "  +----------------------------+--------+--------------------+---------------------+\n",
       "  |       Customer_Name        | cutoff |     precision      |        recall       |\n",
       "  +----------------------------+--------+--------------------+---------------------+\n",
       "  | 121 financial credit union |   1    |        1.0         | 0.16666666666666666 |\n",
       "  | 121 financial credit union |   2    |        1.0         |  0.3333333333333333 |\n",
       "  | 121 financial credit union |   3    |        1.0         |         0.5         |\n",
       "  | 121 financial credit union |   4    |        0.75        |         0.5         |\n",
       "  | 121 financial credit union |   5    |        0.8         |  0.6666666666666666 |\n",
       "  | 121 financial credit union |   6    | 0.6666666666666666 |  0.6666666666666666 |\n",
       "  | 121 financial credit union |   7    | 0.7142857142857143 |  0.8333333333333334 |\n",
       "  | 121 financial credit union |   8    |        0.75        |         1.0         |\n",
       "  | 121 financial credit union |   9    | 0.6666666666666666 |         1.0         |\n",
       "  | 121 financial credit union |   10   |        0.6         |         1.0         |\n",
       "  +----------------------------+--------+--------------------+---------------------+\n",
       "  +-------+\n",
       "  | count |\n",
       "  +-------+\n",
       "  |   6   |\n",
       "  |   6   |\n",
       "  |   6   |\n",
       "  |   6   |\n",
       "  |   6   |\n",
       "  |   6   |\n",
       "  |   6   |\n",
       "  |   6   |\n",
       "  |   6   |\n",
       "  |   6   |\n",
       "  +-------+\n",
       "  [18000 rows x 5 columns]\n",
       "  Note: Only the head of the SFrame is printed.\n",
       "  You can use print_rows(num_rows=m, num_columns=n) to print more rows and columns.,\n",
       "  'precision_recall_overall': Columns:\n",
       "  \tcutoff\tint\n",
       "  \tprecision\tfloat\n",
       "  \trecall\tfloat\n",
       "  \n",
       "  Rows: 18\n",
       "  \n",
       "  Data:\n",
       "  +--------+---------------------+---------------------+\n",
       "  | cutoff |      precision      |        recall       |\n",
       "  +--------+---------------------+---------------------+\n",
       "  |   1    |  0.1740000000000003 | 0.07981904761904754 |\n",
       "  |   2    | 0.11400000000000003 | 0.09760476190476192 |\n",
       "  |   3    | 0.11666666666666661 | 0.15805714285714262 |\n",
       "  |   4    | 0.11575000000000013 |  0.2158238095238096 |\n",
       "  |   5    |        0.0974       | 0.22297619047619047 |\n",
       "  |   6    |  0.0881666666666666 | 0.23962619047619044 |\n",
       "  |   7    | 0.08299999999999996 |  0.2711261904761905 |\n",
       "  |   8    | 0.07500000000000005 |  0.2780928571428573 |\n",
       "  |   9    | 0.07088888888888874 |  0.2964261904761904 |\n",
       "  |   10   | 0.06719999999999995 |  0.3171261904761903 |\n",
       "  +--------+---------------------+---------------------+\n",
       "  [18 rows x 3 columns]\n",
       "  Note: Only the head of the SFrame is printed.\n",
       "  You can use print_rows(num_rows=m, num_columns=n) to print more rows and columns.},\n",
       " {'precision_recall_by_user': Columns:\n",
       "  \tCustomer_Name\tstr\n",
       "  \tcutoff\tint\n",
       "  \tprecision\tfloat\n",
       "  \trecall\tfloat\n",
       "  \tcount\tint\n",
       "  \n",
       "  Rows: 18000\n",
       "  \n",
       "  Data:\n",
       "  +----------------------------+--------+---------------------+\n",
       "  |       Customer_Name        | cutoff |      precision      |\n",
       "  +----------------------------+--------+---------------------+\n",
       "  | 121 financial credit union |   1    |         0.0         |\n",
       "  | 121 financial credit union |   2    |         0.0         |\n",
       "  | 121 financial credit union |   3    |         0.0         |\n",
       "  | 121 financial credit union |   4    |         0.25        |\n",
       "  | 121 financial credit union |   5    |         0.2         |\n",
       "  | 121 financial credit union |   6    | 0.16666666666666666 |\n",
       "  | 121 financial credit union |   7    | 0.14285714285714285 |\n",
       "  | 121 financial credit union |   8    |        0.125        |\n",
       "  | 121 financial credit union |   9    |  0.1111111111111111 |\n",
       "  | 121 financial credit union |   10   |         0.1         |\n",
       "  +----------------------------+--------+---------------------+\n",
       "  +---------------------+-------+\n",
       "  |        recall       | count |\n",
       "  +---------------------+-------+\n",
       "  |         0.0         |   6   |\n",
       "  |         0.0         |   6   |\n",
       "  |         0.0         |   6   |\n",
       "  | 0.16666666666666666 |   6   |\n",
       "  | 0.16666666666666666 |   6   |\n",
       "  | 0.16666666666666666 |   6   |\n",
       "  | 0.16666666666666666 |   6   |\n",
       "  | 0.16666666666666666 |   6   |\n",
       "  | 0.16666666666666666 |   6   |\n",
       "  | 0.16666666666666666 |   6   |\n",
       "  +---------------------+-------+\n",
       "  [18000 rows x 5 columns]\n",
       "  Note: Only the head of the SFrame is printed.\n",
       "  You can use print_rows(num_rows=m, num_columns=n) to print more rows and columns.,\n",
       "  'precision_recall_overall': Columns:\n",
       "  \tcutoff\tint\n",
       "  \tprecision\tfloat\n",
       "  \trecall\tfloat\n",
       "  \n",
       "  Rows: 18\n",
       "  \n",
       "  Data:\n",
       "  +--------+-----------------------+-----------------------+\n",
       "  | cutoff |       precision       |         recall        |\n",
       "  +--------+-----------------------+-----------------------+\n",
       "  |   1    |          0.0          |          0.0          |\n",
       "  |   2    | 0.0015000000000000015 | 0.0020000000000000018 |\n",
       "  |   3    | 0.0013333333333333346 |         0.0025        |\n",
       "  |   4    |  0.031500000000000035 |  0.06295238095238094  |\n",
       "  |   5    |  0.029800000000000004 |  0.08101190476190478  |\n",
       "  |   6    |  0.024833333333333332 |  0.08101190476190478  |\n",
       "  |   7    |  0.027285714285714274 |  0.09766190476190484  |\n",
       "  |   8    |  0.025499999999999984 |  0.11016190476190474  |\n",
       "  |   9    |  0.02722222222222222  |  0.14138809523809542  |\n",
       "  |   10   |  0.02460000000000001  |  0.14238809523809534  |\n",
       "  +--------+-----------------------+-----------------------+\n",
       "  [18 rows x 3 columns]\n",
       "  Note: Only the head of the SFrame is printed.\n",
       "  You can use print_rows(num_rows=m, num_columns=n) to print more rows and columns.},\n",
       " {'precision_recall_by_user': Columns:\n",
       "  \tCustomer_Name\tstr\n",
       "  \tcutoff\tint\n",
       "  \tprecision\tfloat\n",
       "  \trecall\tfloat\n",
       "  \tcount\tint\n",
       "  \n",
       "  Rows: 18000\n",
       "  \n",
       "  Data:\n",
       "  +----------------------------+--------+---------------------+\n",
       "  |       Customer_Name        | cutoff |      precision      |\n",
       "  +----------------------------+--------+---------------------+\n",
       "  | 121 financial credit union |   1    |         1.0         |\n",
       "  | 121 financial credit union |   2    |         0.5         |\n",
       "  | 121 financial credit union |   3    |  0.3333333333333333 |\n",
       "  | 121 financial credit union |   4    |         0.25        |\n",
       "  | 121 financial credit union |   5    |         0.2         |\n",
       "  | 121 financial credit union |   6    | 0.16666666666666666 |\n",
       "  | 121 financial credit union |   7    | 0.14285714285714285 |\n",
       "  | 121 financial credit union |   8    |        0.125        |\n",
       "  | 121 financial credit union |   9    |  0.1111111111111111 |\n",
       "  | 121 financial credit union |   10   |         0.1         |\n",
       "  +----------------------------+--------+---------------------+\n",
       "  +---------------------+-------+\n",
       "  |        recall       | count |\n",
       "  +---------------------+-------+\n",
       "  | 0.16666666666666666 |   6   |\n",
       "  | 0.16666666666666666 |   6   |\n",
       "  | 0.16666666666666666 |   6   |\n",
       "  | 0.16666666666666666 |   6   |\n",
       "  | 0.16666666666666666 |   6   |\n",
       "  | 0.16666666666666666 |   6   |\n",
       "  | 0.16666666666666666 |   6   |\n",
       "  | 0.16666666666666666 |   6   |\n",
       "  | 0.16666666666666666 |   6   |\n",
       "  | 0.16666666666666666 |   6   |\n",
       "  +---------------------+-------+\n",
       "  [18000 rows x 5 columns]\n",
       "  Note: Only the head of the SFrame is printed.\n",
       "  You can use print_rows(num_rows=m, num_columns=n) to print more rows and columns.,\n",
       "  'precision_recall_overall': Columns:\n",
       "  \tcutoff\tint\n",
       "  \tprecision\tfloat\n",
       "  \trecall\tfloat\n",
       "  \n",
       "  Rows: 18\n",
       "  \n",
       "  Data:\n",
       "  +--------+----------------------+----------------------+\n",
       "  | cutoff |      precision       |        recall        |\n",
       "  +--------+----------------------+----------------------+\n",
       "  |   1    | 0.12199999999999993  | 0.060452380952380966 |\n",
       "  |   2    | 0.06150000000000003  | 0.06095238095238092  |\n",
       "  |   3    | 0.04200000000000004  | 0.06295238095238087  |\n",
       "  |   4    | 0.03150000000000003  | 0.06295238095238087  |\n",
       "  |   5    | 0.029800000000000017 |  0.0810119047619047  |\n",
       "  |   6    | 0.02700000000000001  | 0.09351190476190469  |\n",
       "  |   7    | 0.02914285714285714  | 0.11016190476190457  |\n",
       "  |   8    | 0.049374999999999995 | 0.27986428571428584  |\n",
       "  |   9    | 0.048444444444444526 |  0.3110904761904761  |\n",
       "  |   10   | 0.04360000000000005  |  0.3110904761904762  |\n",
       "  +--------+----------------------+----------------------+\n",
       "  [18 rows x 3 columns]\n",
       "  Note: Only the head of the SFrame is printed.\n",
       "  You can use print_rows(num_rows=m, num_columns=n) to print more rows and columns.},\n",
       " {'precision_recall_by_user': Columns:\n",
       "  \tCustomer_Name\tstr\n",
       "  \tcutoff\tint\n",
       "  \tprecision\tfloat\n",
       "  \trecall\tfloat\n",
       "  \tcount\tint\n",
       "  \n",
       "  Rows: 18000\n",
       "  \n",
       "  Data:\n",
       "  +----------------------------+--------+--------------------+---------------------+\n",
       "  |       Customer_Name        | cutoff |     precision      |        recall       |\n",
       "  +----------------------------+--------+--------------------+---------------------+\n",
       "  | 121 financial credit union |   1    |        0.0         |         0.0         |\n",
       "  | 121 financial credit union |   2    |        0.0         |         0.0         |\n",
       "  | 121 financial credit union |   3    | 0.3333333333333333 | 0.16666666666666666 |\n",
       "  | 121 financial credit union |   4    |        0.5         |  0.3333333333333333 |\n",
       "  | 121 financial credit union |   5    |        0.6         |         0.5         |\n",
       "  | 121 financial credit union |   6    | 0.6666666666666666 |  0.6666666666666666 |\n",
       "  | 121 financial credit union |   7    | 0.5714285714285714 |  0.6666666666666666 |\n",
       "  | 121 financial credit union |   8    |        0.5         |  0.6666666666666666 |\n",
       "  | 121 financial credit union |   9    | 0.4444444444444444 |  0.6666666666666666 |\n",
       "  | 121 financial credit union |   10   |        0.5         |  0.8333333333333334 |\n",
       "  +----------------------------+--------+--------------------+---------------------+\n",
       "  +-------+\n",
       "  | count |\n",
       "  +-------+\n",
       "  |   6   |\n",
       "  |   6   |\n",
       "  |   6   |\n",
       "  |   6   |\n",
       "  |   6   |\n",
       "  |   6   |\n",
       "  |   6   |\n",
       "  |   6   |\n",
       "  |   6   |\n",
       "  |   6   |\n",
       "  +-------+\n",
       "  [18000 rows x 5 columns]\n",
       "  Note: Only the head of the SFrame is printed.\n",
       "  You can use print_rows(num_rows=m, num_columns=n) to print more rows and columns.,\n",
       "  'precision_recall_overall': Columns:\n",
       "  \tcutoff\tint\n",
       "  \tprecision\tfloat\n",
       "  \trecall\tfloat\n",
       "  \n",
       "  Rows: 18\n",
       "  \n",
       "  Data:\n",
       "  +--------+---------------------+----------------------+\n",
       "  | cutoff |      precision      |        recall        |\n",
       "  +--------+---------------------+----------------------+\n",
       "  |   1    | 0.11300000000000018 | 0.057766666666666786 |\n",
       "  |   2    | 0.07750000000000005 | 0.07441666666666667  |\n",
       "  |   3    | 0.10966666666666677 | 0.15423571428571436  |\n",
       "  |   4    | 0.11275000000000003 | 0.21468809523809534  |\n",
       "  |   5    | 0.10100000000000002 |  0.2324738095238097  |\n",
       "  |   6    | 0.08733333333333342 | 0.23944047619047623  |\n",
       "  |   7    | 0.08171428571428575 | 0.27160714285714316  |\n",
       "  |   8    | 0.08650000000000008 | 0.37319047619047657  |\n",
       "  |   9    |  0.0981111111111111 |  0.5428928571428573  |\n",
       "  |   10   | 0.09350000000000014 |  0.5743928571428571  |\n",
       "  +--------+---------------------+----------------------+\n",
       "  [18 rows x 3 columns]\n",
       "  Note: Only the head of the SFrame is printed.\n",
       "  You can use print_rows(num_rows=m, num_columns=n) to print more rows and columns.},\n",
       " {'precision_recall_by_user': Columns:\n",
       "  \tCustomer_Name\tstr\n",
       "  \tcutoff\tint\n",
       "  \tprecision\tfloat\n",
       "  \trecall\tfloat\n",
       "  \tcount\tint\n",
       "  \n",
       "  Rows: 18000\n",
       "  \n",
       "  Data:\n",
       "  +----------------------------+--------+--------------------+---------------------+\n",
       "  |       Customer_Name        | cutoff |     precision      |        recall       |\n",
       "  +----------------------------+--------+--------------------+---------------------+\n",
       "  | 121 financial credit union |   1    |        1.0         | 0.16666666666666666 |\n",
       "  | 121 financial credit union |   2    |        0.5         | 0.16666666666666666 |\n",
       "  | 121 financial credit union |   3    | 0.6666666666666666 |  0.3333333333333333 |\n",
       "  | 121 financial credit union |   4    |        0.5         |  0.3333333333333333 |\n",
       "  | 121 financial credit union |   5    |        0.4         |  0.3333333333333333 |\n",
       "  | 121 financial credit union |   6    | 0.3333333333333333 |  0.3333333333333333 |\n",
       "  | 121 financial credit union |   7    | 0.2857142857142857 |  0.3333333333333333 |\n",
       "  | 121 financial credit union |   8    |       0.375        |         0.5         |\n",
       "  | 121 financial credit union |   9    | 0.3333333333333333 |         0.5         |\n",
       "  | 121 financial credit union |   10   |        0.3         |         0.5         |\n",
       "  +----------------------------+--------+--------------------+---------------------+\n",
       "  +-------+\n",
       "  | count |\n",
       "  +-------+\n",
       "  |   6   |\n",
       "  |   6   |\n",
       "  |   6   |\n",
       "  |   6   |\n",
       "  |   6   |\n",
       "  |   6   |\n",
       "  |   6   |\n",
       "  |   6   |\n",
       "  |   6   |\n",
       "  |   6   |\n",
       "  +-------+\n",
       "  [18000 rows x 5 columns]\n",
       "  Note: Only the head of the SFrame is printed.\n",
       "  You can use print_rows(num_rows=m, num_columns=n) to print more rows and columns.,\n",
       "  'precision_recall_overall': Columns:\n",
       "  \tcutoff\tint\n",
       "  \tprecision\tfloat\n",
       "  \trecall\tfloat\n",
       "  \n",
       "  Rows: 18\n",
       "  \n",
       "  Data:\n",
       "  +--------+---------------------+---------------------+\n",
       "  | cutoff |      precision      |        recall       |\n",
       "  +--------+---------------------+---------------------+\n",
       "  |   1    | 0.17400000000000015 | 0.07981904761904757 |\n",
       "  |   2    | 0.18250000000000022 |  0.249521428571429  |\n",
       "  |   3    |  0.1623333333333334 | 0.30997380952380926 |\n",
       "  |   4    |         0.15        |  0.3677404761904758 |\n",
       "  |   5    | 0.14400000000000007 |  0.4693238095238094 |\n",
       "  |   6    | 0.12000000000000004 |  0.4693238095238094 |\n",
       "  |   7    | 0.11557142857142849 |  0.5416071428571417 |\n",
       "  |   8    | 0.10787500000000008 |  0.5593928571428567 |\n",
       "  |   9    | 0.10188888888888886 |  0.6005095238095244 |\n",
       "  |   10   | 0.09170000000000007 |  0.6005095238095244 |\n",
       "  +--------+---------------------+---------------------+\n",
       "  [18 rows x 3 columns]\n",
       "  Note: Only the head of the SFrame is printed.\n",
       "  You can use print_rows(num_rows=m, num_columns=n) to print more rows and columns.}]"
      ]
     },
     "execution_count": 10,
     "metadata": {},
     "output_type": "execute_result"
    }
   ],
   "source": [
    "turicreate.recommender.util.compare_models(test, models, metric='precision_recall')"
   ]
  },
  {
   "cell_type": "code",
   "execution_count": 11,
   "metadata": {},
   "outputs": [
    {
     "name": "stdout",
     "output_type": "stream",
     "text": [
      "PROGRESS: Evaluate model M0\n",
      "\n",
      "Overall RMSE: 27.778382946097285\n",
      "\n",
      "Per User RMSE (best)\n",
      "+--------------------+-------+---------------------+\n",
      "|   Customer_Name    | count |         rmse        |\n",
      "+--------------------+-------+---------------------+\n",
      "| suncoast solutions |   1   | 0.06743002544529242 |\n",
      "+--------------------+-------+---------------------+\n",
      "[1 rows x 3 columns]\n",
      "\n",
      "\n",
      "Per User RMSE (worst)\n",
      "+---------------+-------+-------------------+\n",
      "| Customer_Name | count |        rmse       |\n",
      "+---------------+-------+-------------------+\n",
      "|     mapfre    |   3   | 616.1265997902863 |\n",
      "+---------------+-------+-------------------+\n",
      "[1 rows x 3 columns]\n",
      "\n",
      "\n",
      "Per Item RMSE (best)\n",
      "+----------------+-------+--------+\n",
      "| Product_Family | count |  rmse  |\n",
      "+----------------+-------+--------+\n",
      "|       go       |   2   | 0.3125 |\n",
      "+----------------+-------+--------+\n",
      "[1 rows x 3 columns]\n",
      "\n",
      "\n",
      "Per Item RMSE (worst)\n",
      "+----------------+-------+--------------------+\n",
      "| Product_Family | count |        rmse        |\n",
      "+----------------+-------+--------------------+\n",
      "| security suite |  113  | 100.32041782956043 |\n",
      "+----------------+-------+--------------------+\n",
      "[1 rows x 3 columns]\n",
      "\n",
      "PROGRESS: Evaluate model M1\n",
      "\n",
      "Overall RMSE: 28.31305293408438\n",
      "\n",
      "Per User RMSE (best)\n",
      "+-------------------------------+-------+--------------------+\n",
      "|         Customer_Name         | count |        rmse        |\n",
      "+-------------------------------+-------+--------------------+\n",
      "| stredoslovensko vodarenska... |   1   | 0.9970367500122558 |\n",
      "+-------------------------------+-------+--------------------+\n",
      "[1 rows x 3 columns]\n",
      "\n",
      "\n",
      "Per User RMSE (worst)\n",
      "+---------------+-------+-------------------+\n",
      "| Customer_Name | count |        rmse       |\n",
      "+---------------+-------+-------------------+\n",
      "|     mapfre    |   3   | 619.2916963367755 |\n",
      "+---------------+-------+-------------------+\n",
      "[1 rows x 3 columns]\n",
      "\n",
      "\n",
      "Per Item RMSE (best)\n",
      "+----------------+-------+--------------------+\n",
      "| Product_Family | count |        rmse        |\n",
      "+----------------+-------+--------------------+\n",
      "|   patchlink    |   6   | 0.9997326351226644 |\n",
      "+----------------+-------+--------------------+\n",
      "[1 rows x 3 columns]\n",
      "\n",
      "\n",
      "Per Item RMSE (worst)\n",
      "+----------------+-------+--------------------+\n",
      "| Product_Family | count |        rmse        |\n",
      "+----------------+-------+--------------------+\n",
      "| security suite |  113  | 100.92276312094921 |\n",
      "+----------------+-------+--------------------+\n",
      "[1 rows x 3 columns]\n",
      "\n",
      "PROGRESS: Evaluate model M2\n",
      "\n",
      "Overall RMSE: 28.31058288088697\n",
      "\n",
      "Per User RMSE (best)\n",
      "+-------------------------------+-------+--------------------+\n",
      "|         Customer_Name         | count |        rmse        |\n",
      "+-------------------------------+-------+--------------------+\n",
      "| stredoslovensko vodarenska... |   1   | 0.9672818082444211 |\n",
      "+-------------------------------+-------+--------------------+\n",
      "[1 rows x 3 columns]\n",
      "\n",
      "\n",
      "Per User RMSE (worst)\n",
      "+---------------+-------+-------------------+\n",
      "| Customer_Name | count |        rmse       |\n",
      "+---------------+-------+-------------------+\n",
      "|     mapfre    |   3   | 619.2772551844705 |\n",
      "+---------------+-------+-------------------+\n",
      "[1 rows x 3 columns]\n",
      "\n",
      "\n",
      "Per Item RMSE (best)\n",
      "+----------------+-------+--------------------+\n",
      "| Product_Family | count |        rmse        |\n",
      "+----------------+-------+--------------------+\n",
      "|   patchlink    |   6   | 0.9966265102650257 |\n",
      "+----------------+-------+--------------------+\n",
      "[1 rows x 3 columns]\n",
      "\n",
      "\n",
      "Per Item RMSE (worst)\n",
      "+----------------+-------+--------------------+\n",
      "| Product_Family | count |        rmse        |\n",
      "+----------------+-------+--------------------+\n",
      "| security suite |  113  | 100.91959610735488 |\n",
      "+----------------+-------+--------------------+\n",
      "[1 rows x 3 columns]\n",
      "\n",
      "PROGRESS: Evaluate model M3\n",
      "\n",
      "Overall RMSE: 27.777607766458658\n",
      "\n",
      "Per User RMSE (best)\n",
      "+-----------------------------+-------+---------------------+\n",
      "|        Customer_Name        | count |         rmse        |\n",
      "+-----------------------------+-------+---------------------+\n",
      "| sony pictures entertainment |   1   | 0.03377958680094961 |\n",
      "+-----------------------------+-------+---------------------+\n",
      "[1 rows x 3 columns]\n",
      "\n",
      "\n",
      "Per User RMSE (worst)\n",
      "+---------------+-------+-------------------+\n",
      "| Customer_Name | count |        rmse       |\n",
      "+---------------+-------+-------------------+\n",
      "|     mapfre    |   3   | 616.1795271859003 |\n",
      "+---------------+-------+-------------------+\n",
      "[1 rows x 3 columns]\n",
      "\n",
      "\n",
      "Per Item RMSE (best)\n",
      "+----------------+-------+--------------------+\n",
      "| Product_Family | count |        rmse        |\n",
      "+----------------+-------+--------------------+\n",
      "|       go       |   2   | 0.3122746234244491 |\n",
      "+----------------+-------+--------------------+\n",
      "[1 rows x 3 columns]\n",
      "\n",
      "\n",
      "Per Item RMSE (worst)\n",
      "+----------------+-------+-----------------+\n",
      "| Product_Family | count |       rmse      |\n",
      "+----------------+-------+-----------------+\n",
      "| security suite |  113  | 100.32714229821 |\n",
      "+----------------+-------+-----------------+\n",
      "[1 rows x 3 columns]\n",
      "\n",
      "PROGRESS: Evaluate model M4\n",
      "\n",
      "Overall RMSE: 27.97145900109502\n",
      "\n",
      "Per User RMSE (best)\n",
      "+----------------+-------+----------------------+\n",
      "| Customer_Name  | count |         rmse         |\n",
      "+----------------+-------+----------------------+\n",
      "| valisluureamet |   1   | 0.009664508992258014 |\n",
      "+----------------+-------+----------------------+\n",
      "[1 rows x 3 columns]\n",
      "\n",
      "\n",
      "Per User RMSE (worst)\n",
      "+---------------+-------+-------------------+\n",
      "| Customer_Name | count |        rmse       |\n",
      "+---------------+-------+-------------------+\n",
      "|     mapfre    |   3   | 615.6462276481168 |\n",
      "+---------------+-------+-------------------+\n",
      "[1 rows x 3 columns]\n",
      "\n",
      "\n",
      "Per Item RMSE (best)\n",
      "+----------------+-------+---------------------+\n",
      "| Product_Family | count |         rmse        |\n",
      "+----------------+-------+---------------------+\n",
      "|       go       |   2   | 0.35066774160283476 |\n",
      "+----------------+-------+---------------------+\n",
      "[1 rows x 3 columns]\n",
      "\n",
      "\n",
      "Per Item RMSE (worst)\n",
      "+----------------+-------+--------------------+\n",
      "| Product_Family | count |        rmse        |\n",
      "+----------------+-------+--------------------+\n",
      "| security suite |  113  | 100.25283129304309 |\n",
      "+----------------+-------+--------------------+\n",
      "[1 rows x 3 columns]\n",
      "\n",
      "PROGRESS: Evaluate model M5\n",
      "\n",
      "Overall RMSE: 27.94700272339646\n",
      "\n",
      "Per User RMSE (best)\n",
      "+------------------+-------+--------------------+\n",
      "|  Customer_Name   | count |        rmse        |\n",
      "+------------------+-------+--------------------+\n",
      "| us navy - navair |   1   | 0.4102018144788113 |\n",
      "+------------------+-------+--------------------+\n",
      "[1 rows x 3 columns]\n",
      "\n",
      "\n",
      "Per User RMSE (worst)\n",
      "+---------------+-------+------------------+\n",
      "| Customer_Name | count |       rmse       |\n",
      "+---------------+-------+------------------+\n",
      "|     mapfre    |   3   | 616.562947273652 |\n",
      "+---------------+-------+------------------+\n",
      "[1 rows x 3 columns]\n",
      "\n",
      "\n",
      "Per Item RMSE (best)\n",
      "+----------------+-------+-------------------+\n",
      "| Product_Family | count |        rmse       |\n",
      "+----------------+-------+-------------------+\n",
      "| asset manager  |   2   | 1.728776780720788 |\n",
      "+----------------+-------+-------------------+\n",
      "[1 rows x 3 columns]\n",
      "\n",
      "\n",
      "Per Item RMSE (worst)\n",
      "+----------------+-------+--------------------+\n",
      "| Product_Family | count |        rmse        |\n",
      "+----------------+-------+--------------------+\n",
      "| security suite |  113  | 100.40581980366402 |\n",
      "+----------------+-------+--------------------+\n",
      "[1 rows x 3 columns]\n",
      "\n",
      "PROGRESS: Evaluate model M6\n",
      "\n",
      "Overall RMSE: 52.5805057665644\n",
      "\n",
      "Per User RMSE (best)\n",
      "+-------------------------------+-------+--------------------+\n",
      "|         Customer_Name         | count |        rmse        |\n",
      "+-------------------------------+-------+--------------------+\n",
      "| stredoslovensko vodarenska... |   1   | 25.694973203831736 |\n",
      "+-------------------------------+-------+--------------------+\n",
      "[1 rows x 3 columns]\n",
      "\n",
      "\n",
      "Per User RMSE (worst)\n",
      "+---------------+-------+-----------------+\n",
      "| Customer_Name | count |       rmse      |\n",
      "+---------------+-------+-----------------+\n",
      "|     mapfre    |   3   | 643.16598045148 |\n",
      "+---------------+-------+-----------------+\n",
      "[1 rows x 3 columns]\n",
      "\n",
      "\n",
      "Per Item RMSE (best)\n",
      "+----------------+-------+--------------------+\n",
      "| Product_Family | count |        rmse        |\n",
      "+----------------+-------+--------------------+\n",
      "|      ldms      |  174  | 27.273962839777383 |\n",
      "+----------------+-------+--------------------+\n",
      "[1 rows x 3 columns]\n",
      "\n",
      "\n",
      "Per Item RMSE (worst)\n",
      "+----------------+-------+--------------------+\n",
      "| Product_Family | count |        rmse        |\n",
      "+----------------+-------+--------------------+\n",
      "|     ht oem     |   3   | 113.14511769929499 |\n",
      "+----------------+-------+--------------------+\n",
      "[1 rows x 3 columns]\n",
      "\n"
     ]
    },
    {
     "data": {
      "text/plain": [
       "[{'rmse_by_item': Columns:\n",
       "  \tProduct_Family\tstr\n",
       "  \tcount\tint\n",
       "  \trmse\tfloat\n",
       "  \n",
       "  Rows: 42\n",
       "  \n",
       "  Data:\n",
       "  +----------------+-------+---------------------+\n",
       "  | Product_Family | count |         rmse        |\n",
       "  +----------------+-------+---------------------+\n",
       "  |    protect     |  191  |  4.0187967897649814 |\n",
       "  | patch manager  |  122  |   9.92596707284377  |\n",
       "  |   patchlink    |   6   |  0.5416666666666667 |\n",
       "  |      sccm      |   2   |  0.8955223880597014 |\n",
       "  |      dsm       |   41  |  5.8361207616589965 |\n",
       "  | server manager |   5   |  1.6182356962131053 |\n",
       "  | managed planet |   24  |  2.241071117936272  |\n",
       "  |    datanow     |   10  |  2.279957740191351  |\n",
       "  | shavlik patch  |   89  |  1.9605214827981594 |\n",
       "  |   scupdates    |   7   | 0.35714285714285715 |\n",
       "  +----------------+-------+---------------------+\n",
       "  [42 rows x 3 columns]\n",
       "  Note: Only the head of the SFrame is printed.\n",
       "  You can use print_rows(num_rows=m, num_columns=n) to print more rows and columns.,\n",
       "  'rmse_by_user': Columns:\n",
       "  \tCustomer_Name\tstr\n",
       "  \tcount\tint\n",
       "  \trmse\tfloat\n",
       "  \n",
       "  Rows: 1000\n",
       "  \n",
       "  Data:\n",
       "  +-----------------------------+-------+---------------------+\n",
       "  |        Customer_Name        | count |         rmse        |\n",
       "  +-----------------------------+-------+---------------------+\n",
       "  |    steinhoff service gmbh   |   1   |  2.252373417721519  |\n",
       "  |             atpc            |   1   |  3.1765799256505574 |\n",
       "  |  la county - superior court |   1   |  3.2104770813844716 |\n",
       "  | propex fabriks magyarorszag |   2   |  3.072973921813061  |\n",
       "  |         bunsha/kiabi        |   1   |  9.826443202979515  |\n",
       "  |     shearman & sterling     |   1   | 0.08771929824561409 |\n",
       "  |     port of los angeles     |   1   |  1.5270038576939564 |\n",
       "  |       scottish canals       |   1   |  3.7895229186155284 |\n",
       "  |    johns eastern company    |   1   |  2.4729961423060436 |\n",
       "  |            sefcu            |   1   |  1.1693548387096775 |\n",
       "  +-----------------------------+-------+---------------------+\n",
       "  [1000 rows x 3 columns]\n",
       "  Note: Only the head of the SFrame is printed.\n",
       "  You can use print_rows(num_rows=m, num_columns=n) to print more rows and columns.,\n",
       "  'rmse_overall': 27.778382946097285},\n",
       " {'rmse_by_item': Columns:\n",
       "  \tProduct_Family\tstr\n",
       "  \tcount\tint\n",
       "  \trmse\tfloat\n",
       "  \n",
       "  Rows: 42\n",
       "  \n",
       "  Data:\n",
       "  +----------------+-------+--------------------+\n",
       "  | Product_Family | count |        rmse        |\n",
       "  +----------------+-------+--------------------+\n",
       "  |    protect     |  191  | 5.338969626947403  |\n",
       "  | patch manager  |  122  | 13.482699589749453 |\n",
       "  |   patchlink    |   6   | 0.9997326351226644 |\n",
       "  |      sccm      |   2   | 0.9998016687149697 |\n",
       "  |      dsm       |   41  | 7.030921127979374  |\n",
       "  | server manager |   5   | 2.407823246286177  |\n",
       "  | managed planet |   24  | 2.0900887243556316 |\n",
       "  |    datanow     |   10  | 3.2861724979457114 |\n",
       "  | shavlik patch  |   89  | 2.9296383381564075 |\n",
       "  |   scupdates    |   7   | 1.1950928322567331 |\n",
       "  +----------------+-------+--------------------+\n",
       "  [42 rows x 3 columns]\n",
       "  Note: Only the head of the SFrame is printed.\n",
       "  You can use print_rows(num_rows=m, num_columns=n) to print more rows and columns.,\n",
       "  'rmse_by_user': Columns:\n",
       "  \tCustomer_Name\tstr\n",
       "  \tcount\tint\n",
       "  \trmse\tfloat\n",
       "  \n",
       "  Rows: 1000\n",
       "  \n",
       "  Data:\n",
       "  +-----------------------------+-------+--------------------+\n",
       "  |        Customer_Name        | count |        rmse        |\n",
       "  +-----------------------------+-------+--------------------+\n",
       "  |    steinhoff service gmbh   |   1   | 0.9995606909406946 |\n",
       "  |             atpc            |   1   | 0.9997094172112485 |\n",
       "  |  la county - superior court |   1   | 7.999659793174013  |\n",
       "  | propex fabriks magyarorszag |   2   | 2.998698530811426  |\n",
       "  |         bunsha/kiabi        |   1   | 1.9985007339335503 |\n",
       "  |     shearman & sterling     |   1   | 1.9994291434896754 |\n",
       "  |     port of los angeles     |   1   | 5.999549874599944  |\n",
       "  |       scottish canals       |   1   | 0.9996597931740132 |\n",
       "  |    johns eastern company    |   1   | 1.9995498745999438 |\n",
       "  |            sefcu            |   1   |  0.9996241762283   |\n",
       "  +-----------------------------+-------+--------------------+\n",
       "  [1000 rows x 3 columns]\n",
       "  Note: Only the head of the SFrame is printed.\n",
       "  You can use print_rows(num_rows=m, num_columns=n) to print more rows and columns.,\n",
       "  'rmse_overall': 28.31305293408438},\n",
       " {'rmse_by_item': Columns:\n",
       "  \tProduct_Family\tstr\n",
       "  \tcount\tint\n",
       "  \trmse\tfloat\n",
       "  \n",
       "  Rows: 42\n",
       "  \n",
       "  Data:\n",
       "  +----------------+-------+--------------------+\n",
       "  | Product_Family | count |        rmse        |\n",
       "  +----------------+-------+--------------------+\n",
       "  |    protect     |  191  | 5.335357355475075  |\n",
       "  | patch manager  |  122  | 13.466579150908354 |\n",
       "  |   patchlink    |   6   | 0.9966265102650257 |\n",
       "  |      sccm      |   2   | 0.9974465217996151 |\n",
       "  |      dsm       |   41  | 7.024898187963495  |\n",
       "  | server manager |   5   | 2.406423038212239  |\n",
       "  | managed planet |   24  | 2.073461491171647  |\n",
       "  |    datanow     |   10  | 3.280634897534934  |\n",
       "  | shavlik patch  |   89  | 2.9257740734294426 |\n",
       "  |   scupdates    |   7   | 1.193418066298692  |\n",
       "  +----------------+-------+--------------------+\n",
       "  [42 rows x 3 columns]\n",
       "  Note: Only the head of the SFrame is printed.\n",
       "  You can use print_rows(num_rows=m, num_columns=n) to print more rows and columns.,\n",
       "  'rmse_by_user': Columns:\n",
       "  \tCustomer_Name\tstr\n",
       "  \tcount\tint\n",
       "  \trmse\tfloat\n",
       "  \n",
       "  Rows: 1000\n",
       "  \n",
       "  Data:\n",
       "  +-----------------------------+-------+--------------------+\n",
       "  |        Customer_Name        | count |        rmse        |\n",
       "  +-----------------------------+-------+--------------------+\n",
       "  |    steinhoff service gmbh   |   1   | 0.9901281290865959 |\n",
       "  |             atpc            |   1   | 0.9932670466443325 |\n",
       "  |  la county - superior court |   1   | 7.992889926788655  |\n",
       "  | propex fabriks magyarorszag |   2   | 2.9765972727901224 |\n",
       "  |         bunsha/kiabi        |   1   | 1.9754450181697278 |\n",
       "  |     shearman & sterling     |   1   | 1.9909558207430738 |\n",
       "  |     port of los angeles     |   1   | 5.994216273439691  |\n",
       "  |       scottish canals       |   1   | 0.9928899267886547 |\n",
       "  |    johns eastern company    |   1   | 1.9942162734396913 |\n",
       "  |            sefcu            |   1   | 0.9945371353879888 |\n",
       "  +-----------------------------+-------+--------------------+\n",
       "  [1000 rows x 3 columns]\n",
       "  Note: Only the head of the SFrame is printed.\n",
       "  You can use print_rows(num_rows=m, num_columns=n) to print more rows and columns.,\n",
       "  'rmse_overall': 28.31058288088697},\n",
       " {'rmse_by_item': Columns:\n",
       "  \tProduct_Family\tstr\n",
       "  \tcount\tint\n",
       "  \trmse\tfloat\n",
       "  \n",
       "  Rows: 42\n",
       "  \n",
       "  Data:\n",
       "  +----------------+-------+--------------------+\n",
       "  | Product_Family | count |        rmse        |\n",
       "  +----------------+-------+--------------------+\n",
       "  |    protect     |  191  | 4.000329440096655  |\n",
       "  | patch manager  |  122  | 9.883760477545062  |\n",
       "  |   patchlink    |   6   | 0.5147757572485203 |\n",
       "  |      sccm      |   2   | 0.7919530047428502 |\n",
       "  |      dsm       |   41  | 5.832509922842246  |\n",
       "  | server manager |   5   | 1.6102334029729066 |\n",
       "  | managed planet |   24  | 2.0326721248587294 |\n",
       "  |    datanow     |   10  | 2.2701562335977115 |\n",
       "  | shavlik patch  |   89  | 1.9580340533594294 |\n",
       "  |   scupdates    |   7   | 0.3575708877701622 |\n",
       "  +----------------+-------+--------------------+\n",
       "  [42 rows x 3 columns]\n",
       "  Note: Only the head of the SFrame is printed.\n",
       "  You can use print_rows(num_rows=m, num_columns=n) to print more rows and columns.,\n",
       "  'rmse_by_user': Columns:\n",
       "  \tCustomer_Name\tstr\n",
       "  \tcount\tint\n",
       "  \trmse\tfloat\n",
       "  \n",
       "  Rows: 1000\n",
       "  \n",
       "  Data:\n",
       "  +-----------------------------+-------+---------------------+\n",
       "  |        Customer_Name        | count |         rmse        |\n",
       "  +-----------------------------+-------+---------------------+\n",
       "  |    steinhoff service gmbh   |   1   |  2.087010141463087  |\n",
       "  |             atpc            |   1   |  3.1340894636111774 |\n",
       "  |  la county - superior court |   1   |  3.2286713142338384 |\n",
       "  | propex fabriks magyarorszag |   2   |  2.9573112901717367 |\n",
       "  |         bunsha/kiabi        |   1   |  9.644775533957155  |\n",
       "  |     shearman & sterling     |   1   | 0.19524976149473838 |\n",
       "  |     port of los angeles     |   1   |  1.6184799975640427 |\n",
       "  |       scottish canals       |   1   |  3.7713286857661616 |\n",
       "  |    johns eastern company    |   1   |  2.3815200024359573 |\n",
       "  |            sefcu            |   1   |  1.0799688282860584 |\n",
       "  +-----------------------------+-------+---------------------+\n",
       "  [1000 rows x 3 columns]\n",
       "  Note: Only the head of the SFrame is printed.\n",
       "  You can use print_rows(num_rows=m, num_columns=n) to print more rows and columns.,\n",
       "  'rmse_overall': 27.777607766458658},\n",
       " {'rmse_by_item': Columns:\n",
       "  \tProduct_Family\tstr\n",
       "  \tcount\tint\n",
       "  \trmse\tfloat\n",
       "  \n",
       "  Rows: 42\n",
       "  \n",
       "  Data:\n",
       "  +----------------+-------+---------------------+\n",
       "  | Product_Family | count |         rmse        |\n",
       "  +----------------+-------+---------------------+\n",
       "  |    protect     |  191  |  5.631955764761698  |\n",
       "  | patch manager  |  122  |  14.024871303909615 |\n",
       "  |   patchlink    |   6   |  0.4160149362744656 |\n",
       "  |      sccm      |   2   |  0.6025293138684598 |\n",
       "  |      dsm       |   41  |  6.190286427655914  |\n",
       "  | server manager |   5   |  1.6003776865705512 |\n",
       "  | managed planet |   24  |  1.6879152537808026 |\n",
       "  |    datanow     |   10  |  2.319329970037949  |\n",
       "  | shavlik patch  |   89  |  1.9638308120444152 |\n",
       "  |   scupdates    |   7   | 0.36067383393775426 |\n",
       "  +----------------+-------+---------------------+\n",
       "  [42 rows x 3 columns]\n",
       "  Note: Only the head of the SFrame is printed.\n",
       "  You can use print_rows(num_rows=m, num_columns=n) to print more rows and columns.,\n",
       "  'rmse_by_user': Columns:\n",
       "  \tCustomer_Name\tstr\n",
       "  \tcount\tint\n",
       "  \trmse\tfloat\n",
       "  \n",
       "  Rows: 1000\n",
       "  \n",
       "  Data:\n",
       "  +-----------------------------+-------+--------------------+\n",
       "  |        Customer_Name        | count |        rmse        |\n",
       "  +-----------------------------+-------+--------------------+\n",
       "  |    steinhoff service gmbh   |   1   | 2.6413622763814297 |\n",
       "  |             atpc            |   1   | 3.7349096205891934 |\n",
       "  |  la county - superior court |   1   | 2.2401625844774875 |\n",
       "  | propex fabriks magyarorszag |   2   |  4.09933551010746  |\n",
       "  |         bunsha/kiabi        |   1   | 17.62726381093877  |\n",
       "  |     shearman & sterling     |   1   | 0.293487283879343  |\n",
       "  |     port of los angeles     |   1   | 1.655072000330862  |\n",
       "  |       scottish canals       |   1   | 4.7598374155225125 |\n",
       "  |    johns eastern company    |   1   | 5.655072000330862  |\n",
       "  |            sefcu            |   1   | 0.990335491007742  |\n",
       "  +-----------------------------+-------+--------------------+\n",
       "  [1000 rows x 3 columns]\n",
       "  Note: Only the head of the SFrame is printed.\n",
       "  You can use print_rows(num_rows=m, num_columns=n) to print more rows and columns.,\n",
       "  'rmse_overall': 27.97145900109502},\n",
       " {'rmse_by_item': Columns:\n",
       "  \tProduct_Family\tstr\n",
       "  \tcount\tint\n",
       "  \trmse\tfloat\n",
       "  \n",
       "  Rows: 42\n",
       "  \n",
       "  Data:\n",
       "  +----------------+-------+--------------------+\n",
       "  | Product_Family | count |        rmse        |\n",
       "  +----------------+-------+--------------------+\n",
       "  |    protect     |  191  | 4.0059041379825775 |\n",
       "  | patch manager  |  122  |  10.8648933774051  |\n",
       "  |   patchlink    |   6   | 3.4102018144788113 |\n",
       "  |      sccm      |   2   | 3.4102018144788113 |\n",
       "  |      dsm       |   41  | 5.589350603132267  |\n",
       "  | server manager |   5   | 3.0615606334528933 |\n",
       "  | managed planet |   24  | 3.0808641884016996 |\n",
       "  |    datanow     |   10  | 3.0134550494297914 |\n",
       "  | shavlik patch  |   89  | 2.9677688436603313 |\n",
       "  |   scupdates    |   7   | 3.286029546849259  |\n",
       "  +----------------+-------+--------------------+\n",
       "  [42 rows x 3 columns]\n",
       "  Note: Only the head of the SFrame is printed.\n",
       "  You can use print_rows(num_rows=m, num_columns=n) to print more rows and columns.,\n",
       "  'rmse_by_user': Columns:\n",
       "  \tCustomer_Name\tstr\n",
       "  \tcount\tint\n",
       "  \trmse\tfloat\n",
       "  \n",
       "  Rows: 1000\n",
       "  \n",
       "  Data:\n",
       "  +-----------------------------+-------+--------------------+\n",
       "  |        Customer_Name        | count |        rmse        |\n",
       "  +-----------------------------+-------+--------------------+\n",
       "  |    steinhoff service gmbh   |   1   | 3.4102018144788113 |\n",
       "  |             atpc            |   1   | 3.4102018144788113 |\n",
       "  |  la county - superior court |   1   | 3.5897981855211887 |\n",
       "  | propex fabriks magyarorszag |   2   | 1.4102018144788113 |\n",
       "  |         bunsha/kiabi        |   1   | 2.4102018144788113 |\n",
       "  |     shearman & sterling     |   1   | 2.4102018144788113 |\n",
       "  |     port of los angeles     |   1   | 1.5897981855211887 |\n",
       "  |       scottish canals       |   1   | 3.4102018144788113 |\n",
       "  |    johns eastern company    |   1   | 2.4102018144788113 |\n",
       "  |            sefcu            |   1   | 3.4102018144788113 |\n",
       "  +-----------------------------+-------+--------------------+\n",
       "  [1000 rows x 3 columns]\n",
       "  Note: Only the head of the SFrame is printed.\n",
       "  You can use print_rows(num_rows=m, num_columns=n) to print more rows and columns.,\n",
       "  'rmse_overall': 27.94700272339646},\n",
       " {'rmse_by_item': Columns:\n",
       "  \tProduct_Family\tstr\n",
       "  \tcount\tint\n",
       "  \trmse\tfloat\n",
       "  \n",
       "  Rows: 42\n",
       "  \n",
       "  Data:\n",
       "  +----------------+-------+--------------------+\n",
       "  | Product_Family | count |        rmse        |\n",
       "  +----------------+-------+--------------------+\n",
       "  |    protect     |  191  |  35.3169625435504  |\n",
       "  | patch manager  |  122  | 47.115426992256495 |\n",
       "  |   patchlink    |   6   | 47.32882711618525  |\n",
       "  |      sccm      |   2   | 46.72452566354853  |\n",
       "  |      dsm       |   41  | 49.08038322684634  |\n",
       "  | server manager |   5   | 49.00155528104693  |\n",
       "  | managed planet |   24  | 46.89337835360705  |\n",
       "  |    datanow     |   10  | 48.82375401741169  |\n",
       "  | shavlik patch  |   89  | 44.580236844376124 |\n",
       "  |   scupdates    |   7   | 48.27353544414414  |\n",
       "  +----------------+-------+--------------------+\n",
       "  [42 rows x 3 columns]\n",
       "  Note: Only the head of the SFrame is printed.\n",
       "  You can use print_rows(num_rows=m, num_columns=n) to print more rows and columns.,\n",
       "  'rmse_by_user': Columns:\n",
       "  \tCustomer_Name\tstr\n",
       "  \tcount\tint\n",
       "  \trmse\tfloat\n",
       "  \n",
       "  Rows: 1000\n",
       "  \n",
       "  Data:\n",
       "  +-----------------------------+-------+--------------------+\n",
       "  |        Customer_Name        | count |        rmse        |\n",
       "  +-----------------------------+-------+--------------------+\n",
       "  |    steinhoff service gmbh   |   1   | 44.296291563206736 |\n",
       "  |             atpc            |   1   | 40.937301847630565 |\n",
       "  |  la county - superior court |   1   | 51.87170812814814  |\n",
       "  | propex fabriks magyarorszag |   2   | 45.038860506266325 |\n",
       "  |         bunsha/kiabi        |   1   | 38.68563863962275  |\n",
       "  |     shearman & sterling     |   1   | 47.246166441136424 |\n",
       "  |     port of los angeles     |   1   | 37.480182859593455 |\n",
       "  |       scottish canals       |   1   | 44.87170812814814  |\n",
       "  |    johns eastern company    |   1   | 33.480182859593455 |\n",
       "  |            sefcu            |   1   | 46.57165548532588  |\n",
       "  +-----------------------------+-------+--------------------+\n",
       "  [1000 rows x 3 columns]\n",
       "  Note: Only the head of the SFrame is printed.\n",
       "  You can use print_rows(num_rows=m, num_columns=n) to print more rows and columns.,\n",
       "  'rmse_overall': 52.5805057665644}]"
      ]
     },
     "execution_count": 11,
     "metadata": {},
     "output_type": "execute_result"
    }
   ],
   "source": [
    "turicreate.recommender.util.compare_models(test, models, metric='rmse')"
   ]
  },
  {
   "cell_type": "code",
   "execution_count": null,
   "metadata": {},
   "outputs": [],
   "source": [
    "# from turicreate.toolkits.recommender.util import precision_recall_by_user\n",
    "# recs = popularity_model.recommend()\n",
    "# precision_recall_by_user(test, recs)"
   ]
  },
  {
   "cell_type": "code",
   "execution_count": 12,
   "metadata": {},
   "outputs": [
    {
     "data": {
      "text/plain": [
       "dtype: float\n",
       "Rows: 1536\n",
       "[-43.048351499730174, -24.694973203831736, -45.24988195627314, -46.689132902318065, -36.68563863962275, -45.0952455732165, -46.89804098337275, -48.558014127904, -31.480182859593455, -31.480182859593455, -46.11708090036494, -42.3574526044665, -39.937301847630565, -43.87170812814814, -46.025505277806346, -43.048351499730174, -37.66322347848994, -45.089748594456736, -39.937301847630565, -31.480182859593455, -46.76623937814814, -43.87170812814814, -43.296291563206736, -36.68563863962275, -31.480182859593455, -37.66322347848994, -31.480182859593455, -42.3574526044665, -31.480182859593455, -43.048351499730174, -24.694973203831736, -37.66322347848994, -45.0952455732165, -31.480182859593455, -31.480182859593455, -48.558014127904, -24.694973203831736, -46.57019445627314, -45.089748594456736, -39.937301847630565, -31.480182859593455, -31.480182859593455, -42.3574526044665, -37.66322347848994, -39.937301847630565, -43.048351499730174, -45.089748594456736, -43.87170812814814, -45.57165548532588, -43.296291563206736, -45.246166441136424, -31.480182859593455, -31.480182859593455, -39.937301847630565, -39.937301847630565, -31.480182859593455, -31.480182859593455, -36.68563863962275, -47.175426695042674, -45.089748594456736, -31.480182859593455, -31.480182859593455, -31.480182859593455, -43.296291563206736, -42.3574526044665, -42.3574526044665, -24.694973203831736, -36.68563863962275, -39.937301847630565, -45.089748594456736, -46.689132902318065, -36.68563863962275, -31.480182859593455, -24.694973203831736, -36.68563863962275, -47.175426695042674, -45.57165548532588, -42.3574526044665, -46.689132902318065, -46.02426550119502, -43.048351499730174, -46.689132902318065, -24.694973203831736, -36.68563863962275, -46.11708090036494, -39.937301847630565, -39.937301847630565, -24.694973203831736, -31.480182859593455, -36.68563863962275, -24.694973203831736, -36.68563863962275, -31.480182859593455, -31.480182859593455, -43.87170812814814, -24.694973203831736, -36.68563863962275, -45.0952455732165, -39.937301847630565, -43.296291563206736, ... ]"
      ]
     },
     "execution_count": 12,
     "metadata": {},
     "output_type": "execute_result"
    }
   ],
   "source": [
    "ranking_factorization_model.predict(test)"
   ]
  },
  {
   "cell_type": "code",
   "execution_count": 13,
   "metadata": {
    "scrolled": true
   },
   "outputs": [
    {
     "data": {
      "text/html": [
       "<pre>recommendations finished on 1000/20762 queries. users per second: 358938</pre>"
      ],
      "text/plain": [
       "recommendations finished on 1000/20762 queries. users per second: 358938"
      ]
     },
     "metadata": {},
     "output_type": "display_data"
    },
    {
     "data": {
      "text/html": [
       "<pre>recommendations finished on 2000/20762 queries. users per second: 495786</pre>"
      ],
      "text/plain": [
       "recommendations finished on 2000/20762 queries. users per second: 495786"
      ]
     },
     "metadata": {},
     "output_type": "display_data"
    },
    {
     "data": {
      "text/html": [
       "<pre>recommendations finished on 3000/20762 queries. users per second: 560748</pre>"
      ],
      "text/plain": [
       "recommendations finished on 3000/20762 queries. users per second: 560748"
      ]
     },
     "metadata": {},
     "output_type": "display_data"
    },
    {
     "data": {
      "text/html": [
       "<pre>recommendations finished on 4000/20762 queries. users per second: 578369</pre>"
      ],
      "text/plain": [
       "recommendations finished on 4000/20762 queries. users per second: 578369"
      ]
     },
     "metadata": {},
     "output_type": "display_data"
    },
    {
     "data": {
      "text/html": [
       "<pre>recommendations finished on 5000/20762 queries. users per second: 625547</pre>"
      ],
      "text/plain": [
       "recommendations finished on 5000/20762 queries. users per second: 625547"
      ]
     },
     "metadata": {},
     "output_type": "display_data"
    },
    {
     "data": {
      "text/html": [
       "<pre>recommendations finished on 6000/20762 queries. users per second: 619707</pre>"
      ],
      "text/plain": [
       "recommendations finished on 6000/20762 queries. users per second: 619707"
      ]
     },
     "metadata": {},
     "output_type": "display_data"
    },
    {
     "data": {
      "text/html": [
       "<pre>recommendations finished on 7000/20762 queries. users per second: 626510</pre>"
      ],
      "text/plain": [
       "recommendations finished on 7000/20762 queries. users per second: 626510"
      ]
     },
     "metadata": {},
     "output_type": "display_data"
    },
    {
     "data": {
      "text/html": [
       "<pre>recommendations finished on 8000/20762 queries. users per second: 630716</pre>"
      ],
      "text/plain": [
       "recommendations finished on 8000/20762 queries. users per second: 630716"
      ]
     },
     "metadata": {},
     "output_type": "display_data"
    },
    {
     "data": {
      "text/html": [
       "<pre>recommendations finished on 9000/20762 queries. users per second: 650242</pre>"
      ],
      "text/plain": [
       "recommendations finished on 9000/20762 queries. users per second: 650242"
      ]
     },
     "metadata": {},
     "output_type": "display_data"
    },
    {
     "data": {
      "text/html": [
       "<pre>recommendations finished on 10000/20762 queries. users per second: 669031</pre>"
      ],
      "text/plain": [
       "recommendations finished on 10000/20762 queries. users per second: 669031"
      ]
     },
     "metadata": {},
     "output_type": "display_data"
    },
    {
     "data": {
      "text/html": [
       "<pre>recommendations finished on 11000/20762 queries. users per second: 678761</pre>"
      ],
      "text/plain": [
       "recommendations finished on 11000/20762 queries. users per second: 678761"
      ]
     },
     "metadata": {},
     "output_type": "display_data"
    },
    {
     "data": {
      "text/html": [
       "<pre>recommendations finished on 12000/20762 queries. users per second: 669718</pre>"
      ],
      "text/plain": [
       "recommendations finished on 12000/20762 queries. users per second: 669718"
      ]
     },
     "metadata": {},
     "output_type": "display_data"
    },
    {
     "data": {
      "text/html": [
       "<pre>recommendations finished on 13000/20762 queries. users per second: 678532</pre>"
      ],
      "text/plain": [
       "recommendations finished on 13000/20762 queries. users per second: 678532"
      ]
     },
     "metadata": {},
     "output_type": "display_data"
    },
    {
     "data": {
      "text/html": [
       "<pre>recommendations finished on 14000/20762 queries. users per second: 689383</pre>"
      ],
      "text/plain": [
       "recommendations finished on 14000/20762 queries. users per second: 689383"
      ]
     },
     "metadata": {},
     "output_type": "display_data"
    },
    {
     "data": {
      "text/html": [
       "<pre>recommendations finished on 15000/20762 queries. users per second: 683620</pre>"
      ],
      "text/plain": [
       "recommendations finished on 15000/20762 queries. users per second: 683620"
      ]
     },
     "metadata": {},
     "output_type": "display_data"
    },
    {
     "data": {
      "text/html": [
       "<pre>recommendations finished on 16000/20762 queries. users per second: 681054</pre>"
      ],
      "text/plain": [
       "recommendations finished on 16000/20762 queries. users per second: 681054"
      ]
     },
     "metadata": {},
     "output_type": "display_data"
    },
    {
     "data": {
      "text/html": [
       "<pre>recommendations finished on 17000/20762 queries. users per second: 680408</pre>"
      ],
      "text/plain": [
       "recommendations finished on 17000/20762 queries. users per second: 680408"
      ]
     },
     "metadata": {},
     "output_type": "display_data"
    },
    {
     "data": {
      "text/html": [
       "<pre>recommendations finished on 18000/20762 queries. users per second: 681431</pre>"
      ],
      "text/plain": [
       "recommendations finished on 18000/20762 queries. users per second: 681431"
      ]
     },
     "metadata": {},
     "output_type": "display_data"
    },
    {
     "data": {
      "text/html": [
       "<pre>recommendations finished on 19000/20762 queries. users per second: 685995</pre>"
      ],
      "text/plain": [
       "recommendations finished on 19000/20762 queries. users per second: 685995"
      ]
     },
     "metadata": {},
     "output_type": "display_data"
    },
    {
     "data": {
      "text/html": [
       "<pre>recommendations finished on 20000/20762 queries. users per second: 669972</pre>"
      ],
      "text/plain": [
       "recommendations finished on 20000/20762 queries. users per second: 669972"
      ]
     },
     "metadata": {},
     "output_type": "display_data"
    }
   ],
   "source": [
    "ranking_factorization_model.recommend()"
   ]
  },
  {
   "cell_type": "code",
   "execution_count": 133,
   "metadata": {
    "scrolled": true
   },
   "outputs": [
    {
     "data": {
      "text/plain": [
       "<bound method Model.summary of Class                            : RankingFactorizationRecommender\n",
       "\n",
       "Schema\n",
       "------\n",
       "User ID                          : Customer_Name\n",
       "Item ID                          : Product_Family\n",
       "Target                           : count\n",
       "Additional observation features  : 0\n",
       "User side features               : []\n",
       "Item side features               : []\n",
       "\n",
       "Statistics\n",
       "----------\n",
       "Number of observations           : 32406\n",
       "Number of users                  : 20762\n",
       "Number of items                  : 47\n",
       "\n",
       "Training summary\n",
       "----------------\n",
       "Training time                    : 6.1474\n",
       "\n",
       "Model Parameters\n",
       "----------------\n",
       "Model class                      : RankingFactorizationRecommender\n",
       "num_factors                      : 32\n",
       "binary_target                    : 0\n",
       "side_data_factorization          : 1\n",
       "solver                           : auto\n",
       "nmf                              : 0\n",
       "max_iterations                   : 25\n",
       "\n",
       "Regularization Settings\n",
       "-----------------------\n",
       "regularization                   : 0.0\n",
       "regularization_type              : normal\n",
       "linear_regularization            : 0.0\n",
       "ranking_regularization           : 0.25\n",
       "unobserved_rating_value          : -1.7976931348623157e+308\n",
       "num_sampled_negative_examples    : 4\n",
       "ials_confidence_scaling_type     : auto\n",
       "ials_confidence_scaling_factor   : 1\n",
       "\n",
       "Optimization Settings\n",
       "---------------------\n",
       "init_random_sigma                : 0.01\n",
       "sgd_convergence_interval         : 4\n",
       "sgd_convergence_threshold        : 0.0\n",
       "sgd_max_trial_iterations         : 5\n",
       "sgd_sampling_block_size          : 131072\n",
       "sgd_step_adjustment_interval     : 4\n",
       "sgd_step_size                    : 0.0\n",
       "sgd_trial_sample_minimum_size    : 10000\n",
       "sgd_trial_sample_proportion      : 0.125\n",
       "step_size_decrease_rate          : 0.75\n",
       "additional_iterations_if_unhealthy : 5\n",
       "adagrad_momentum_weighting       : 0.9\n",
       "num_tempering_iterations         : 4\n",
       "tempering_regularization_start_value : 0.0\n",
       "track_exact_loss                 : 0\n",
       ">"
      ]
     },
     "execution_count": 133,
     "metadata": {},
     "output_type": "execute_result"
    }
   ],
   "source": [
    "ranking_factorization_model.summary"
   ]
  },
  {
   "cell_type": "code",
   "execution_count": 134,
   "metadata": {},
   "outputs": [
    {
     "data": {
      "text/html": [
       "<pre>recommendations finished on 1000/1000 queries. users per second: 146220</pre>"
      ],
      "text/plain": [
       "recommendations finished on 1000/1000 queries. users per second: 146220"
      ]
     },
     "metadata": {},
     "output_type": "display_data"
    },
    {
     "name": "stdout",
     "output_type": "stream",
     "text": [
      "\n",
      "Precision and recall summary statistics by cutoff\n",
      "+--------+---------------------+---------------------+\n",
      "| cutoff |    mean_precision   |     mean_recall     |\n",
      "+--------+---------------------+---------------------+\n",
      "|   1    | 0.17400000000000032 | 0.07981904761904754 |\n",
      "|   2    | 0.18250000000000013 | 0.24952142857142856 |\n",
      "|   3    | 0.16233333333333347 | 0.30997380952380954 |\n",
      "|   4    | 0.14999999999999997 |  0.3677404761904765 |\n",
      "|   5    | 0.14399999999999996 | 0.46932380952380937 |\n",
      "|   6    | 0.11999999999999998 | 0.46932380952380937 |\n",
      "|   7    | 0.11557142857142866 |  0.5416071428571427 |\n",
      "|   8    | 0.10787499999999994 |  0.5593928571428579 |\n",
      "|   9    | 0.10188888888888878 |  0.6005095238095246 |\n",
      "|   10   | 0.09170000000000006 |  0.6005095238095246 |\n",
      "+--------+---------------------+---------------------+\n",
      "[10 rows x 3 columns]\n",
      "\n",
      "\n",
      "Overall RMSE: 52.42981670284759\n",
      "\n",
      "Per User RMSE (best)\n",
      "+-------------------------------+-------+-------------------+\n",
      "|         Customer_Name         | count |        rmse       |\n",
      "+-------------------------------+-------+-------------------+\n",
      "| stredoslovensko vodarenska... |   1   | 24.96848127573115 |\n",
      "+-------------------------------+-------+-------------------+\n",
      "[1 rows x 3 columns]\n",
      "\n",
      "\n",
      "Per User RMSE (worst)\n",
      "+---------------+-------+-------------------+\n",
      "| Customer_Name | count |        rmse       |\n",
      "+---------------+-------+-------------------+\n",
      "|     mapfre    |   3   | 643.1485140414965 |\n",
      "+---------------+-------+-------------------+\n",
      "[1 rows x 3 columns]\n",
      "\n",
      "\n",
      "Per Item RMSE (best)\n",
      "+----------------+-------+--------------------+\n",
      "| Product_Family | count |        rmse        |\n",
      "+----------------+-------+--------------------+\n",
      "|      ldms      |  174  | 26.554821565507165 |\n",
      "+----------------+-------+--------------------+\n",
      "[1 rows x 3 columns]\n",
      "\n",
      "\n",
      "Per Item RMSE (worst)\n",
      "+----------------+-------+--------------------+\n",
      "| Product_Family | count |        rmse        |\n",
      "+----------------+-------+--------------------+\n",
      "| security suite |  113  | 112.53351704744843 |\n",
      "+----------------+-------+--------------------+\n",
      "[1 rows x 3 columns]\n",
      "\n"
     ]
    },
    {
     "data": {
      "text/plain": [
       "{'precision_recall_by_user': Columns:\n",
       " \tCustomer_Name\tstr\n",
       " \tcutoff\tint\n",
       " \tprecision\tfloat\n",
       " \trecall\tfloat\n",
       " \tcount\tint\n",
       " \n",
       " Rows: 18000\n",
       " \n",
       " Data:\n",
       " +----------------------------+--------+--------------------+---------------------+\n",
       " |       Customer_Name        | cutoff |     precision      |        recall       |\n",
       " +----------------------------+--------+--------------------+---------------------+\n",
       " | 121 financial credit union |   1    |        1.0         | 0.16666666666666666 |\n",
       " | 121 financial credit union |   2    |        0.5         | 0.16666666666666666 |\n",
       " | 121 financial credit union |   3    | 0.6666666666666666 |  0.3333333333333333 |\n",
       " | 121 financial credit union |   4    |        0.5         |  0.3333333333333333 |\n",
       " | 121 financial credit union |   5    |        0.4         |  0.3333333333333333 |\n",
       " | 121 financial credit union |   6    | 0.3333333333333333 |  0.3333333333333333 |\n",
       " | 121 financial credit union |   7    | 0.2857142857142857 |  0.3333333333333333 |\n",
       " | 121 financial credit union |   8    |       0.375        |         0.5         |\n",
       " | 121 financial credit union |   9    | 0.3333333333333333 |         0.5         |\n",
       " | 121 financial credit union |   10   |        0.3         |         0.5         |\n",
       " +----------------------------+--------+--------------------+---------------------+\n",
       " +-------+\n",
       " | count |\n",
       " +-------+\n",
       " |   6   |\n",
       " |   6   |\n",
       " |   6   |\n",
       " |   6   |\n",
       " |   6   |\n",
       " |   6   |\n",
       " |   6   |\n",
       " |   6   |\n",
       " |   6   |\n",
       " |   6   |\n",
       " +-------+\n",
       " [18000 rows x 5 columns]\n",
       " Note: Only the head of the SFrame is printed.\n",
       " You can use print_rows(num_rows=m, num_columns=n) to print more rows and columns.,\n",
       " 'precision_recall_overall': Columns:\n",
       " \tcutoff\tint\n",
       " \tprecision\tfloat\n",
       " \trecall\tfloat\n",
       " \n",
       " Rows: 18\n",
       " \n",
       " Data:\n",
       " +--------+---------------------+---------------------+\n",
       " | cutoff |      precision      |        recall       |\n",
       " +--------+---------------------+---------------------+\n",
       " |   1    |  0.1740000000000001 |  0.0798190476190477 |\n",
       " |   2    | 0.18249999999999994 | 0.24952142857142834 |\n",
       " |   3    | 0.16233333333333333 | 0.30997380952380943 |\n",
       " |   4    | 0.14999999999999997 | 0.36774047619047584 |\n",
       " |   5    | 0.14399999999999988 |  0.4693238095238092 |\n",
       " |   6    | 0.11999999999999987 |  0.4693238095238092 |\n",
       " |   7    | 0.11557142857142853 |  0.5416071428571428 |\n",
       " |   8    | 0.10787500000000007 |  0.5593928571428575 |\n",
       " |   9    |  0.1018888888888888 |  0.6005095238095237 |\n",
       " |   10   | 0.09169999999999993 |  0.6005095238095237 |\n",
       " +--------+---------------------+---------------------+\n",
       " [18 rows x 3 columns]\n",
       " Note: Only the head of the SFrame is printed.\n",
       " You can use print_rows(num_rows=m, num_columns=n) to print more rows and columns.,\n",
       " 'rmse_by_item': Columns:\n",
       " \tProduct_Family\tstr\n",
       " \tcount\tint\n",
       " \trmse\tfloat\n",
       " \n",
       " Rows: 42\n",
       " \n",
       " Data:\n",
       " +----------------+-------+--------------------+\n",
       " | Product_Family | count |        rmse        |\n",
       " +----------------+-------+--------------------+\n",
       " |    protect     |  191  | 34.91208940554059  |\n",
       " | patch manager  |  122  | 44.40831714997694  |\n",
       " |   patchlink    |   6   | 47.183361265355174 |\n",
       " |      sccm      |   2   | 46.63343832223994  |\n",
       " |      dsm       |   41  | 50.95076477796505  |\n",
       " | server manager |   5   | 48.383938552064016 |\n",
       " | managed planet |   24  | 47.18159921228152  |\n",
       " |    datanow     |   10  | 48.95865948185123  |\n",
       " | shavlik patch  |   89  | 44.33836811285856  |\n",
       " |   scupdates    |   7   | 48.126711615789915 |\n",
       " +----------------+-------+--------------------+\n",
       " [42 rows x 3 columns]\n",
       " Note: Only the head of the SFrame is printed.\n",
       " You can use print_rows(num_rows=m, num_columns=n) to print more rows and columns.,\n",
       " 'rmse_by_user': Columns:\n",
       " \tCustomer_Name\tstr\n",
       " \tcount\tint\n",
       " \trmse\tfloat\n",
       " \n",
       " Rows: 1000\n",
       " \n",
       " Data:\n",
       " +-----------------------------+-------+--------------------+\n",
       " |        Customer_Name        | count |        rmse        |\n",
       " +-----------------------------+-------+--------------------+\n",
       " |    steinhoff service gmbh   |   1   | 44.550319883519236 |\n",
       " |             atpc            |   1   | 41.23601171701533  |\n",
       " |  la county - superior court |   1   | 52.05384084909541  |\n",
       " | propex fabriks magyarorszag |   2   | 44.94126039607393  |\n",
       " |         bunsha/kiabi        |   1   | 35.91641638010127  |\n",
       " |     shearman & sterling     |   1   | 47.64239141672236  |\n",
       " |     port of los angeles     |   1   | 37.07275411813838  |\n",
       " |       scottish canals       |   1   | 45.05384084909541  |\n",
       " |    johns eastern company    |   1   | 33.07275411813838  |\n",
       " |            sefcu            |   1   | 47.00636312692744  |\n",
       " +-----------------------------+-------+--------------------+\n",
       " [1000 rows x 3 columns]\n",
       " Note: Only the head of the SFrame is printed.\n",
       " You can use print_rows(num_rows=m, num_columns=n) to print more rows and columns.,\n",
       " 'rmse_overall': 52.42981670284759}"
      ]
     },
     "execution_count": 134,
     "metadata": {},
     "output_type": "execute_result"
    }
   ],
   "source": [
    "ranking_factorization_model.evaluate(test)"
   ]
  },
  {
   "cell_type": "code",
   "execution_count": 146,
   "metadata": {},
   "outputs": [
    {
     "data": {
      "text/html": [
       "<div style=\"max-height:1000px;max-width:1500px;overflow:auto;\"><table frame=\"box\" rules=\"cols\">\n",
       "    <tr>\n",
       "        <th style=\"padding-left: 1em; padding-right: 1em; text-align: center\">Customer_Name</th>\n",
       "        <th style=\"padding-left: 1em; padding-right: 1em; text-align: center\">Product_Family</th>\n",
       "        <th style=\"padding-left: 1em; padding-right: 1em; text-align: center\">score</th>\n",
       "        <th style=\"padding-left: 1em; padding-right: 1em; text-align: center\">rank</th>\n",
       "    </tr>\n",
       "    <tr>\n",
       "        <td style=\"padding-left: 1em; padding-right: 1em; text-align: center; vertical-align: top\">labcorp</td>\n",
       "        <td style=\"padding-left: 1em; padding-right: 1em; text-align: center; vertical-align: top\">protect</td>\n",
       "        <td style=\"padding-left: 1em; padding-right: 1em; text-align: center; vertical-align: top\">0.7432290278512946</td>\n",
       "        <td style=\"padding-left: 1em; padding-right: 1em; text-align: center; vertical-align: top\">1</td>\n",
       "    </tr>\n",
       "    <tr>\n",
       "        <td style=\"padding-left: 1em; padding-right: 1em; text-align: center; vertical-align: top\">labcorp</td>\n",
       "        <td style=\"padding-left: 1em; padding-right: 1em; text-align: center; vertical-align: top\">res uem</td>\n",
       "        <td style=\"padding-left: 1em; padding-right: 1em; text-align: center; vertical-align: top\">0.5579525889340352</td>\n",
       "        <td style=\"padding-left: 1em; padding-right: 1em; text-align: center; vertical-align: top\">2</td>\n",
       "    </tr>\n",
       "    <tr>\n",
       "        <td style=\"padding-left: 1em; padding-right: 1em; text-align: center; vertical-align: top\">labcorp</td>\n",
       "        <td style=\"padding-left: 1em; padding-right: 1em; text-align: center; vertical-align: top\">shavlik patch</td>\n",
       "        <td style=\"padding-left: 1em; padding-right: 1em; text-align: center; vertical-align: top\">0.477814263902876</td>\n",
       "        <td style=\"padding-left: 1em; padding-right: 1em; text-align: center; vertical-align: top\">3</td>\n",
       "    </tr>\n",
       "    <tr>\n",
       "        <td style=\"padding-left: 1em; padding-right: 1em; text-align: center; vertical-align: top\">labcorp</td>\n",
       "        <td style=\"padding-left: 1em; padding-right: 1em; text-align: center; vertical-align: top\">desktopnow</td>\n",
       "        <td style=\"padding-left: 1em; padding-right: 1em; text-align: center; vertical-align: top\">0.4619537880050164</td>\n",
       "        <td style=\"padding-left: 1em; padding-right: 1em; text-align: center; vertical-align: top\">4</td>\n",
       "    </tr>\n",
       "    <tr>\n",
       "        <td style=\"padding-left: 1em; padding-right: 1em; text-align: center; vertical-align: top\">labcorp</td>\n",
       "        <td style=\"padding-left: 1em; padding-right: 1em; text-align: center; vertical-align: top\">patch manager</td>\n",
       "        <td style=\"padding-left: 1em; padding-right: 1em; text-align: center; vertical-align: top\">0.45793993392519305</td>\n",
       "        <td style=\"padding-left: 1em; padding-right: 1em; text-align: center; vertical-align: top\">5</td>\n",
       "    </tr>\n",
       "</table>\n",
       "[5 rows x 4 columns]<br/>\n",
       "</div>"
      ],
      "text/plain": [
       "Columns:\n",
       "\tCustomer_Name\tstr\n",
       "\tProduct_Family\tstr\n",
       "\tscore\tfloat\n",
       "\trank\tint\n",
       "\n",
       "Rows: 5\n",
       "\n",
       "Data:\n",
       "+---------------+----------------+---------------------+------+\n",
       "| Customer_Name | Product_Family |        score        | rank |\n",
       "+---------------+----------------+---------------------+------+\n",
       "|    labcorp    |    protect     |  0.7432290278512946 |  1   |\n",
       "|    labcorp    |    res uem     |  0.5579525889340352 |  2   |\n",
       "|    labcorp    | shavlik patch  |  0.477814263902876  |  3   |\n",
       "|    labcorp    |   desktopnow   |  0.4619537880050164 |  4   |\n",
       "|    labcorp    | patch manager  | 0.45793993392519305 |  5   |\n",
       "+---------------+----------------+---------------------+------+\n",
       "[5 rows x 4 columns]"
      ]
     },
     "execution_count": 146,
     "metadata": {},
     "output_type": "execute_result"
    }
   ],
   "source": [
    "ranking_factorization_model.recommend([\"labcorp\"],k=5)"
   ]
  },
  {
   "cell_type": "code",
   "execution_count": 147,
   "metadata": {},
   "outputs": [
    {
     "data": {
      "text/html": [
       "<div style=\"max-height:1000px;max-width:1500px;overflow:auto;\"><table frame=\"box\" rules=\"cols\">\n",
       "    <tr>\n",
       "        <th style=\"padding-left: 1em; padding-right: 1em; text-align: center\">Customer_Name</th>\n",
       "        <th style=\"padding-left: 1em; padding-right: 1em; text-align: center\">Product_Family</th>\n",
       "        <th style=\"padding-left: 1em; padding-right: 1em; text-align: center\">score</th>\n",
       "        <th style=\"padding-left: 1em; padding-right: 1em; text-align: center\">rank</th>\n",
       "    </tr>\n",
       "    <tr>\n",
       "        <td style=\"padding-left: 1em; padding-right: 1em; text-align: center; vertical-align: top\">labcorp</td>\n",
       "        <td style=\"padding-left: 1em; padding-right: 1em; text-align: center; vertical-align: top\">protect</td>\n",
       "        <td style=\"padding-left: 1em; padding-right: 1em; text-align: center; vertical-align: top\">0.7432290278512946</td>\n",
       "        <td style=\"padding-left: 1em; padding-right: 1em; text-align: center; vertical-align: top\">1</td>\n",
       "    </tr>\n",
       "    <tr>\n",
       "        <td style=\"padding-left: 1em; padding-right: 1em; text-align: center; vertical-align: top\">labcorp</td>\n",
       "        <td style=\"padding-left: 1em; padding-right: 1em; text-align: center; vertical-align: top\">res uem</td>\n",
       "        <td style=\"padding-left: 1em; padding-right: 1em; text-align: center; vertical-align: top\">0.5579525889340352</td>\n",
       "        <td style=\"padding-left: 1em; padding-right: 1em; text-align: center; vertical-align: top\">2</td>\n",
       "    </tr>\n",
       "    <tr>\n",
       "        <td style=\"padding-left: 1em; padding-right: 1em; text-align: center; vertical-align: top\">labcorp</td>\n",
       "        <td style=\"padding-left: 1em; padding-right: 1em; text-align: center; vertical-align: top\">shavlik patch</td>\n",
       "        <td style=\"padding-left: 1em; padding-right: 1em; text-align: center; vertical-align: top\">0.477814263902876</td>\n",
       "        <td style=\"padding-left: 1em; padding-right: 1em; text-align: center; vertical-align: top\">3</td>\n",
       "    </tr>\n",
       "    <tr>\n",
       "        <td style=\"padding-left: 1em; padding-right: 1em; text-align: center; vertical-align: top\">labcorp</td>\n",
       "        <td style=\"padding-left: 1em; padding-right: 1em; text-align: center; vertical-align: top\">desktopnow</td>\n",
       "        <td style=\"padding-left: 1em; padding-right: 1em; text-align: center; vertical-align: top\">0.4619537880050164</td>\n",
       "        <td style=\"padding-left: 1em; padding-right: 1em; text-align: center; vertical-align: top\">4</td>\n",
       "    </tr>\n",
       "    <tr>\n",
       "        <td style=\"padding-left: 1em; padding-right: 1em; text-align: center; vertical-align: top\">labcorp</td>\n",
       "        <td style=\"padding-left: 1em; padding-right: 1em; text-align: center; vertical-align: top\">patch manager</td>\n",
       "        <td style=\"padding-left: 1em; padding-right: 1em; text-align: center; vertical-align: top\">0.45793993392519305</td>\n",
       "        <td style=\"padding-left: 1em; padding-right: 1em; text-align: center; vertical-align: top\">5</td>\n",
       "    </tr>\n",
       "    <tr>\n",
       "        <td style=\"padding-left: 1em; padding-right: 1em; text-align: center; vertical-align: top\">labcorp</td>\n",
       "        <td style=\"padding-left: 1em; padding-right: 1em; text-align: center; vertical-align: top\">ldms</td>\n",
       "        <td style=\"padding-left: 1em; padding-right: 1em; text-align: center; vertical-align: top\">0.4512761000423464</td>\n",
       "        <td style=\"padding-left: 1em; padding-right: 1em; text-align: center; vertical-align: top\">6</td>\n",
       "    </tr>\n",
       "    <tr>\n",
       "        <td style=\"padding-left: 1em; padding-right: 1em; text-align: center; vertical-align: top\">labcorp</td>\n",
       "        <td style=\"padding-left: 1em; padding-right: 1em; text-align: center; vertical-align: top\">security suite</td>\n",
       "        <td style=\"padding-left: 1em; padding-right: 1em; text-align: center; vertical-align: top\">0.42081695269020286</td>\n",
       "        <td style=\"padding-left: 1em; padding-right: 1em; text-align: center; vertical-align: top\">7</td>\n",
       "    </tr>\n",
       "    <tr>\n",
       "        <td style=\"padding-left: 1em; padding-right: 1em; text-align: center; vertical-align: top\">labcorp</td>\n",
       "        <td style=\"padding-left: 1em; padding-right: 1em; text-align: center; vertical-align: top\">emss</td>\n",
       "        <td style=\"padding-left: 1em; padding-right: 1em; text-align: center; vertical-align: top\">0.41203415166026774</td>\n",
       "        <td style=\"padding-left: 1em; padding-right: 1em; text-align: center; vertical-align: top\">8</td>\n",
       "    </tr>\n",
       "    <tr>\n",
       "        <td style=\"padding-left: 1em; padding-right: 1em; text-align: center; vertical-align: top\">labcorp</td>\n",
       "        <td style=\"padding-left: 1em; padding-right: 1em; text-align: center; vertical-align: top\">dsm</td>\n",
       "        <td style=\"padding-left: 1em; padding-right: 1em; text-align: center; vertical-align: top\">0.4035170362062038</td>\n",
       "        <td style=\"padding-left: 1em; padding-right: 1em; text-align: center; vertical-align: top\">9</td>\n",
       "    </tr>\n",
       "    <tr>\n",
       "        <td style=\"padding-left: 1em; padding-right: 1em; text-align: center; vertical-align: top\">labcorp</td>\n",
       "        <td style=\"padding-left: 1em; padding-right: 1em; text-align: center; vertical-align: top\">res itsm</td>\n",
       "        <td style=\"padding-left: 1em; padding-right: 1em; text-align: center; vertical-align: top\">0.38147818048430554</td>\n",
       "        <td style=\"padding-left: 1em; padding-right: 1em; text-align: center; vertical-align: top\">10</td>\n",
       "    </tr>\n",
       "</table>\n",
       "[20 rows x 4 columns]<br/>Note: Only the head of the SFrame is printed.<br/>You can use print_rows(num_rows=m, num_columns=n) to print more rows and columns.\n",
       "</div>"
      ],
      "text/plain": [
       "Columns:\n",
       "\tCustomer_Name\tstr\n",
       "\tProduct_Family\tstr\n",
       "\tscore\tfloat\n",
       "\trank\tint\n",
       "\n",
       "Rows: 20\n",
       "\n",
       "Data:\n",
       "+---------------+----------------+---------------------+------+\n",
       "| Customer_Name | Product_Family |        score        | rank |\n",
       "+---------------+----------------+---------------------+------+\n",
       "|    labcorp    |    protect     |  0.7432290278512946 |  1   |\n",
       "|    labcorp    |    res uem     |  0.5579525889340352 |  2   |\n",
       "|    labcorp    | shavlik patch  |  0.477814263902876  |  3   |\n",
       "|    labcorp    |   desktopnow   |  0.4619537880050164 |  4   |\n",
       "|    labcorp    | patch manager  | 0.45793993392519305 |  5   |\n",
       "|    labcorp    |      ldms      |  0.4512761000423464 |  6   |\n",
       "|    labcorp    | security suite | 0.42081695269020286 |  7   |\n",
       "|    labcorp    |      emss      | 0.41203415166026774 |  8   |\n",
       "|    labcorp    |      dsm       |  0.4035170362062038 |  9   |\n",
       "|    labcorp    |    res itsm    | 0.38147818048430554 |  10  |\n",
       "+---------------+----------------+---------------------+------+\n",
       "[20 rows x 4 columns]\n",
       "Note: Only the head of the SFrame is printed.\n",
       "You can use print_rows(num_rows=m, num_columns=n) to print more rows and columns."
      ]
     },
     "execution_count": 147,
     "metadata": {},
     "output_type": "execute_result"
    }
   ],
   "source": [
    "ranking_factorization_model.recommend([\"labcorp\",\"new_customer\"],k=10)"
   ]
  },
  {
   "cell_type": "code",
   "execution_count": 149,
   "metadata": {},
   "outputs": [
    {
     "data": {
      "text/html": [
       "<div style=\"max-height:1000px;max-width:1500px;overflow:auto;\"><table frame=\"box\" rules=\"cols\">\n",
       "    <tr>\n",
       "        <th style=\"padding-left: 1em; padding-right: 1em; text-align: center\">Customer_Name</th>\n",
       "        <th style=\"padding-left: 1em; padding-right: 1em; text-align: center\">Product_Family</th>\n",
       "        <th style=\"padding-left: 1em; padding-right: 1em; text-align: center\">score</th>\n",
       "        <th style=\"padding-left: 1em; padding-right: 1em; text-align: center\">rank</th>\n",
       "    </tr>\n",
       "    <tr>\n",
       "        <td style=\"padding-left: 1em; padding-right: 1em; text-align: center; vertical-align: top\">labcorp</td>\n",
       "        <td style=\"padding-left: 1em; padding-right: 1em; text-align: center; vertical-align: top\">xtraction oem royalty</td>\n",
       "        <td style=\"padding-left: 1em; padding-right: 1em; text-align: center; vertical-align: top\">139.5</td>\n",
       "        <td style=\"padding-left: 1em; padding-right: 1em; text-align: center; vertical-align: top\">1</td>\n",
       "    </tr>\n",
       "    <tr>\n",
       "        <td style=\"padding-left: 1em; padding-right: 1em; text-align: center; vertical-align: top\">labcorp</td>\n",
       "        <td style=\"padding-left: 1em; padding-right: 1em; text-align: center; vertical-align: top\">ht oem</td>\n",
       "        <td style=\"padding-left: 1em; padding-right: 1em; text-align: center; vertical-align: top\">24.11764705882353</td>\n",
       "        <td style=\"padding-left: 1em; padding-right: 1em; text-align: center; vertical-align: top\">2</td>\n",
       "    </tr>\n",
       "    <tr>\n",
       "        <td style=\"padding-left: 1em; padding-right: 1em; text-align: center; vertical-align: top\">labcorp</td>\n",
       "        <td style=\"padding-left: 1em; padding-right: 1em; text-align: center; vertical-align: top\">shavlik oem royalties</td>\n",
       "        <td style=\"padding-left: 1em; padding-right: 1em; text-align: center; vertical-align: top\">23.916666666666668</td>\n",
       "        <td style=\"padding-left: 1em; padding-right: 1em; text-align: center; vertical-align: top\">3</td>\n",
       "    </tr>\n",
       "    <tr>\n",
       "        <td style=\"padding-left: 1em; padding-right: 1em; text-align: center; vertical-align: top\">labcorp</td>\n",
       "        <td style=\"padding-left: 1em; padding-right: 1em; text-align: center; vertical-align: top\">patch manager</td>\n",
       "        <td style=\"padding-left: 1em; padding-right: 1em; text-align: center; vertical-align: top\">11.826443202979515</td>\n",
       "        <td style=\"padding-left: 1em; padding-right: 1em; text-align: center; vertical-align: top\">4</td>\n",
       "    </tr>\n",
       "    <tr>\n",
       "        <td style=\"padding-left: 1em; padding-right: 1em; text-align: center; vertical-align: top\">labcorp</td>\n",
       "        <td style=\"padding-left: 1em; padding-right: 1em; text-align: center; vertical-align: top\">oem licenced royalties</td>\n",
       "        <td style=\"padding-left: 1em; padding-right: 1em; text-align: center; vertical-align: top\">8.125</td>\n",
       "        <td style=\"padding-left: 1em; padding-right: 1em; text-align: center; vertical-align: top\">5</td>\n",
       "    </tr>\n",
       "    <tr>\n",
       "        <td style=\"padding-left: 1em; padding-right: 1em; text-align: center; vertical-align: top\">new_customer</td>\n",
       "        <td style=\"padding-left: 1em; padding-right: 1em; text-align: center; vertical-align: top\">xtraction oem royalty</td>\n",
       "        <td style=\"padding-left: 1em; padding-right: 1em; text-align: center; vertical-align: top\">139.5</td>\n",
       "        <td style=\"padding-left: 1em; padding-right: 1em; text-align: center; vertical-align: top\">1</td>\n",
       "    </tr>\n",
       "    <tr>\n",
       "        <td style=\"padding-left: 1em; padding-right: 1em; text-align: center; vertical-align: top\">new_customer</td>\n",
       "        <td style=\"padding-left: 1em; padding-right: 1em; text-align: center; vertical-align: top\">ht oem</td>\n",
       "        <td style=\"padding-left: 1em; padding-right: 1em; text-align: center; vertical-align: top\">24.11764705882353</td>\n",
       "        <td style=\"padding-left: 1em; padding-right: 1em; text-align: center; vertical-align: top\">2</td>\n",
       "    </tr>\n",
       "    <tr>\n",
       "        <td style=\"padding-left: 1em; padding-right: 1em; text-align: center; vertical-align: top\">new_customer</td>\n",
       "        <td style=\"padding-left: 1em; padding-right: 1em; text-align: center; vertical-align: top\">shavlik oem royalties</td>\n",
       "        <td style=\"padding-left: 1em; padding-right: 1em; text-align: center; vertical-align: top\">23.916666666666668</td>\n",
       "        <td style=\"padding-left: 1em; padding-right: 1em; text-align: center; vertical-align: top\">3</td>\n",
       "    </tr>\n",
       "    <tr>\n",
       "        <td style=\"padding-left: 1em; padding-right: 1em; text-align: center; vertical-align: top\">new_customer</td>\n",
       "        <td style=\"padding-left: 1em; padding-right: 1em; text-align: center; vertical-align: top\">patch manager</td>\n",
       "        <td style=\"padding-left: 1em; padding-right: 1em; text-align: center; vertical-align: top\">11.826443202979515</td>\n",
       "        <td style=\"padding-left: 1em; padding-right: 1em; text-align: center; vertical-align: top\">4</td>\n",
       "    </tr>\n",
       "    <tr>\n",
       "        <td style=\"padding-left: 1em; padding-right: 1em; text-align: center; vertical-align: top\">new_customer</td>\n",
       "        <td style=\"padding-left: 1em; padding-right: 1em; text-align: center; vertical-align: top\">heat 2014 saas</td>\n",
       "        <td style=\"padding-left: 1em; padding-right: 1em; text-align: center; vertical-align: top\">11.041666666666666</td>\n",
       "        <td style=\"padding-left: 1em; padding-right: 1em; text-align: center; vertical-align: top\">5</td>\n",
       "    </tr>\n",
       "</table>\n",
       "[10 rows x 4 columns]<br/>\n",
       "</div>"
      ],
      "text/plain": [
       "Columns:\n",
       "\tCustomer_Name\tstr\n",
       "\tProduct_Family\tstr\n",
       "\tscore\tfloat\n",
       "\trank\tint\n",
       "\n",
       "Rows: 10\n",
       "\n",
       "Data:\n",
       "+---------------+------------------------+--------------------+------+\n",
       "| Customer_Name |     Product_Family     |       score        | rank |\n",
       "+---------------+------------------------+--------------------+------+\n",
       "|    labcorp    | xtraction oem royalty  |       139.5        |  1   |\n",
       "|    labcorp    |         ht oem         | 24.11764705882353  |  2   |\n",
       "|    labcorp    | shavlik oem royalties  | 23.916666666666668 |  3   |\n",
       "|    labcorp    |     patch manager      | 11.826443202979515 |  4   |\n",
       "|    labcorp    | oem licenced royalties |       8.125        |  5   |\n",
       "|  new_customer | xtraction oem royalty  |       139.5        |  1   |\n",
       "|  new_customer |         ht oem         | 24.11764705882353  |  2   |\n",
       "|  new_customer | shavlik oem royalties  | 23.916666666666668 |  3   |\n",
       "|  new_customer |     patch manager      | 11.826443202979515 |  4   |\n",
       "|  new_customer |     heat 2014 saas     | 11.041666666666666 |  5   |\n",
       "+---------------+------------------------+--------------------+------+\n",
       "[10 rows x 4 columns]"
      ]
     },
     "execution_count": 149,
     "metadata": {},
     "output_type": "execute_result"
    }
   ],
   "source": [
    "popularity_model.recommend([\"labcorp\",\"new_customer\"],k=5)"
   ]
  },
  {
   "cell_type": "code",
   "execution_count": 151,
   "metadata": {},
   "outputs": [
    {
     "data": {
      "text/html": [
       "<div style=\"max-height:1000px;max-width:1500px;overflow:auto;\"><table frame=\"box\" rules=\"cols\">\n",
       "    <tr>\n",
       "        <th style=\"padding-left: 1em; padding-right: 1em; text-align: center\">Product_Family</th>\n",
       "        <th style=\"padding-left: 1em; padding-right: 1em; text-align: center\">similar</th>\n",
       "        <th style=\"padding-left: 1em; padding-right: 1em; text-align: center\">score</th>\n",
       "        <th style=\"padding-left: 1em; padding-right: 1em; text-align: center\">rank</th>\n",
       "    </tr>\n",
       "    <tr>\n",
       "        <td style=\"padding-left: 1em; padding-right: 1em; text-align: center; vertical-align: top\">heat 2014 saas</td>\n",
       "        <td style=\"padding-left: 1em; padding-right: 1em; text-align: center; vertical-align: top\">application manager</td>\n",
       "        <td style=\"padding-left: 1em; padding-right: 1em; text-align: center; vertical-align: top\">0.29657989740371704</td>\n",
       "        <td style=\"padding-left: 1em; padding-right: 1em; text-align: center; vertical-align: top\">1</td>\n",
       "    </tr>\n",
       "    <tr>\n",
       "        <td style=\"padding-left: 1em; padding-right: 1em; text-align: center; vertical-align: top\">heat 2014 saas</td>\n",
       "        <td style=\"padding-left: 1em; padding-right: 1em; text-align: center; vertical-align: top\">itsm core</td>\n",
       "        <td style=\"padding-left: 1em; padding-right: 1em; text-align: center; vertical-align: top\">0.25994887948036194</td>\n",
       "        <td style=\"padding-left: 1em; padding-right: 1em; text-align: center; vertical-align: top\">2</td>\n",
       "    </tr>\n",
       "    <tr>\n",
       "        <td style=\"padding-left: 1em; padding-right: 1em; text-align: center; vertical-align: top\">heat 2014 saas</td>\n",
       "        <td style=\"padding-left: 1em; padding-right: 1em; text-align: center; vertical-align: top\">uem other</td>\n",
       "        <td style=\"padding-left: 1em; padding-right: 1em; text-align: center; vertical-align: top\">0.21784672141075134</td>\n",
       "        <td style=\"padding-left: 1em; padding-right: 1em; text-align: center; vertical-align: top\">3</td>\n",
       "    </tr>\n",
       "    <tr>\n",
       "        <td style=\"padding-left: 1em; padding-right: 1em; text-align: center; vertical-align: top\">heat 2014 saas</td>\n",
       "        <td style=\"padding-left: 1em; padding-right: 1em; text-align: center; vertical-align: top\">performance manager</td>\n",
       "        <td style=\"padding-left: 1em; padding-right: 1em; text-align: center; vertical-align: top\">0.20229122042655945</td>\n",
       "        <td style=\"padding-left: 1em; padding-right: 1em; text-align: center; vertical-align: top\">4</td>\n",
       "    </tr>\n",
       "    <tr>\n",
       "        <td style=\"padding-left: 1em; padding-right: 1em; text-align: center; vertical-align: top\">heat 2014 saas</td>\n",
       "        <td style=\"padding-left: 1em; padding-right: 1em; text-align: center; vertical-align: top\">letmobile</td>\n",
       "        <td style=\"padding-left: 1em; padding-right: 1em; text-align: center; vertical-align: top\">0.19157257676124573</td>\n",
       "        <td style=\"padding-left: 1em; padding-right: 1em; text-align: center; vertical-align: top\">5</td>\n",
       "    </tr>\n",
       "</table>\n",
       "[5 rows x 4 columns]<br/>\n",
       "</div>"
      ],
      "text/plain": [
       "Columns:\n",
       "\tProduct_Family\tstr\n",
       "\tsimilar\tstr\n",
       "\tscore\tfloat\n",
       "\trank\tint\n",
       "\n",
       "Rows: 5\n",
       "\n",
       "Data:\n",
       "+----------------+---------------------+---------------------+------+\n",
       "| Product_Family |       similar       |        score        | rank |\n",
       "+----------------+---------------------+---------------------+------+\n",
       "| heat 2014 saas | application manager | 0.29657989740371704 |  1   |\n",
       "| heat 2014 saas |      itsm core      | 0.25994887948036194 |  2   |\n",
       "| heat 2014 saas |      uem other      | 0.21784672141075134 |  3   |\n",
       "| heat 2014 saas | performance manager | 0.20229122042655945 |  4   |\n",
       "| heat 2014 saas |      letmobile      | 0.19157257676124573 |  5   |\n",
       "+----------------+---------------------+---------------------+------+\n",
       "[5 rows x 4 columns]"
      ]
     },
     "execution_count": 151,
     "metadata": {},
     "output_type": "execute_result"
    }
   ],
   "source": [
    "ranking_factorization_model.get_similar_items([\"heat 2014 saas\"],k=5)"
   ]
  },
  {
   "cell_type": "code",
   "execution_count": 152,
   "metadata": {},
   "outputs": [
    {
     "data": {
      "text/html": [
       "<pre>Getting similar users completed in 0.002086</pre>"
      ],
      "text/plain": [
       "Getting similar users completed in 0.002086"
      ]
     },
     "metadata": {},
     "output_type": "display_data"
    },
    {
     "data": {
      "text/html": [
       "<div style=\"max-height:1000px;max-width:1500px;overflow:auto;\"><table frame=\"box\" rules=\"cols\">\n",
       "    <tr>\n",
       "        <th style=\"padding-left: 1em; padding-right: 1em; text-align: center\">Customer_Name</th>\n",
       "        <th style=\"padding-left: 1em; padding-right: 1em; text-align: center\">similar</th>\n",
       "        <th style=\"padding-left: 1em; padding-right: 1em; text-align: center\">score</th>\n",
       "        <th style=\"padding-left: 1em; padding-right: 1em; text-align: center\">rank</th>\n",
       "    </tr>\n",
       "    <tr>\n",
       "        <td style=\"padding-left: 1em; padding-right: 1em; text-align: center; vertical-align: top\">labcorp</td>\n",
       "        <td style=\"padding-left: 1em; padding-right: 1em; text-align: center; vertical-align: top\"> interceramic</td>\n",
       "        <td style=\"padding-left: 1em; padding-right: 1em; text-align: center; vertical-align: top\">1.0</td>\n",
       "        <td style=\"padding-left: 1em; padding-right: 1em; text-align: center; vertical-align: top\">1</td>\n",
       "    </tr>\n",
       "    <tr>\n",
       "        <td style=\"padding-left: 1em; padding-right: 1em; text-align: center; vertical-align: top\">labcorp</td>\n",
       "        <td style=\"padding-left: 1em; padding-right: 1em; text-align: center; vertical-align: top\"> movitex</td>\n",
       "        <td style=\"padding-left: 1em; padding-right: 1em; text-align: center; vertical-align: top\">1.0</td>\n",
       "        <td style=\"padding-left: 1em; padding-right: 1em; text-align: center; vertical-align: top\">2</td>\n",
       "    </tr>\n",
       "    <tr>\n",
       "        <td style=\"padding-left: 1em; padding-right: 1em; text-align: center; vertical-align: top\">labcorp</td>\n",
       "        <td style=\"padding-left: 1em; padding-right: 1em; text-align: center; vertical-align: top\">landessportbund<br>niedersachsen e. v. ...</td>\n",
       "        <td style=\"padding-left: 1em; padding-right: 1em; text-align: center; vertical-align: top\">1.0</td>\n",
       "        <td style=\"padding-left: 1em; padding-right: 1em; text-align: center; vertical-align: top\">3</td>\n",
       "    </tr>\n",
       "    <tr>\n",
       "        <td style=\"padding-left: 1em; padding-right: 1em; text-align: center; vertical-align: top\">labcorp</td>\n",
       "        <td style=\"padding-left: 1em; padding-right: 1em; text-align: center; vertical-align: top\">##(##)############</td>\n",
       "        <td style=\"padding-left: 1em; padding-right: 1em; text-align: center; vertical-align: top\">1.0</td>\n",
       "        <td style=\"padding-left: 1em; padding-right: 1em; text-align: center; vertical-align: top\">4</td>\n",
       "    </tr>\n",
       "    <tr>\n",
       "        <td style=\"padding-left: 1em; padding-right: 1em; text-align: center; vertical-align: top\">labcorp</td>\n",
       "        <td style=\"padding-left: 1em; padding-right: 1em; text-align: center; vertical-align: top\">landesklinikum<br>thermenregion ...</td>\n",
       "        <td style=\"padding-left: 1em; padding-right: 1em; text-align: center; vertical-align: top\">1.0</td>\n",
       "        <td style=\"padding-left: 1em; padding-right: 1em; text-align: center; vertical-align: top\">5</td>\n",
       "    </tr>\n",
       "    <tr>\n",
       "        <td style=\"padding-left: 1em; padding-right: 1em; text-align: center; vertical-align: top\">labcorp</td>\n",
       "        <td style=\"padding-left: 1em; padding-right: 1em; text-align: center; vertical-align: top\">&#x27;s heeren loo</td>\n",
       "        <td style=\"padding-left: 1em; padding-right: 1em; text-align: center; vertical-align: top\">1.0</td>\n",
       "        <td style=\"padding-left: 1em; padding-right: 1em; text-align: center; vertical-align: top\">6</td>\n",
       "    </tr>\n",
       "    <tr>\n",
       "        <td style=\"padding-left: 1em; padding-right: 1em; text-align: center; vertical-align: top\">labcorp</td>\n",
       "        <td style=\"padding-left: 1em; padding-right: 1em; text-align: center; vertical-align: top\">&#x27;t sit</td>\n",
       "        <td style=\"padding-left: 1em; padding-right: 1em; text-align: center; vertical-align: top\">1.0</td>\n",
       "        <td style=\"padding-left: 1em; padding-right: 1em; text-align: center; vertical-align: top\">7</td>\n",
       "    </tr>\n",
       "    <tr>\n",
       "        <td style=\"padding-left: 1em; padding-right: 1em; text-align: center; vertical-align: top\">labcorp</td>\n",
       "        <td style=\"padding-left: 1em; padding-right: 1em; text-align: center; vertical-align: top\">(bet365) hillside (new<br>media) ltd ...</td>\n",
       "        <td style=\"padding-left: 1em; padding-right: 1em; text-align: center; vertical-align: top\">1.0</td>\n",
       "        <td style=\"padding-left: 1em; padding-right: 1em; text-align: center; vertical-align: top\">8</td>\n",
       "    </tr>\n",
       "    <tr>\n",
       "        <td style=\"padding-left: 1em; padding-right: 1em; text-align: center; vertical-align: top\">labcorp</td>\n",
       "        <td style=\"padding-left: 1em; padding-right: 1em; text-align: center; vertical-align: top\">landesk software<br>corporation ...</td>\n",
       "        <td style=\"padding-left: 1em; padding-right: 1em; text-align: center; vertical-align: top\">1.0</td>\n",
       "        <td style=\"padding-left: 1em; padding-right: 1em; text-align: center; vertical-align: top\">9</td>\n",
       "    </tr>\n",
       "    <tr>\n",
       "        <td style=\"padding-left: 1em; padding-right: 1em; text-align: center; vertical-align: top\">labcorp</td>\n",
       "        <td style=\"padding-left: 1em; padding-right: 1em; text-align: center; vertical-align: top\">landeshauptstadt<br>stuttgart ...</td>\n",
       "        <td style=\"padding-left: 1em; padding-right: 1em; text-align: center; vertical-align: top\">1.0</td>\n",
       "        <td style=\"padding-left: 1em; padding-right: 1em; text-align: center; vertical-align: top\">10</td>\n",
       "    </tr>\n",
       "</table>\n",
       "[10 rows x 4 columns]<br/>\n",
       "</div>"
      ],
      "text/plain": [
       "Columns:\n",
       "\tCustomer_Name\tstr\n",
       "\tsimilar\tstr\n",
       "\tscore\tfloat\n",
       "\trank\tint\n",
       "\n",
       "Rows: 10\n",
       "\n",
       "Data:\n",
       "+---------------+-------------------------------+-------+------+\n",
       "| Customer_Name |            similar            | score | rank |\n",
       "+---------------+-------------------------------+-------+------+\n",
       "|    labcorp    |          interceramic         |  1.0  |  1   |\n",
       "|    labcorp    |             movitex           |  1.0  |  2   |\n",
       "|    labcorp    | landessportbund niedersach... |  1.0  |  3   |\n",
       "|    labcorp    |       ##(##)############      |  1.0  |  4   |\n",
       "|    labcorp    |  landesklinikum thermenregion |  1.0  |  5   |\n",
       "|    labcorp    |         's heeren loo         |  1.0  |  6   |\n",
       "|    labcorp    |             't sit            |  1.0  |  7   |\n",
       "|    labcorp    | (bet365) hillside (new med... |  1.0  |  8   |\n",
       "|    labcorp    |  landesk software corporation |  1.0  |  9   |\n",
       "|    labcorp    |   landeshauptstadt stuttgart  |  1.0  |  10  |\n",
       "+---------------+-------------------------------+-------+------+\n",
       "[10 rows x 4 columns]"
      ]
     },
     "execution_count": 152,
     "metadata": {},
     "output_type": "execute_result"
    }
   ],
   "source": [
    "popularity_model.get_similar_users([\"labcorp\"],k=10)"
   ]
  },
  {
   "cell_type": "code",
   "execution_count": 15,
   "metadata": {},
   "outputs": [
    {
     "data": {
      "text/html": [
       "<pre>Recsys training: model = ranking_factorization_recommender</pre>"
      ],
      "text/plain": [
       "Recsys training: model = ranking_factorization_recommender"
      ]
     },
     "metadata": {},
     "output_type": "display_data"
    },
    {
     "data": {
      "text/html": [
       "<pre>Preparing data set.</pre>"
      ],
      "text/plain": [
       "Preparing data set."
      ]
     },
     "metadata": {},
     "output_type": "display_data"
    },
    {
     "data": {
      "text/html": [
       "<pre>    Data has 32406 observations with 20762 users and 47 items.</pre>"
      ],
      "text/plain": [
       "    Data has 32406 observations with 20762 users and 47 items."
      ]
     },
     "metadata": {},
     "output_type": "display_data"
    },
    {
     "data": {
      "text/html": [
       "<pre>    Data prepared in: 0.061671s</pre>"
      ],
      "text/plain": [
       "    Data prepared in: 0.061671s"
      ]
     },
     "metadata": {},
     "output_type": "display_data"
    },
    {
     "data": {
      "text/html": [
       "<pre>Training ranking_factorization_recommender for recommendations.</pre>"
      ],
      "text/plain": [
       "Training ranking_factorization_recommender for recommendations."
      ]
     },
     "metadata": {},
     "output_type": "display_data"
    },
    {
     "data": {
      "text/html": [
       "<pre>+--------------------------------+--------------------------------------------------+----------+</pre>"
      ],
      "text/plain": [
       "+--------------------------------+--------------------------------------------------+----------+"
      ]
     },
     "metadata": {},
     "output_type": "display_data"
    },
    {
     "data": {
      "text/html": [
       "<pre>| Parameter                      | Description                                      | Value    |</pre>"
      ],
      "text/plain": [
       "| Parameter                      | Description                                      | Value    |"
      ]
     },
     "metadata": {},
     "output_type": "display_data"
    },
    {
     "data": {
      "text/html": [
       "<pre>+--------------------------------+--------------------------------------------------+----------+</pre>"
      ],
      "text/plain": [
       "+--------------------------------+--------------------------------------------------+----------+"
      ]
     },
     "metadata": {},
     "output_type": "display_data"
    },
    {
     "data": {
      "text/html": [
       "<pre>| num_factors                    | Factor Dimension                                 | 47       |</pre>"
      ],
      "text/plain": [
       "| num_factors                    | Factor Dimension                                 | 47       |"
      ]
     },
     "metadata": {},
     "output_type": "display_data"
    },
    {
     "data": {
      "text/html": [
       "<pre>| regularization                 | L2 Regularization on Factors                     | 0.0001   |</pre>"
      ],
      "text/plain": [
       "| regularization                 | L2 Regularization on Factors                     | 0.0001   |"
      ]
     },
     "metadata": {},
     "output_type": "display_data"
    },
    {
     "data": {
      "text/html": [
       "<pre>| solver                         | Solver used for training                         | adagrad  |</pre>"
      ],
      "text/plain": [
       "| solver                         | Solver used for training                         | adagrad  |"
      ]
     },
     "metadata": {},
     "output_type": "display_data"
    },
    {
     "data": {
      "text/html": [
       "<pre>| linear_regularization          | L2 Regularization on Linear Coefficients         | 1e-09    |</pre>"
      ],
      "text/plain": [
       "| linear_regularization          | L2 Regularization on Linear Coefficients         | 1e-09    |"
      ]
     },
     "metadata": {},
     "output_type": "display_data"
    },
    {
     "data": {
      "text/html": [
       "<pre>| binary_target                  | Assume Binary Targets                            | True     |</pre>"
      ],
      "text/plain": [
       "| binary_target                  | Assume Binary Targets                            | True     |"
      ]
     },
     "metadata": {},
     "output_type": "display_data"
    },
    {
     "data": {
      "text/html": [
       "<pre>| max_iterations                 | Maximum Number of Iterations                     | 25       |</pre>"
      ],
      "text/plain": [
       "| max_iterations                 | Maximum Number of Iterations                     | 25       |"
      ]
     },
     "metadata": {},
     "output_type": "display_data"
    },
    {
     "data": {
      "text/html": [
       "<pre>+--------------------------------+--------------------------------------------------+----------+</pre>"
      ],
      "text/plain": [
       "+--------------------------------+--------------------------------------------------+----------+"
      ]
     },
     "metadata": {},
     "output_type": "display_data"
    },
    {
     "data": {
      "text/html": [
       "<pre>  Optimizing model using SGD; tuning step size.</pre>"
      ],
      "text/plain": [
       "  Optimizing model using SGD; tuning step size."
      ]
     },
     "metadata": {},
     "output_type": "display_data"
    },
    {
     "data": {
      "text/html": [
       "<pre>  Using 10000 / 32406 points for tuning the step size.</pre>"
      ],
      "text/plain": [
       "  Using 10000 / 32406 points for tuning the step size."
      ]
     },
     "metadata": {},
     "output_type": "display_data"
    },
    {
     "data": {
      "text/html": [
       "<pre>+---------+-------------------+------------------------------------------+</pre>"
      ],
      "text/plain": [
       "+---------+-------------------+------------------------------------------+"
      ]
     },
     "metadata": {},
     "output_type": "display_data"
    },
    {
     "data": {
      "text/html": [
       "<pre>| Attempt | Initial Step Size | Estimated Objective Value                |</pre>"
      ],
      "text/plain": [
       "| Attempt | Initial Step Size | Estimated Objective Value                |"
      ]
     },
     "metadata": {},
     "output_type": "display_data"
    },
    {
     "data": {
      "text/html": [
       "<pre>+---------+-------------------+------------------------------------------+</pre>"
      ],
      "text/plain": [
       "+---------+-------------------+------------------------------------------+"
      ]
     },
     "metadata": {},
     "output_type": "display_data"
    },
    {
     "data": {
      "text/html": [
       "<pre>| 0       | 16.6667           | Not Viable                               |</pre>"
      ],
      "text/plain": [
       "| 0       | 16.6667           | Not Viable                               |"
      ]
     },
     "metadata": {},
     "output_type": "display_data"
    },
    {
     "data": {
      "text/html": [
       "<pre>| 1       | 4.16667           | Not Viable                               |</pre>"
      ],
      "text/plain": [
       "| 1       | 4.16667           | Not Viable                               |"
      ]
     },
     "metadata": {},
     "output_type": "display_data"
    },
    {
     "data": {
      "text/html": [
       "<pre>| 2       | 1.04167           | Not Viable                               |</pre>"
      ],
      "text/plain": [
       "| 2       | 1.04167           | Not Viable                               |"
      ]
     },
     "metadata": {},
     "output_type": "display_data"
    },
    {
     "data": {
      "text/html": [
       "<pre>| 3       | 0.260417          | Not Viable                               |</pre>"
      ],
      "text/plain": [
       "| 3       | 0.260417          | Not Viable                               |"
      ]
     },
     "metadata": {},
     "output_type": "display_data"
    },
    {
     "data": {
      "text/html": [
       "<pre>| 4       | 0.0651042         | 1.24426                                  |</pre>"
      ],
      "text/plain": [
       "| 4       | 0.0651042         | 1.24426                                  |"
      ]
     },
     "metadata": {},
     "output_type": "display_data"
    },
    {
     "data": {
      "text/html": [
       "<pre>| 5       | 0.0325521         | 1.37868                                  |</pre>"
      ],
      "text/plain": [
       "| 5       | 0.0325521         | 1.37868                                  |"
      ]
     },
     "metadata": {},
     "output_type": "display_data"
    },
    {
     "data": {
      "text/html": [
       "<pre>| 6       | 0.016276          | 1.33005                                  |</pre>"
      ],
      "text/plain": [
       "| 6       | 0.016276          | 1.33005                                  |"
      ]
     },
     "metadata": {},
     "output_type": "display_data"
    },
    {
     "data": {
      "text/html": [
       "<pre>| 7       | 0.00813802        | 1.35008                                  |</pre>"
      ],
      "text/plain": [
       "| 7       | 0.00813802        | 1.35008                                  |"
      ]
     },
     "metadata": {},
     "output_type": "display_data"
    },
    {
     "data": {
      "text/html": [
       "<pre>+---------+-------------------+------------------------------------------+</pre>"
      ],
      "text/plain": [
       "+---------+-------------------+------------------------------------------+"
      ]
     },
     "metadata": {},
     "output_type": "display_data"
    },
    {
     "data": {
      "text/html": [
       "<pre>| Final   | 0.0651042         | 1.24426                                  |</pre>"
      ],
      "text/plain": [
       "| Final   | 0.0651042         | 1.24426                                  |"
      ]
     },
     "metadata": {},
     "output_type": "display_data"
    },
    {
     "data": {
      "text/html": [
       "<pre>+---------+-------------------+------------------------------------------+</pre>"
      ],
      "text/plain": [
       "+---------+-------------------+------------------------------------------+"
      ]
     },
     "metadata": {},
     "output_type": "display_data"
    },
    {
     "data": {
      "text/html": [
       "<pre>Starting Optimization.</pre>"
      ],
      "text/plain": [
       "Starting Optimization."
      ]
     },
     "metadata": {},
     "output_type": "display_data"
    },
    {
     "data": {
      "text/html": [
       "<pre>+---------+--------------+-------------------+-----------------------------------+-------------+</pre>"
      ],
      "text/plain": [
       "+---------+--------------+-------------------+-----------------------------------+-------------+"
      ]
     },
     "metadata": {},
     "output_type": "display_data"
    },
    {
     "data": {
      "text/html": [
       "<pre>| Iter.   | Elapsed Time | Approx. Objective | Approx. Training Predictive Error | Step Size   |</pre>"
      ],
      "text/plain": [
       "| Iter.   | Elapsed Time | Approx. Objective | Approx. Training Predictive Error | Step Size   |"
      ]
     },
     "metadata": {},
     "output_type": "display_data"
    },
    {
     "data": {
      "text/html": [
       "<pre>+---------+--------------+-------------------+-----------------------------------+-------------+</pre>"
      ],
      "text/plain": [
       "+---------+--------------+-------------------+-----------------------------------+-------------+"
      ]
     },
     "metadata": {},
     "output_type": "display_data"
    },
    {
     "data": {
      "text/html": [
       "<pre>| Initial | 136us        | 1.38642           | 0.693106                          |             |</pre>"
      ],
      "text/plain": [
       "| Initial | 136us        | 1.38642           | 0.693106                          |             |"
      ]
     },
     "metadata": {},
     "output_type": "display_data"
    },
    {
     "data": {
      "text/html": [
       "<pre>+---------+--------------+-------------------+-----------------------------------+-------------+</pre>"
      ],
      "text/plain": [
       "+---------+--------------+-------------------+-----------------------------------+-------------+"
      ]
     },
     "metadata": {},
     "output_type": "display_data"
    },
    {
     "data": {
      "text/html": [
       "<pre>| 1       | 83.127ms     | 2.07035           | 0.743829                          | 0.0651042   |</pre>"
      ],
      "text/plain": [
       "| 1       | 83.127ms     | 2.07035           | 0.743829                          | 0.0651042   |"
      ]
     },
     "metadata": {},
     "output_type": "display_data"
    },
    {
     "data": {
      "text/html": [
       "<pre>| 2       | 197.815ms    | 1.83647           | 0.647758                          | 0.0651042   |</pre>"
      ],
      "text/plain": [
       "| 2       | 197.815ms    | 1.83647           | 0.647758                          | 0.0651042   |"
      ]
     },
     "metadata": {},
     "output_type": "display_data"
    },
    {
     "data": {
      "text/html": [
       "<pre>| 3       | 311.812ms    | 1.69972           | 0.610277                          | 0.0651042   |</pre>"
      ],
      "text/plain": [
       "| 3       | 311.812ms    | 1.69972           | 0.610277                          | 0.0651042   |"
      ]
     },
     "metadata": {},
     "output_type": "display_data"
    },
    {
     "data": {
      "text/html": [
       "<pre>| 4       | 411.735ms    | 1.62501           | 0.567215                          | 0.0651042   |</pre>"
      ],
      "text/plain": [
       "| 4       | 411.735ms    | 1.62501           | 0.567215                          | 0.0651042   |"
      ]
     },
     "metadata": {},
     "output_type": "display_data"
    },
    {
     "data": {
      "text/html": [
       "<pre>| 5       | 504.63ms     | 1.5706            | 0.544701                          | 0.0651042   |</pre>"
      ],
      "text/plain": [
       "| 5       | 504.63ms     | 1.5706            | 0.544701                          | 0.0651042   |"
      ]
     },
     "metadata": {},
     "output_type": "display_data"
    },
    {
     "data": {
      "text/html": [
       "<pre>| 6       | 588.576ms    | 1.51973           | 0.511977                          | 0.0651042   |</pre>"
      ],
      "text/plain": [
       "| 6       | 588.576ms    | 1.51973           | 0.511977                          | 0.0651042   |"
      ]
     },
     "metadata": {},
     "output_type": "display_data"
    },
    {
     "data": {
      "text/html": [
       "<pre>| 10      | 925.894ms    | 1.41202           | 0.462085                          | 0.0651042   |</pre>"
      ],
      "text/plain": [
       "| 10      | 925.894ms    | 1.41202           | 0.462085                          | 0.0651042   |"
      ]
     },
     "metadata": {},
     "output_type": "display_data"
    },
    {
     "data": {
      "text/html": [
       "<pre>| 11      | 1.02s        | 1.39447           | 0.449657                          | 0.0651042   |</pre>"
      ],
      "text/plain": [
       "| 11      | 1.02s        | 1.39447           | 0.449657                          | 0.0651042   |"
      ]
     },
     "metadata": {},
     "output_type": "display_data"
    },
    {
     "data": {
      "text/html": [
       "<pre>| 20      | 1.73s        | 1.25955           | 0.381108                          | 0.0651042   |</pre>"
      ],
      "text/plain": [
       "| 20      | 1.73s        | 1.25955           | 0.381108                          | 0.0651042   |"
      ]
     },
     "metadata": {},
     "output_type": "display_data"
    },
    {
     "data": {
      "text/html": [
       "<pre>+---------+--------------+-------------------+-----------------------------------+-------------+</pre>"
      ],
      "text/plain": [
       "+---------+--------------+-------------------+-----------------------------------+-------------+"
      ]
     },
     "metadata": {},
     "output_type": "display_data"
    },
    {
     "data": {
      "text/html": [
       "<pre>Optimization Complete: Maximum number of passes through the data reached.</pre>"
      ],
      "text/plain": [
       "Optimization Complete: Maximum number of passes through the data reached."
      ]
     },
     "metadata": {},
     "output_type": "display_data"
    },
    {
     "data": {
      "text/html": [
       "<pre>Computing final objective value and training Predictive Error.</pre>"
      ],
      "text/plain": [
       "Computing final objective value and training Predictive Error."
      ]
     },
     "metadata": {},
     "output_type": "display_data"
    },
    {
     "data": {
      "text/html": [
       "<pre>       Final objective value: 1.20159</pre>"
      ],
      "text/plain": [
       "       Final objective value: 1.20159"
      ]
     },
     "metadata": {},
     "output_type": "display_data"
    },
    {
     "data": {
      "text/html": [
       "<pre>       Final training Predictive Error: 0.350257</pre>"
      ],
      "text/plain": [
       "       Final training Predictive Error: 0.350257"
      ]
     },
     "metadata": {},
     "output_type": "display_data"
    },
    {
     "data": {
      "text/html": [
       "<pre>recommendations finished on 1000/1000 queries. users per second: 53559</pre>"
      ],
      "text/plain": [
       "recommendations finished on 1000/1000 queries. users per second: 53559"
      ]
     },
     "metadata": {},
     "output_type": "display_data"
    },
    {
     "name": "stderr",
     "output_type": "stream",
     "text": [
      "WARNING:root:Model trained without a target. Skipping RMSE computation.\n"
     ]
    },
    {
     "name": "stdout",
     "output_type": "stream",
     "text": [
      "\n",
      "Precision and recall summary statistics by cutoff\n",
      "+--------+---------------------+---------------------+\n",
      "| cutoff |     mean_recall     |    mean_precision   |\n",
      "+--------+---------------------+---------------------+\n",
      "|   1    |  0.169702380952381  | 0.19100000000000011 |\n",
      "|   2    | 0.24952142857142828 |  0.1825000000000001 |\n",
      "|   3    | 0.30997380952380976 | 0.16233333333333352 |\n",
      "|   4    |  0.367740476190476  | 0.15000000000000005 |\n",
      "|   5    |  0.4693238095238095 |  0.1440000000000001 |\n",
      "|   6    |  0.515607142857143  | 0.12916666666666662 |\n",
      "|   7    |  0.5567238095238106 | 0.11842857142857142 |\n",
      "|   8    |  0.5879500000000004 |       0.10875       |\n",
      "|   9    |  0.6602333333333333 | 0.10655555555555554 |\n",
      "|   10   |  0.676883333333334  | 0.10010000000000006 |\n",
      "+--------+---------------------+---------------------+\n",
      "[10 rows x 3 columns]\n",
      "\n"
     ]
    },
    {
     "data": {
      "text/plain": [
       "{'precision_recall_by_user': Columns:\n",
       " \tCustomer_Name\tstr\n",
       " \tcutoff\tint\n",
       " \tprecision\tfloat\n",
       " \trecall\tfloat\n",
       " \tcount\tint\n",
       " \n",
       " Rows: 18000\n",
       " \n",
       " Data:\n",
       " +----------------------------+--------+--------------------+---------------------+\n",
       " |       Customer_Name        | cutoff |     precision      |        recall       |\n",
       " +----------------------------+--------+--------------------+---------------------+\n",
       " | 121 financial credit union |   1    |        0.0         |         0.0         |\n",
       " | 121 financial credit union |   2    |        0.5         | 0.16666666666666666 |\n",
       " | 121 financial credit union |   3    | 0.6666666666666666 |  0.3333333333333333 |\n",
       " | 121 financial credit union |   4    |        0.5         |  0.3333333333333333 |\n",
       " | 121 financial credit union |   5    |        0.4         |  0.3333333333333333 |\n",
       " | 121 financial credit union |   6    | 0.3333333333333333 |  0.3333333333333333 |\n",
       " | 121 financial credit union |   7    | 0.2857142857142857 |  0.3333333333333333 |\n",
       " | 121 financial credit union |   8    |        0.25        |  0.3333333333333333 |\n",
       " | 121 financial credit union |   9    | 0.2222222222222222 |  0.3333333333333333 |\n",
       " | 121 financial credit union |   10   |        0.2         |  0.3333333333333333 |\n",
       " +----------------------------+--------+--------------------+---------------------+\n",
       " +-------+\n",
       " | count |\n",
       " +-------+\n",
       " |   6   |\n",
       " |   6   |\n",
       " |   6   |\n",
       " |   6   |\n",
       " |   6   |\n",
       " |   6   |\n",
       " |   6   |\n",
       " |   6   |\n",
       " |   6   |\n",
       " |   6   |\n",
       " +-------+\n",
       " [18000 rows x 5 columns]\n",
       " Note: Only the head of the SFrame is printed.\n",
       " You can use print_rows(num_rows=m, num_columns=n) to print more rows and columns.,\n",
       " 'precision_recall_overall': Columns:\n",
       " \tcutoff\tint\n",
       " \tprecision\tfloat\n",
       " \trecall\tfloat\n",
       " \n",
       " Rows: 18\n",
       " \n",
       " Data:\n",
       " +--------+---------------------+---------------------+\n",
       " | cutoff |      precision      |        recall       |\n",
       " +--------+---------------------+---------------------+\n",
       " |   1    | 0.19100000000000034 | 0.16970238095238088 |\n",
       " |   2    |  0.1825000000000003 |  0.2495214285714285 |\n",
       " |   3    | 0.16233333333333338 | 0.30997380952380965 |\n",
       " |   4    | 0.15000000000000013 |  0.3677404761904759 |\n",
       " |   5    |        0.144        | 0.46932380952380987 |\n",
       " |   6    | 0.12916666666666676 |  0.5156071428571434 |\n",
       " |   7    | 0.11842857142857141 |  0.5567238095238095 |\n",
       " |   8    | 0.10874999999999997 |  0.5879499999999995 |\n",
       " |   9    | 0.10655555555555558 |  0.6602333333333332 |\n",
       " |   10   | 0.10009999999999991 |  0.6768833333333336 |\n",
       " +--------+---------------------+---------------------+\n",
       " [18 rows x 3 columns]\n",
       " Note: Only the head of the SFrame is printed.\n",
       " You can use print_rows(num_rows=m, num_columns=n) to print more rows and columns.}"
      ]
     },
     "execution_count": 15,
     "metadata": {},
     "output_type": "execute_result"
    }
   ],
   "source": [
    "ranking_factorization_model = turicreate.ranking_factorization_recommender.create(train, \n",
    "                                    user_id='Customer_Name', item_id='Product_Family',\n",
    "                                    num_factors=47, regularization=1e-4)\n",
    "ranking_factorization_model.evaluate(test)"
   ]
  },
  {
   "cell_type": "code",
   "execution_count": 19,
   "metadata": {},
   "outputs": [
    {
     "data": {
      "text/html": [
       "<pre>recommendations finished on 1000/21762 queries. users per second: 119746</pre>"
      ],
      "text/plain": [
       "recommendations finished on 1000/21762 queries. users per second: 119746"
      ]
     },
     "metadata": {},
     "output_type": "display_data"
    },
    {
     "data": {
      "text/html": [
       "<pre>recommendations finished on 2000/21762 queries. users per second: 134916</pre>"
      ],
      "text/plain": [
       "recommendations finished on 2000/21762 queries. users per second: 134916"
      ]
     },
     "metadata": {},
     "output_type": "display_data"
    },
    {
     "data": {
      "text/html": [
       "<pre>recommendations finished on 3000/21762 queries. users per second: 136780</pre>"
      ],
      "text/plain": [
       "recommendations finished on 3000/21762 queries. users per second: 136780"
      ]
     },
     "metadata": {},
     "output_type": "display_data"
    },
    {
     "data": {
      "text/html": [
       "<pre>recommendations finished on 4000/21762 queries. users per second: 137433</pre>"
      ],
      "text/plain": [
       "recommendations finished on 4000/21762 queries. users per second: 137433"
      ]
     },
     "metadata": {},
     "output_type": "display_data"
    },
    {
     "data": {
      "text/html": [
       "<pre>recommendations finished on 5000/21762 queries. users per second: 136612</pre>"
      ],
      "text/plain": [
       "recommendations finished on 5000/21762 queries. users per second: 136612"
      ]
     },
     "metadata": {},
     "output_type": "display_data"
    },
    {
     "data": {
      "text/html": [
       "<pre>recommendations finished on 6000/21762 queries. users per second: 137536</pre>"
      ],
      "text/plain": [
       "recommendations finished on 6000/21762 queries. users per second: 137536"
      ]
     },
     "metadata": {},
     "output_type": "display_data"
    },
    {
     "data": {
      "text/html": [
       "<pre>recommendations finished on 7000/21762 queries. users per second: 129383</pre>"
      ],
      "text/plain": [
       "recommendations finished on 7000/21762 queries. users per second: 129383"
      ]
     },
     "metadata": {},
     "output_type": "display_data"
    },
    {
     "data": {
      "text/html": [
       "<pre>recommendations finished on 8000/21762 queries. users per second: 123105</pre>"
      ],
      "text/plain": [
       "recommendations finished on 8000/21762 queries. users per second: 123105"
      ]
     },
     "metadata": {},
     "output_type": "display_data"
    },
    {
     "data": {
      "text/html": [
       "<pre>recommendations finished on 9000/21762 queries. users per second: 122369</pre>"
      ],
      "text/plain": [
       "recommendations finished on 9000/21762 queries. users per second: 122369"
      ]
     },
     "metadata": {},
     "output_type": "display_data"
    },
    {
     "data": {
      "text/html": [
       "<pre>recommendations finished on 10000/21762 queries. users per second: 122477</pre>"
      ],
      "text/plain": [
       "recommendations finished on 10000/21762 queries. users per second: 122477"
      ]
     },
     "metadata": {},
     "output_type": "display_data"
    },
    {
     "data": {
      "text/html": [
       "<pre>recommendations finished on 11000/21762 queries. users per second: 122672</pre>"
      ],
      "text/plain": [
       "recommendations finished on 11000/21762 queries. users per second: 122672"
      ]
     },
     "metadata": {},
     "output_type": "display_data"
    },
    {
     "data": {
      "text/html": [
       "<pre>recommendations finished on 12000/21762 queries. users per second: 122448</pre>"
      ],
      "text/plain": [
       "recommendations finished on 12000/21762 queries. users per second: 122448"
      ]
     },
     "metadata": {},
     "output_type": "display_data"
    },
    {
     "data": {
      "text/html": [
       "<pre>recommendations finished on 13000/21762 queries. users per second: 120631</pre>"
      ],
      "text/plain": [
       "recommendations finished on 13000/21762 queries. users per second: 120631"
      ]
     },
     "metadata": {},
     "output_type": "display_data"
    },
    {
     "data": {
      "text/html": [
       "<pre>recommendations finished on 14000/21762 queries. users per second: 119710</pre>"
      ],
      "text/plain": [
       "recommendations finished on 14000/21762 queries. users per second: 119710"
      ]
     },
     "metadata": {},
     "output_type": "display_data"
    },
    {
     "data": {
      "text/html": [
       "<pre>recommendations finished on 15000/21762 queries. users per second: 119238</pre>"
      ],
      "text/plain": [
       "recommendations finished on 15000/21762 queries. users per second: 119238"
      ]
     },
     "metadata": {},
     "output_type": "display_data"
    },
    {
     "data": {
      "text/html": [
       "<pre>recommendations finished on 16000/21762 queries. users per second: 119186</pre>"
      ],
      "text/plain": [
       "recommendations finished on 16000/21762 queries. users per second: 119186"
      ]
     },
     "metadata": {},
     "output_type": "display_data"
    },
    {
     "data": {
      "text/html": [
       "<pre>recommendations finished on 17000/21762 queries. users per second: 119929</pre>"
      ],
      "text/plain": [
       "recommendations finished on 17000/21762 queries. users per second: 119929"
      ]
     },
     "metadata": {},
     "output_type": "display_data"
    },
    {
     "data": {
      "text/html": [
       "<pre>recommendations finished on 18000/21762 queries. users per second: 119058</pre>"
      ],
      "text/plain": [
       "recommendations finished on 18000/21762 queries. users per second: 119058"
      ]
     },
     "metadata": {},
     "output_type": "display_data"
    },
    {
     "data": {
      "text/html": [
       "<pre>recommendations finished on 19000/21762 queries. users per second: 118915</pre>"
      ],
      "text/plain": [
       "recommendations finished on 19000/21762 queries. users per second: 118915"
      ]
     },
     "metadata": {},
     "output_type": "display_data"
    },
    {
     "data": {
      "text/html": [
       "<pre>recommendations finished on 20000/21762 queries. users per second: 118908</pre>"
      ],
      "text/plain": [
       "recommendations finished on 20000/21762 queries. users per second: 118908"
      ]
     },
     "metadata": {},
     "output_type": "display_data"
    },
    {
     "data": {
      "text/html": [
       "<pre>recommendations finished on 21000/21762 queries. users per second: 118787</pre>"
      ],
      "text/plain": [
       "recommendations finished on 21000/21762 queries. users per second: 118787"
      ]
     },
     "metadata": {},
     "output_type": "display_data"
    }
   ],
   "source": [
    "b = ranking_factorization_model.recommend(data.Customer_Name.unique(), k=10)"
   ]
  },
  {
   "cell_type": "code",
   "execution_count": 20,
   "metadata": {},
   "outputs": [
    {
     "data": {
      "text/html": [
       "<div style=\"max-height:1000px;max-width:1500px;overflow:auto;\"><table frame=\"box\" rules=\"cols\">\n",
       "    <tr>\n",
       "        <th style=\"padding-left: 1em; padding-right: 1em; text-align: center\">Customer_Name</th>\n",
       "        <th style=\"padding-left: 1em; padding-right: 1em; text-align: center\">Product_Family</th>\n",
       "        <th style=\"padding-left: 1em; padding-right: 1em; text-align: center\">score</th>\n",
       "        <th style=\"padding-left: 1em; padding-right: 1em; text-align: center\">rank</th>\n",
       "    </tr>\n",
       "    <tr>\n",
       "        <td style=\"padding-left: 1em; padding-right: 1em; text-align: center; vertical-align: top\"> interceramic</td>\n",
       "        <td style=\"padding-left: 1em; padding-right: 1em; text-align: center; vertical-align: top\">ldms</td>\n",
       "        <td style=\"padding-left: 1em; padding-right: 1em; text-align: center; vertical-align: top\">0.7658251538057307</td>\n",
       "        <td style=\"padding-left: 1em; padding-right: 1em; text-align: center; vertical-align: top\">1</td>\n",
       "    </tr>\n",
       "    <tr>\n",
       "        <td style=\"padding-left: 1em; padding-right: 1em; text-align: center; vertical-align: top\"> interceramic</td>\n",
       "        <td style=\"padding-left: 1em; padding-right: 1em; text-align: center; vertical-align: top\">anti virus</td>\n",
       "        <td style=\"padding-left: 1em; padding-right: 1em; text-align: center; vertical-align: top\">0.5073603173226029</td>\n",
       "        <td style=\"padding-left: 1em; padding-right: 1em; text-align: center; vertical-align: top\">2</td>\n",
       "    </tr>\n",
       "    <tr>\n",
       "        <td style=\"padding-left: 1em; padding-right: 1em; text-align: center; vertical-align: top\"> interceramic</td>\n",
       "        <td style=\"padding-left: 1em; padding-right: 1em; text-align: center; vertical-align: top\">patch manager</td>\n",
       "        <td style=\"padding-left: 1em; padding-right: 1em; text-align: center; vertical-align: top\">0.37947709460896734</td>\n",
       "        <td style=\"padding-left: 1em; padding-right: 1em; text-align: center; vertical-align: top\">3</td>\n",
       "    </tr>\n",
       "    <tr>\n",
       "        <td style=\"padding-left: 1em; padding-right: 1em; text-align: center; vertical-align: top\"> interceramic</td>\n",
       "        <td style=\"padding-left: 1em; padding-right: 1em; text-align: center; vertical-align: top\">desktopnow</td>\n",
       "        <td style=\"padding-left: 1em; padding-right: 1em; text-align: center; vertical-align: top\">0.35793753269742046</td>\n",
       "        <td style=\"padding-left: 1em; padding-right: 1em; text-align: center; vertical-align: top\">4</td>\n",
       "    </tr>\n",
       "    <tr>\n",
       "        <td style=\"padding-left: 1em; padding-right: 1em; text-align: center; vertical-align: top\"> interceramic</td>\n",
       "        <td style=\"padding-left: 1em; padding-right: 1em; text-align: center; vertical-align: top\">managed planet</td>\n",
       "        <td style=\"padding-left: 1em; padding-right: 1em; text-align: center; vertical-align: top\">0.26728879229677766</td>\n",
       "        <td style=\"padding-left: 1em; padding-right: 1em; text-align: center; vertical-align: top\">5</td>\n",
       "    </tr>\n",
       "    <tr>\n",
       "        <td style=\"padding-left: 1em; padding-right: 1em; text-align: center; vertical-align: top\"> interceramic</td>\n",
       "        <td style=\"padding-left: 1em; padding-right: 1em; text-align: center; vertical-align: top\">service desk</td>\n",
       "        <td style=\"padding-left: 1em; padding-right: 1em; text-align: center; vertical-align: top\">0.26313511895174174</td>\n",
       "        <td style=\"padding-left: 1em; padding-right: 1em; text-align: center; vertical-align: top\">6</td>\n",
       "    </tr>\n",
       "    <tr>\n",
       "        <td style=\"padding-left: 1em; padding-right: 1em; text-align: center; vertical-align: top\"> interceramic</td>\n",
       "        <td style=\"padding-left: 1em; padding-right: 1em; text-align: center; vertical-align: top\">shavlik patch</td>\n",
       "        <td style=\"padding-left: 1em; padding-right: 1em; text-align: center; vertical-align: top\">0.2556236334574495</td>\n",
       "        <td style=\"padding-left: 1em; padding-right: 1em; text-align: center; vertical-align: top\">7</td>\n",
       "    </tr>\n",
       "    <tr>\n",
       "        <td style=\"padding-left: 1em; padding-right: 1em; text-align: center; vertical-align: top\"> interceramic</td>\n",
       "        <td style=\"padding-left: 1em; padding-right: 1em; text-align: center; vertical-align: top\">others</td>\n",
       "        <td style=\"padding-left: 1em; padding-right: 1em; text-align: center; vertical-align: top\">0.2504824132619376</td>\n",
       "        <td style=\"padding-left: 1em; padding-right: 1em; text-align: center; vertical-align: top\">8</td>\n",
       "    </tr>\n",
       "    <tr>\n",
       "        <td style=\"padding-left: 1em; padding-right: 1em; text-align: center; vertical-align: top\"> interceramic</td>\n",
       "        <td style=\"padding-left: 1em; padding-right: 1em; text-align: center; vertical-align: top\">protect</td>\n",
       "        <td style=\"padding-left: 1em; padding-right: 1em; text-align: center; vertical-align: top\">0.2439095709341365</td>\n",
       "        <td style=\"padding-left: 1em; padding-right: 1em; text-align: center; vertical-align: top\">9</td>\n",
       "    </tr>\n",
       "    <tr>\n",
       "        <td style=\"padding-left: 1em; padding-right: 1em; text-align: center; vertical-align: top\"> interceramic</td>\n",
       "        <td style=\"padding-left: 1em; padding-right: 1em; text-align: center; vertical-align: top\">datanow</td>\n",
       "        <td style=\"padding-left: 1em; padding-right: 1em; text-align: center; vertical-align: top\">0.20146620116220515</td>\n",
       "        <td style=\"padding-left: 1em; padding-right: 1em; text-align: center; vertical-align: top\">10</td>\n",
       "    </tr>\n",
       "</table>\n",
       "[217620 rows x 4 columns]<br/>Note: Only the head of the SFrame is printed.<br/>You can use print_rows(num_rows=m, num_columns=n) to print more rows and columns.\n",
       "</div>"
      ],
      "text/plain": [
       "Columns:\n",
       "\tCustomer_Name\tstr\n",
       "\tProduct_Family\tstr\n",
       "\tscore\tfloat\n",
       "\trank\tint\n",
       "\n",
       "Rows: 217620\n",
       "\n",
       "Data:\n",
       "+---------------+----------------+---------------------+------+\n",
       "| Customer_Name | Product_Family |        score        | rank |\n",
       "+---------------+----------------+---------------------+------+\n",
       "|  interceramic |      ldms      |  0.7658251538057307 |  1   |\n",
       "|  interceramic |   anti virus   |  0.5073603173226029 |  2   |\n",
       "|  interceramic | patch manager  | 0.37947709460896734 |  3   |\n",
       "|  interceramic |   desktopnow   | 0.35793753269742046 |  4   |\n",
       "|  interceramic | managed planet | 0.26728879229677766 |  5   |\n",
       "|  interceramic |  service desk  | 0.26313511895174174 |  6   |\n",
       "|  interceramic | shavlik patch  |  0.2556236334574495 |  7   |\n",
       "|  interceramic |     others     |  0.2504824132619376 |  8   |\n",
       "|  interceramic |    protect     |  0.2439095709341365 |  9   |\n",
       "|  interceramic |    datanow     | 0.20146620116220515 |  10  |\n",
       "+---------------+----------------+---------------------+------+\n",
       "[217620 rows x 4 columns]\n",
       "Note: Only the head of the SFrame is printed.\n",
       "You can use print_rows(num_rows=m, num_columns=n) to print more rows and columns."
      ]
     },
     "execution_count": 20,
     "metadata": {},
     "output_type": "execute_result"
    }
   ],
   "source": [
    "b"
   ]
  },
  {
   "cell_type": "code",
   "execution_count": 22,
   "metadata": {},
   "outputs": [],
   "source": [
    "b.export_csv(\"Recommended Products.csv\")"
   ]
  },
  {
   "cell_type": "code",
   "execution_count": 27,
   "metadata": {},
   "outputs": [],
   "source": [
    "c = ranking_factorization_model.get_similar_items(turicreate.SArray(data.Product_Family.unique()),k=5)"
   ]
  },
  {
   "cell_type": "code",
   "execution_count": 28,
   "metadata": {},
   "outputs": [
    {
     "data": {
      "text/html": [
       "<div style=\"max-height:1000px;max-width:1500px;overflow:auto;\"><table frame=\"box\" rules=\"cols\">\n",
       "    <tr>\n",
       "        <th style=\"padding-left: 1em; padding-right: 1em; text-align: center\">Product_Family</th>\n",
       "        <th style=\"padding-left: 1em; padding-right: 1em; text-align: center\">similar</th>\n",
       "        <th style=\"padding-left: 1em; padding-right: 1em; text-align: center\">score</th>\n",
       "        <th style=\"padding-left: 1em; padding-right: 1em; text-align: center\">rank</th>\n",
       "    </tr>\n",
       "    <tr>\n",
       "        <td style=\"padding-left: 1em; padding-right: 1em; text-align: center; vertical-align: top\">security suite</td>\n",
       "        <td style=\"padding-left: 1em; padding-right: 1em; text-align: center; vertical-align: top\">heat classic</td>\n",
       "        <td style=\"padding-left: 1em; padding-right: 1em; text-align: center; vertical-align: top\">3.402498542183438e+38</td>\n",
       "        <td style=\"padding-left: 1em; padding-right: 1em; text-align: center; vertical-align: top\">1</td>\n",
       "    </tr>\n",
       "    <tr>\n",
       "        <td style=\"padding-left: 1em; padding-right: 1em; text-align: center; vertical-align: top\">security suite</td>\n",
       "        <td style=\"padding-left: 1em; padding-right: 1em; text-align: center; vertical-align: top\">application manager</td>\n",
       "        <td style=\"padding-left: 1em; padding-right: 1em; text-align: center; vertical-align: top\">2.28003287790778e+38</td>\n",
       "        <td style=\"padding-left: 1em; padding-right: 1em; text-align: center; vertical-align: top\">2</td>\n",
       "    </tr>\n",
       "    <tr>\n",
       "        <td style=\"padding-left: 1em; padding-right: 1em; text-align: center; vertical-align: top\">security suite</td>\n",
       "        <td style=\"padding-left: 1em; padding-right: 1em; text-align: center; vertical-align: top\">protect</td>\n",
       "        <td style=\"padding-left: 1em; padding-right: 1em; text-align: center; vertical-align: top\">1.5719323677346077e+20</td>\n",
       "        <td style=\"padding-left: 1em; padding-right: 1em; text-align: center; vertical-align: top\">3</td>\n",
       "    </tr>\n",
       "    <tr>\n",
       "        <td style=\"padding-left: 1em; padding-right: 1em; text-align: center; vertical-align: top\">security suite</td>\n",
       "        <td style=\"padding-left: 1em; padding-right: 1em; text-align: center; vertical-align: top\">emss</td>\n",
       "        <td style=\"padding-left: 1em; padding-right: 1em; text-align: center; vertical-align: top\">7.739758776250112e+19</td>\n",
       "        <td style=\"padding-left: 1em; padding-right: 1em; text-align: center; vertical-align: top\">4</td>\n",
       "    </tr>\n",
       "    <tr>\n",
       "        <td style=\"padding-left: 1em; padding-right: 1em; text-align: center; vertical-align: top\">security suite</td>\n",
       "        <td style=\"padding-left: 1em; padding-right: 1em; text-align: center; vertical-align: top\">managed planet</td>\n",
       "        <td style=\"padding-left: 1em; padding-right: 1em; text-align: center; vertical-align: top\">4.359883781917848e+19</td>\n",
       "        <td style=\"padding-left: 1em; padding-right: 1em; text-align: center; vertical-align: top\">5</td>\n",
       "    </tr>\n",
       "    <tr>\n",
       "        <td style=\"padding-left: 1em; padding-right: 1em; text-align: center; vertical-align: top\">anti virus</td>\n",
       "        <td style=\"padding-left: 1em; padding-right: 1em; text-align: center; vertical-align: top\">ldms</td>\n",
       "        <td style=\"padding-left: 1em; padding-right: 1em; text-align: center; vertical-align: top\">8.856625975168231e+19</td>\n",
       "        <td style=\"padding-left: 1em; padding-right: 1em; text-align: center; vertical-align: top\">1</td>\n",
       "    </tr>\n",
       "    <tr>\n",
       "        <td style=\"padding-left: 1em; padding-right: 1em; text-align: center; vertical-align: top\">anti virus</td>\n",
       "        <td style=\"padding-left: 1em; padding-right: 1em; text-align: center; vertical-align: top\">dsm</td>\n",
       "        <td style=\"padding-left: 1em; padding-right: 1em; text-align: center; vertical-align: top\">2.8911675844555964e+19</td>\n",
       "        <td style=\"padding-left: 1em; padding-right: 1em; text-align: center; vertical-align: top\">2</td>\n",
       "    </tr>\n",
       "    <tr>\n",
       "        <td style=\"padding-left: 1em; padding-right: 1em; text-align: center; vertical-align: top\">anti virus</td>\n",
       "        <td style=\"padding-left: 1em; padding-right: 1em; text-align: center; vertical-align: top\">xtraction</td>\n",
       "        <td style=\"padding-left: 1em; padding-right: 1em; text-align: center; vertical-align: top\">1.7787075579950924e+19</td>\n",
       "        <td style=\"padding-left: 1em; padding-right: 1em; text-align: center; vertical-align: top\">3</td>\n",
       "    </tr>\n",
       "    <tr>\n",
       "        <td style=\"padding-left: 1em; padding-right: 1em; text-align: center; vertical-align: top\">anti virus</td>\n",
       "        <td style=\"padding-left: 1em; padding-right: 1em; text-align: center; vertical-align: top\">ldim (inventory manager)</td>\n",
       "        <td style=\"padding-left: 1em; padding-right: 1em; text-align: center; vertical-align: top\">1.6591774499163079e+19</td>\n",
       "        <td style=\"padding-left: 1em; padding-right: 1em; text-align: center; vertical-align: top\">4</td>\n",
       "    </tr>\n",
       "    <tr>\n",
       "        <td style=\"padding-left: 1em; padding-right: 1em; text-align: center; vertical-align: top\">anti virus</td>\n",
       "        <td style=\"padding-left: 1em; padding-right: 1em; text-align: center; vertical-align: top\">ht oem</td>\n",
       "        <td style=\"padding-left: 1em; padding-right: 1em; text-align: center; vertical-align: top\">7.129859016615789e+18</td>\n",
       "        <td style=\"padding-left: 1em; padding-right: 1em; text-align: center; vertical-align: top\">5</td>\n",
       "    </tr>\n",
       "</table>\n",
       "[235 rows x 4 columns]<br/>Note: Only the head of the SFrame is printed.<br/>You can use print_rows(num_rows=m, num_columns=n) to print more rows and columns.\n",
       "</div>"
      ],
      "text/plain": [
       "Columns:\n",
       "\tProduct_Family\tstr\n",
       "\tsimilar\tstr\n",
       "\tscore\tfloat\n",
       "\trank\tint\n",
       "\n",
       "Rows: 235\n",
       "\n",
       "Data:\n",
       "+----------------+--------------------------+------------------------+------+\n",
       "| Product_Family |         similar          |         score          | rank |\n",
       "+----------------+--------------------------+------------------------+------+\n",
       "| security suite |       heat classic       | 3.402498542183438e+38  |  1   |\n",
       "| security suite |   application manager    |  2.28003287790778e+38  |  2   |\n",
       "| security suite |         protect          | 1.5719323677346077e+20 |  3   |\n",
       "| security suite |           emss           | 7.739758776250112e+19  |  4   |\n",
       "| security suite |      managed planet      | 4.359883781917848e+19  |  5   |\n",
       "|   anti virus   |           ldms           | 8.856625975168231e+19  |  1   |\n",
       "|   anti virus   |           dsm            | 2.8911675844555964e+19 |  2   |\n",
       "|   anti virus   |        xtraction         | 1.7787075579950924e+19 |  3   |\n",
       "|   anti virus   | ldim (inventory manager) | 1.6591774499163079e+19 |  4   |\n",
       "|   anti virus   |          ht oem          | 7.129859016615789e+18  |  5   |\n",
       "+----------------+--------------------------+------------------------+------+\n",
       "[235 rows x 4 columns]\n",
       "Note: Only the head of the SFrame is printed.\n",
       "You can use print_rows(num_rows=m, num_columns=n) to print more rows and columns."
      ]
     },
     "execution_count": 28,
     "metadata": {},
     "output_type": "execute_result"
    }
   ],
   "source": [
    "c"
   ]
  },
  {
   "cell_type": "code",
   "execution_count": 29,
   "metadata": {},
   "outputs": [],
   "source": [
    "c.export_csv(\"Similar Products.csv\")"
   ]
  },
  {
   "cell_type": "code",
   "execution_count": 31,
   "metadata": {},
   "outputs": [
    {
     "data": {
      "text/html": [
       "<pre>Getting similar users completed in 18.0149</pre>"
      ],
      "text/plain": [
       "Getting similar users completed in 18.0149"
      ]
     },
     "metadata": {},
     "output_type": "display_data"
    }
   ],
   "source": [
    "d = ranking_factorization_model.get_similar_users(turicreate.SArray(data.Customer_Name.unique()),k=10)"
   ]
  },
  {
   "cell_type": "code",
   "execution_count": 32,
   "metadata": {},
   "outputs": [
    {
     "data": {
      "text/html": [
       "<div style=\"max-height:1000px;max-width:1500px;overflow:auto;\"><table frame=\"box\" rules=\"cols\">\n",
       "    <tr>\n",
       "        <th style=\"padding-left: 1em; padding-right: 1em; text-align: center\">Customer_Name</th>\n",
       "        <th style=\"padding-left: 1em; padding-right: 1em; text-align: center\">similar</th>\n",
       "        <th style=\"padding-left: 1em; padding-right: 1em; text-align: center\">score</th>\n",
       "        <th style=\"padding-left: 1em; padding-right: 1em; text-align: center\">rank</th>\n",
       "    </tr>\n",
       "    <tr>\n",
       "        <td style=\"padding-left: 1em; padding-right: 1em; text-align: center; vertical-align: top\"> interceramic</td>\n",
       "        <td style=\"padding-left: 1em; padding-right: 1em; text-align: center; vertical-align: top\">aerovironment inc.</td>\n",
       "        <td style=\"padding-left: 1em; padding-right: 1em; text-align: center; vertical-align: top\">1.0246274642209669e+18</td>\n",
       "        <td style=\"padding-left: 1em; padding-right: 1em; text-align: center; vertical-align: top\">1</td>\n",
       "    </tr>\n",
       "    <tr>\n",
       "        <td style=\"padding-left: 1em; padding-right: 1em; text-align: center; vertical-align: top\"> interceramic</td>\n",
       "        <td style=\"padding-left: 1em; padding-right: 1em; text-align: center; vertical-align: top\">nfi interactive logistics<br>llc ...</td>\n",
       "        <td style=\"padding-left: 1em; padding-right: 1em; text-align: center; vertical-align: top\">1.0024566368805847e+18</td>\n",
       "        <td style=\"padding-left: 1em; padding-right: 1em; text-align: center; vertical-align: top\">2</td>\n",
       "    </tr>\n",
       "    <tr>\n",
       "        <td style=\"padding-left: 1em; padding-right: 1em; text-align: center; vertical-align: top\"> interceramic</td>\n",
       "        <td style=\"padding-left: 1em; padding-right: 1em; text-align: center; vertical-align: top\">university of north<br>georgia ...</td>\n",
       "        <td style=\"padding-left: 1em; padding-right: 1em; text-align: center; vertical-align: top\">9.927185372712796e+17</td>\n",
       "        <td style=\"padding-left: 1em; padding-right: 1em; text-align: center; vertical-align: top\">3</td>\n",
       "    </tr>\n",
       "    <tr>\n",
       "        <td style=\"padding-left: 1em; padding-right: 1em; text-align: center; vertical-align: top\"> interceramic</td>\n",
       "        <td style=\"padding-left: 1em; padding-right: 1em; text-align: center; vertical-align: top\">uga-college of veterinary<br>medicine of georgia ...</td>\n",
       "        <td style=\"padding-left: 1em; padding-right: 1em; text-align: center; vertical-align: top\">9.847624711326925e+17</td>\n",
       "        <td style=\"padding-left: 1em; padding-right: 1em; text-align: center; vertical-align: top\">4</td>\n",
       "    </tr>\n",
       "    <tr>\n",
       "        <td style=\"padding-left: 1em; padding-right: 1em; text-align: center; vertical-align: top\"> interceramic</td>\n",
       "        <td style=\"padding-left: 1em; padding-right: 1em; text-align: center; vertical-align: top\">university of west<br>georgia ...</td>\n",
       "        <td style=\"padding-left: 1em; padding-right: 1em; text-align: center; vertical-align: top\">9.740440194682716e+17</td>\n",
       "        <td style=\"padding-left: 1em; padding-right: 1em; text-align: center; vertical-align: top\">5</td>\n",
       "    </tr>\n",
       "    <tr>\n",
       "        <td style=\"padding-left: 1em; padding-right: 1em; text-align: center; vertical-align: top\"> interceramic</td>\n",
       "        <td style=\"padding-left: 1em; padding-right: 1em; text-align: center; vertical-align: top\">university of georgia-<br>oit/college of education ...</td>\n",
       "        <td style=\"padding-left: 1em; padding-right: 1em; text-align: center; vertical-align: top\">9.640168170203382e+17</td>\n",
       "        <td style=\"padding-left: 1em; padding-right: 1em; text-align: center; vertical-align: top\">6</td>\n",
       "    </tr>\n",
       "    <tr>\n",
       "        <td style=\"padding-left: 1em; padding-right: 1em; text-align: center; vertical-align: top\"> interceramic</td>\n",
       "        <td style=\"padding-left: 1em; padding-right: 1em; text-align: center; vertical-align: top\">health resources and<br>services ...</td>\n",
       "        <td style=\"padding-left: 1em; padding-right: 1em; text-align: center; vertical-align: top\">9.491523131660042e+17</td>\n",
       "        <td style=\"padding-left: 1em; padding-right: 1em; text-align: center; vertical-align: top\">7</td>\n",
       "    </tr>\n",
       "    <tr>\n",
       "        <td style=\"padding-left: 1em; padding-right: 1em; text-align: center; vertical-align: top\"> interceramic</td>\n",
       "        <td style=\"padding-left: 1em; padding-right: 1em; text-align: center; vertical-align: top\">owatonna public schools-<br>use owa501 ...</td>\n",
       "        <td style=\"padding-left: 1em; padding-right: 1em; text-align: center; vertical-align: top\">9.481389757620552e+17</td>\n",
       "        <td style=\"padding-left: 1em; padding-right: 1em; text-align: center; vertical-align: top\">8</td>\n",
       "    </tr>\n",
       "    <tr>\n",
       "        <td style=\"padding-left: 1em; padding-right: 1em; text-align: center; vertical-align: top\"> interceramic</td>\n",
       "        <td style=\"padding-left: 1em; padding-right: 1em; text-align: center; vertical-align: top\">board of regents</td>\n",
       "        <td style=\"padding-left: 1em; padding-right: 1em; text-align: center; vertical-align: top\">9.194040640038502e+17</td>\n",
       "        <td style=\"padding-left: 1em; padding-right: 1em; text-align: center; vertical-align: top\">9</td>\n",
       "    </tr>\n",
       "    <tr>\n",
       "        <td style=\"padding-left: 1em; padding-right: 1em; text-align: center; vertical-align: top\"> interceramic</td>\n",
       "        <td style=\"padding-left: 1em; padding-right: 1em; text-align: center; vertical-align: top\">system administrative<br>services ...</td>\n",
       "        <td style=\"padding-left: 1em; padding-right: 1em; text-align: center; vertical-align: top\">9.083675098816184e+17</td>\n",
       "        <td style=\"padding-left: 1em; padding-right: 1em; text-align: center; vertical-align: top\">10</td>\n",
       "    </tr>\n",
       "</table>\n",
       "[217620 rows x 4 columns]<br/>Note: Only the head of the SFrame is printed.<br/>You can use print_rows(num_rows=m, num_columns=n) to print more rows and columns.\n",
       "</div>"
      ],
      "text/plain": [
       "Columns:\n",
       "\tCustomer_Name\tstr\n",
       "\tsimilar\tstr\n",
       "\tscore\tfloat\n",
       "\trank\tint\n",
       "\n",
       "Rows: 217620\n",
       "\n",
       "Data:\n",
       "+---------------+--------------------------------+------------------------+------+\n",
       "| Customer_Name |            similar             |         score          | rank |\n",
       "+---------------+--------------------------------+------------------------+------+\n",
       "|  interceramic |       aerovironment inc.       | 1.0246274642209669e+18 |  1   |\n",
       "|  interceramic | nfi interactive logistics llc  | 1.0024566368805847e+18 |  2   |\n",
       "|  interceramic |  university of north georgia   | 9.927185372712796e+17  |  3   |\n",
       "|  interceramic | uga-college of veterinary ...  | 9.847624711326925e+17  |  4   |\n",
       "|  interceramic |   university of west georgia   | 9.740440194682716e+17  |  5   |\n",
       "|  interceramic | university of georgia-oit/...  | 9.640168170203382e+17  |  6   |\n",
       "|  interceramic | health resources and services  | 9.491523131660042e+17  |  7   |\n",
       "|  interceramic | owatonna public schools-us...  | 9.481389757620552e+17  |  8   |\n",
       "|  interceramic |        board of regents        | 9.194040640038502e+17  |  9   |\n",
       "|  interceramic | system administrative services | 9.083675098816184e+17  |  10  |\n",
       "+---------------+--------------------------------+------------------------+------+\n",
       "[217620 rows x 4 columns]\n",
       "Note: Only the head of the SFrame is printed.\n",
       "You can use print_rows(num_rows=m, num_columns=n) to print more rows and columns."
      ]
     },
     "execution_count": 32,
     "metadata": {},
     "output_type": "execute_result"
    }
   ],
   "source": [
    "d"
   ]
  },
  {
   "cell_type": "code",
   "execution_count": 33,
   "metadata": {},
   "outputs": [],
   "source": [
    "d.export_csv(\"Similar Users.csv\")"
   ]
  },
  {
   "cell_type": "code",
   "execution_count": null,
   "metadata": {},
   "outputs": [],
   "source": []
  }
 ],
 "metadata": {
  "kernelspec": {
   "display_name": "Python 3",
   "language": "python",
   "name": "python3"
  },
  "language_info": {
   "codemirror_mode": {
    "name": "ipython",
    "version": 3
   },
   "file_extension": ".py",
   "mimetype": "text/x-python",
   "name": "python",
   "nbconvert_exporter": "python",
   "pygments_lexer": "ipython3",
   "version": "3.5.2"
  }
 },
 "nbformat": 4,
 "nbformat_minor": 2
}
